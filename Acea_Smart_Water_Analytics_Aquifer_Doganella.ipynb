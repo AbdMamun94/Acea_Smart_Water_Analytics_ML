{
 "cells": [
  {
   "cell_type": "code",
   "execution_count": 218,
   "metadata": {},
   "outputs": [],
   "source": [
    "import pandas as pd\n",
    "import numpy as np\n",
    "import matplotlib.pyplot as plt\n",
    "import seaborn as sns\n",
    "import missingno as msno"
   ]
  },
  {
   "cell_type": "code",
   "execution_count": 219,
   "metadata": {},
   "outputs": [],
   "source": [
    "Aquifer_Doganella = pd.read_csv('./datasets/Aquifer_Doganella.csv')"
   ]
  },
  {
   "cell_type": "code",
   "execution_count": 220,
   "metadata": {},
   "outputs": [
    {
     "data": {
      "text/html": [
       "<div>\n",
       "<style scoped>\n",
       "    .dataframe tbody tr th:only-of-type {\n",
       "        vertical-align: middle;\n",
       "    }\n",
       "\n",
       "    .dataframe tbody tr th {\n",
       "        vertical-align: top;\n",
       "    }\n",
       "\n",
       "    .dataframe thead th {\n",
       "        text-align: right;\n",
       "    }\n",
       "</style>\n",
       "<table border=\"1\" class=\"dataframe\">\n",
       "  <thead>\n",
       "    <tr style=\"text-align: right;\">\n",
       "      <th></th>\n",
       "      <th>Date</th>\n",
       "      <th>Rainfall_Monteporzio</th>\n",
       "      <th>Rainfall_Velletri</th>\n",
       "      <th>Depth_to_Groundwater_Pozzo_1</th>\n",
       "      <th>Depth_to_Groundwater_Pozzo_2</th>\n",
       "      <th>Depth_to_Groundwater_Pozzo_3</th>\n",
       "      <th>Depth_to_Groundwater_Pozzo_4</th>\n",
       "      <th>Depth_to_Groundwater_Pozzo_5</th>\n",
       "      <th>Depth_to_Groundwater_Pozzo_6</th>\n",
       "      <th>Depth_to_Groundwater_Pozzo_7</th>\n",
       "      <th>...</th>\n",
       "      <th>Volume_Pozzo_1</th>\n",
       "      <th>Volume_Pozzo_2</th>\n",
       "      <th>Volume_Pozzo_3</th>\n",
       "      <th>Volume_Pozzo_4</th>\n",
       "      <th>Volume_Pozzo_5+6</th>\n",
       "      <th>Volume_Pozzo_7</th>\n",
       "      <th>Volume_Pozzo_8</th>\n",
       "      <th>Volume_Pozzo_9</th>\n",
       "      <th>Temperature_Monteporzio</th>\n",
       "      <th>Temperature_Velletri</th>\n",
       "    </tr>\n",
       "  </thead>\n",
       "  <tbody>\n",
       "    <tr>\n",
       "      <th>0</th>\n",
       "      <td>01/01/2004</td>\n",
       "      <td>0.0</td>\n",
       "      <td>0.0</td>\n",
       "      <td>NaN</td>\n",
       "      <td>NaN</td>\n",
       "      <td>NaN</td>\n",
       "      <td>NaN</td>\n",
       "      <td>NaN</td>\n",
       "      <td>NaN</td>\n",
       "      <td>NaN</td>\n",
       "      <td>...</td>\n",
       "      <td>NaN</td>\n",
       "      <td>NaN</td>\n",
       "      <td>NaN</td>\n",
       "      <td>NaN</td>\n",
       "      <td>NaN</td>\n",
       "      <td>NaN</td>\n",
       "      <td>NaN</td>\n",
       "      <td>NaN</td>\n",
       "      <td>5.30</td>\n",
       "      <td>8.60</td>\n",
       "    </tr>\n",
       "    <tr>\n",
       "      <th>1</th>\n",
       "      <td>02/01/2004</td>\n",
       "      <td>0.2</td>\n",
       "      <td>0.8</td>\n",
       "      <td>NaN</td>\n",
       "      <td>NaN</td>\n",
       "      <td>NaN</td>\n",
       "      <td>NaN</td>\n",
       "      <td>NaN</td>\n",
       "      <td>NaN</td>\n",
       "      <td>NaN</td>\n",
       "      <td>...</td>\n",
       "      <td>NaN</td>\n",
       "      <td>NaN</td>\n",
       "      <td>NaN</td>\n",
       "      <td>NaN</td>\n",
       "      <td>NaN</td>\n",
       "      <td>NaN</td>\n",
       "      <td>NaN</td>\n",
       "      <td>NaN</td>\n",
       "      <td>4.70</td>\n",
       "      <td>6.25</td>\n",
       "    </tr>\n",
       "    <tr>\n",
       "      <th>2</th>\n",
       "      <td>03/01/2004</td>\n",
       "      <td>0.0</td>\n",
       "      <td>0.0</td>\n",
       "      <td>NaN</td>\n",
       "      <td>NaN</td>\n",
       "      <td>NaN</td>\n",
       "      <td>NaN</td>\n",
       "      <td>NaN</td>\n",
       "      <td>NaN</td>\n",
       "      <td>NaN</td>\n",
       "      <td>...</td>\n",
       "      <td>NaN</td>\n",
       "      <td>NaN</td>\n",
       "      <td>NaN</td>\n",
       "      <td>NaN</td>\n",
       "      <td>NaN</td>\n",
       "      <td>NaN</td>\n",
       "      <td>NaN</td>\n",
       "      <td>NaN</td>\n",
       "      <td>5.40</td>\n",
       "      <td>9.80</td>\n",
       "    </tr>\n",
       "    <tr>\n",
       "      <th>3</th>\n",
       "      <td>04/01/2004</td>\n",
       "      <td>0.0</td>\n",
       "      <td>0.0</td>\n",
       "      <td>NaN</td>\n",
       "      <td>NaN</td>\n",
       "      <td>NaN</td>\n",
       "      <td>NaN</td>\n",
       "      <td>NaN</td>\n",
       "      <td>NaN</td>\n",
       "      <td>NaN</td>\n",
       "      <td>...</td>\n",
       "      <td>NaN</td>\n",
       "      <td>NaN</td>\n",
       "      <td>NaN</td>\n",
       "      <td>NaN</td>\n",
       "      <td>NaN</td>\n",
       "      <td>NaN</td>\n",
       "      <td>NaN</td>\n",
       "      <td>NaN</td>\n",
       "      <td>3.35</td>\n",
       "      <td>5.95</td>\n",
       "    </tr>\n",
       "    <tr>\n",
       "      <th>4</th>\n",
       "      <td>05/01/2004</td>\n",
       "      <td>0.2</td>\n",
       "      <td>0.0</td>\n",
       "      <td>NaN</td>\n",
       "      <td>NaN</td>\n",
       "      <td>NaN</td>\n",
       "      <td>NaN</td>\n",
       "      <td>NaN</td>\n",
       "      <td>NaN</td>\n",
       "      <td>NaN</td>\n",
       "      <td>...</td>\n",
       "      <td>NaN</td>\n",
       "      <td>NaN</td>\n",
       "      <td>NaN</td>\n",
       "      <td>NaN</td>\n",
       "      <td>NaN</td>\n",
       "      <td>NaN</td>\n",
       "      <td>NaN</td>\n",
       "      <td>NaN</td>\n",
       "      <td>3.60</td>\n",
       "      <td>5.85</td>\n",
       "    </tr>\n",
       "    <tr>\n",
       "      <th>...</th>\n",
       "      <td>...</td>\n",
       "      <td>...</td>\n",
       "      <td>...</td>\n",
       "      <td>...</td>\n",
       "      <td>...</td>\n",
       "      <td>...</td>\n",
       "      <td>...</td>\n",
       "      <td>...</td>\n",
       "      <td>...</td>\n",
       "      <td>...</td>\n",
       "      <td>...</td>\n",
       "      <td>...</td>\n",
       "      <td>...</td>\n",
       "      <td>...</td>\n",
       "      <td>...</td>\n",
       "      <td>...</td>\n",
       "      <td>...</td>\n",
       "      <td>...</td>\n",
       "      <td>...</td>\n",
       "      <td>...</td>\n",
       "      <td>...</td>\n",
       "    </tr>\n",
       "    <tr>\n",
       "      <th>6021</th>\n",
       "      <td>26/06/2020</td>\n",
       "      <td>0.0</td>\n",
       "      <td>0.0</td>\n",
       "      <td>-50.32</td>\n",
       "      <td>-100.35</td>\n",
       "      <td>-100.880</td>\n",
       "      <td>-101.49</td>\n",
       "      <td>-104.31</td>\n",
       "      <td>-97.94</td>\n",
       "      <td>-96.59</td>\n",
       "      <td>...</td>\n",
       "      <td>1516.104</td>\n",
       "      <td>3883.932</td>\n",
       "      <td>2526.516</td>\n",
       "      <td>3867.876</td>\n",
       "      <td>7949.304</td>\n",
       "      <td>2684.412</td>\n",
       "      <td>3911.832</td>\n",
       "      <td>3450.132</td>\n",
       "      <td>21.05</td>\n",
       "      <td>23.39</td>\n",
       "    </tr>\n",
       "    <tr>\n",
       "      <th>6022</th>\n",
       "      <td>27/06/2020</td>\n",
       "      <td>0.0</td>\n",
       "      <td>0.0</td>\n",
       "      <td>-50.32</td>\n",
       "      <td>-100.56</td>\n",
       "      <td>-100.840</td>\n",
       "      <td>-101.59</td>\n",
       "      <td>-104.30</td>\n",
       "      <td>-97.96</td>\n",
       "      <td>-96.44</td>\n",
       "      <td>...</td>\n",
       "      <td>1491.408</td>\n",
       "      <td>3884.724</td>\n",
       "      <td>2871.864</td>\n",
       "      <td>3867.300</td>\n",
       "      <td>7590.564</td>\n",
       "      <td>2681.280</td>\n",
       "      <td>3899.772</td>\n",
       "      <td>3449.088</td>\n",
       "      <td>22.18</td>\n",
       "      <td>24.44</td>\n",
       "    </tr>\n",
       "    <tr>\n",
       "      <th>6023</th>\n",
       "      <td>28/06/2020</td>\n",
       "      <td>0.0</td>\n",
       "      <td>0.0</td>\n",
       "      <td>-50.32</td>\n",
       "      <td>-100.56</td>\n",
       "      <td>-100.920</td>\n",
       "      <td>-101.59</td>\n",
       "      <td>-104.30</td>\n",
       "      <td>-98.46</td>\n",
       "      <td>-96.44</td>\n",
       "      <td>...</td>\n",
       "      <td>1485.756</td>\n",
       "      <td>3885.228</td>\n",
       "      <td>2858.400</td>\n",
       "      <td>3869.352</td>\n",
       "      <td>7944.660</td>\n",
       "      <td>2962.980</td>\n",
       "      <td>3901.032</td>\n",
       "      <td>3449.808</td>\n",
       "      <td>23.06</td>\n",
       "      <td>25.43</td>\n",
       "    </tr>\n",
       "    <tr>\n",
       "      <th>6024</th>\n",
       "      <td>29/06/2020</td>\n",
       "      <td>0.0</td>\n",
       "      <td>0.0</td>\n",
       "      <td>-50.32</td>\n",
       "      <td>-100.56</td>\n",
       "      <td>-101.190</td>\n",
       "      <td>-101.59</td>\n",
       "      <td>-104.30</td>\n",
       "      <td>-98.46</td>\n",
       "      <td>-96.10</td>\n",
       "      <td>...</td>\n",
       "      <td>1479.636</td>\n",
       "      <td>3888.684</td>\n",
       "      <td>2499.444</td>\n",
       "      <td>3873.096</td>\n",
       "      <td>7947.684</td>\n",
       "      <td>2653.884</td>\n",
       "      <td>3904.776</td>\n",
       "      <td>3129.336</td>\n",
       "      <td>22.03</td>\n",
       "      <td>24.22</td>\n",
       "    </tr>\n",
       "    <tr>\n",
       "      <th>6025</th>\n",
       "      <td>30/06/2020</td>\n",
       "      <td>0.0</td>\n",
       "      <td>0.0</td>\n",
       "      <td>-50.78</td>\n",
       "      <td>-100.56</td>\n",
       "      <td>-101.235</td>\n",
       "      <td>-101.59</td>\n",
       "      <td>-104.30</td>\n",
       "      <td>-98.47</td>\n",
       "      <td>-96.10</td>\n",
       "      <td>...</td>\n",
       "      <td>1470.096</td>\n",
       "      <td>3875.328</td>\n",
       "      <td>2812.356</td>\n",
       "      <td>3870.864</td>\n",
       "      <td>7941.996</td>\n",
       "      <td>2964.168</td>\n",
       "      <td>3901.932</td>\n",
       "      <td>3448.440</td>\n",
       "      <td>21.90</td>\n",
       "      <td>23.97</td>\n",
       "    </tr>\n",
       "  </tbody>\n",
       "</table>\n",
       "<p>6026 rows × 22 columns</p>\n",
       "</div>"
      ],
      "text/plain": [
       "            Date  Rainfall_Monteporzio  Rainfall_Velletri  \\\n",
       "0     01/01/2004                   0.0                0.0   \n",
       "1     02/01/2004                   0.2                0.8   \n",
       "2     03/01/2004                   0.0                0.0   \n",
       "3     04/01/2004                   0.0                0.0   \n",
       "4     05/01/2004                   0.2                0.0   \n",
       "...          ...                   ...                ...   \n",
       "6021  26/06/2020                   0.0                0.0   \n",
       "6022  27/06/2020                   0.0                0.0   \n",
       "6023  28/06/2020                   0.0                0.0   \n",
       "6024  29/06/2020                   0.0                0.0   \n",
       "6025  30/06/2020                   0.0                0.0   \n",
       "\n",
       "      Depth_to_Groundwater_Pozzo_1  Depth_to_Groundwater_Pozzo_2  \\\n",
       "0                              NaN                           NaN   \n",
       "1                              NaN                           NaN   \n",
       "2                              NaN                           NaN   \n",
       "3                              NaN                           NaN   \n",
       "4                              NaN                           NaN   \n",
       "...                            ...                           ...   \n",
       "6021                        -50.32                       -100.35   \n",
       "6022                        -50.32                       -100.56   \n",
       "6023                        -50.32                       -100.56   \n",
       "6024                        -50.32                       -100.56   \n",
       "6025                        -50.78                       -100.56   \n",
       "\n",
       "      Depth_to_Groundwater_Pozzo_3  Depth_to_Groundwater_Pozzo_4  \\\n",
       "0                              NaN                           NaN   \n",
       "1                              NaN                           NaN   \n",
       "2                              NaN                           NaN   \n",
       "3                              NaN                           NaN   \n",
       "4                              NaN                           NaN   \n",
       "...                            ...                           ...   \n",
       "6021                      -100.880                       -101.49   \n",
       "6022                      -100.840                       -101.59   \n",
       "6023                      -100.920                       -101.59   \n",
       "6024                      -101.190                       -101.59   \n",
       "6025                      -101.235                       -101.59   \n",
       "\n",
       "      Depth_to_Groundwater_Pozzo_5  Depth_to_Groundwater_Pozzo_6  \\\n",
       "0                              NaN                           NaN   \n",
       "1                              NaN                           NaN   \n",
       "2                              NaN                           NaN   \n",
       "3                              NaN                           NaN   \n",
       "4                              NaN                           NaN   \n",
       "...                            ...                           ...   \n",
       "6021                       -104.31                        -97.94   \n",
       "6022                       -104.30                        -97.96   \n",
       "6023                       -104.30                        -98.46   \n",
       "6024                       -104.30                        -98.46   \n",
       "6025                       -104.30                        -98.47   \n",
       "\n",
       "      Depth_to_Groundwater_Pozzo_7  ...  Volume_Pozzo_1  Volume_Pozzo_2  \\\n",
       "0                              NaN  ...             NaN             NaN   \n",
       "1                              NaN  ...             NaN             NaN   \n",
       "2                              NaN  ...             NaN             NaN   \n",
       "3                              NaN  ...             NaN             NaN   \n",
       "4                              NaN  ...             NaN             NaN   \n",
       "...                            ...  ...             ...             ...   \n",
       "6021                        -96.59  ...        1516.104        3883.932   \n",
       "6022                        -96.44  ...        1491.408        3884.724   \n",
       "6023                        -96.44  ...        1485.756        3885.228   \n",
       "6024                        -96.10  ...        1479.636        3888.684   \n",
       "6025                        -96.10  ...        1470.096        3875.328   \n",
       "\n",
       "      Volume_Pozzo_3  Volume_Pozzo_4  Volume_Pozzo_5+6  Volume_Pozzo_7  \\\n",
       "0                NaN             NaN               NaN             NaN   \n",
       "1                NaN             NaN               NaN             NaN   \n",
       "2                NaN             NaN               NaN             NaN   \n",
       "3                NaN             NaN               NaN             NaN   \n",
       "4                NaN             NaN               NaN             NaN   \n",
       "...              ...             ...               ...             ...   \n",
       "6021        2526.516        3867.876          7949.304        2684.412   \n",
       "6022        2871.864        3867.300          7590.564        2681.280   \n",
       "6023        2858.400        3869.352          7944.660        2962.980   \n",
       "6024        2499.444        3873.096          7947.684        2653.884   \n",
       "6025        2812.356        3870.864          7941.996        2964.168   \n",
       "\n",
       "      Volume_Pozzo_8  Volume_Pozzo_9  Temperature_Monteporzio  \\\n",
       "0                NaN             NaN                     5.30   \n",
       "1                NaN             NaN                     4.70   \n",
       "2                NaN             NaN                     5.40   \n",
       "3                NaN             NaN                     3.35   \n",
       "4                NaN             NaN                     3.60   \n",
       "...              ...             ...                      ...   \n",
       "6021        3911.832        3450.132                    21.05   \n",
       "6022        3899.772        3449.088                    22.18   \n",
       "6023        3901.032        3449.808                    23.06   \n",
       "6024        3904.776        3129.336                    22.03   \n",
       "6025        3901.932        3448.440                    21.90   \n",
       "\n",
       "      Temperature_Velletri  \n",
       "0                     8.60  \n",
       "1                     6.25  \n",
       "2                     9.80  \n",
       "3                     5.95  \n",
       "4                     5.85  \n",
       "...                    ...  \n",
       "6021                 23.39  \n",
       "6022                 24.44  \n",
       "6023                 25.43  \n",
       "6024                 24.22  \n",
       "6025                 23.97  \n",
       "\n",
       "[6026 rows x 22 columns]"
      ]
     },
     "execution_count": 220,
     "metadata": {},
     "output_type": "execute_result"
    }
   ],
   "source": [
    "Aquifer_Doganella"
   ]
  },
  {
   "cell_type": "code",
   "execution_count": 221,
   "metadata": {},
   "outputs": [
    {
     "name": "stdout",
     "output_type": "stream",
     "text": [
      "<class 'pandas.core.frame.DataFrame'>\n",
      "RangeIndex: 6026 entries, 0 to 6025\n",
      "Data columns (total 22 columns):\n",
      " #   Column                        Non-Null Count  Dtype  \n",
      "---  ------                        --------------  -----  \n",
      " 0   Date                          6026 non-null   object \n",
      " 1   Rainfall_Monteporzio          5399 non-null   float64\n",
      " 2   Rainfall_Velletri             5374 non-null   float64\n",
      " 3   Depth_to_Groundwater_Pozzo_1  2537 non-null   float64\n",
      " 4   Depth_to_Groundwater_Pozzo_2  2736 non-null   float64\n",
      " 5   Depth_to_Groundwater_Pozzo_3  2774 non-null   float64\n",
      " 6   Depth_to_Groundwater_Pozzo_4  2374 non-null   float64\n",
      " 7   Depth_to_Groundwater_Pozzo_5  2508 non-null   float64\n",
      " 8   Depth_to_Groundwater_Pozzo_6  2428 non-null   float64\n",
      " 9   Depth_to_Groundwater_Pozzo_7  2311 non-null   float64\n",
      " 10  Depth_to_Groundwater_Pozzo_8  2551 non-null   float64\n",
      " 11  Depth_to_Groundwater_Pozzo_9  2339 non-null   float64\n",
      " 12  Volume_Pozzo_1                1356 non-null   float64\n",
      " 13  Volume_Pozzo_2                1360 non-null   float64\n",
      " 14  Volume_Pozzo_3                1360 non-null   float64\n",
      " 15  Volume_Pozzo_4                1360 non-null   float64\n",
      " 16  Volume_Pozzo_5+6              1360 non-null   float64\n",
      " 17  Volume_Pozzo_7                1360 non-null   float64\n",
      " 18  Volume_Pozzo_8                1360 non-null   float64\n",
      " 19  Volume_Pozzo_9                1360 non-null   float64\n",
      " 20  Temperature_Monteporzio       4564 non-null   float64\n",
      " 21  Temperature_Velletri          4383 non-null   float64\n",
      "dtypes: float64(21), object(1)\n",
      "memory usage: 1.0+ MB\n"
     ]
    }
   ],
   "source": [
    "Aquifer_Doganella.info()"
   ]
  },
  {
   "cell_type": "code",
   "execution_count": 222,
   "metadata": {},
   "outputs": [
    {
     "data": {
      "text/plain": [
       "(6026, 22)"
      ]
     },
     "execution_count": 222,
     "metadata": {},
     "output_type": "execute_result"
    }
   ],
   "source": [
    "Aquifer_Doganella.shape"
   ]
  },
  {
   "cell_type": "markdown",
   "metadata": {},
   "source": [
    "### Filled Entries"
   ]
  },
  {
   "cell_type": "code",
   "execution_count": 223,
   "metadata": {},
   "outputs": [
    {
     "data": {
      "text/plain": [
       "<AxesSubplot:>"
      ]
     },
     "execution_count": 223,
     "metadata": {},
     "output_type": "execute_result"
    },
    {
     "data": {
      "image/png": "[encoded data removed]",
      "text/plain": [
       "<Figure size 1728x720 with 3 Axes>"
      ]
     },
     "metadata": {
      "needs_background": "light"
     },
     "output_type": "display_data"
    }
   ],
   "source": [
    "msno.bar(Aquifer_Doganella,color='b')"
   ]
  },
  {
   "cell_type": "markdown",
   "metadata": {},
   "source": [
    "### Dates starting and ending values"
   ]
  },
  {
   "cell_type": "code",
   "execution_count": 224,
   "metadata": {},
   "outputs": [
    {
     "name": "stdout",
     "output_type": "stream",
     "text": [
      "starting date: 01/01/2004\n",
      "ending date: 30/06/2020\n"
     ]
    }
   ],
   "source": [
    "print('starting date:', Aquifer_Doganella.Date.values[[0,-1]][0])\n",
    "print('ending date:', Aquifer_Doganella.Date.values[[0,-1]][1])\n"
   ]
  },
  {
   "cell_type": "markdown",
   "metadata": {},
   "source": [
    "### Position of Null values"
   ]
  },
  {
   "cell_type": "code",
   "execution_count": 225,
   "metadata": {},
   "outputs": [
    {
     "data": {
      "text/plain": [
       "<AxesSubplot:>"
      ]
     },
     "execution_count": 225,
     "metadata": {},
     "output_type": "execute_result"
    },
    {
     "data": {
      "image/png": "[encoded data removed]",
      "text/plain": [
       "<Figure size 432x288 with 1 Axes>"
      ]
     },
     "metadata": {
      "needs_background": "light"
     },
     "output_type": "display_data"
    }
   ],
   "source": [
    "sns.heatmap(Aquifer_Doganella.isnull(),yticklabels=False,cbar=False)"
   ]
  },
  {
   "cell_type": "code",
   "execution_count": 226,
   "metadata": {},
   "outputs": [
    {
     "data": {
      "text/html": [
       "<div>\n",
       "<style scoped>\n",
       "    .dataframe tbody tr th:only-of-type {\n",
       "        vertical-align: middle;\n",
       "    }\n",
       "\n",
       "    .dataframe tbody tr th {\n",
       "        vertical-align: top;\n",
       "    }\n",
       "\n",
       "    .dataframe thead th {\n",
       "        text-align: right;\n",
       "    }\n",
       "</style>\n",
       "<table border=\"1\" class=\"dataframe\">\n",
       "  <thead>\n",
       "    <tr style=\"text-align: right;\">\n",
       "      <th></th>\n",
       "      <th>Date</th>\n",
       "      <th>Rainfall_Monteporzio</th>\n",
       "      <th>Rainfall_Velletri</th>\n",
       "      <th>Depth_to_Groundwater_Pozzo_1</th>\n",
       "      <th>Depth_to_Groundwater_Pozzo_2</th>\n",
       "      <th>Depth_to_Groundwater_Pozzo_3</th>\n",
       "      <th>Depth_to_Groundwater_Pozzo_4</th>\n",
       "      <th>Depth_to_Groundwater_Pozzo_5</th>\n",
       "      <th>Depth_to_Groundwater_Pozzo_6</th>\n",
       "      <th>Depth_to_Groundwater_Pozzo_7</th>\n",
       "      <th>...</th>\n",
       "      <th>Volume_Pozzo_1</th>\n",
       "      <th>Volume_Pozzo_2</th>\n",
       "      <th>Volume_Pozzo_3</th>\n",
       "      <th>Volume_Pozzo_4</th>\n",
       "      <th>Volume_Pozzo_5+6</th>\n",
       "      <th>Volume_Pozzo_7</th>\n",
       "      <th>Volume_Pozzo_8</th>\n",
       "      <th>Volume_Pozzo_9</th>\n",
       "      <th>Temperature_Monteporzio</th>\n",
       "      <th>Temperature_Velletri</th>\n",
       "    </tr>\n",
       "  </thead>\n",
       "  <tbody>\n",
       "    <tr>\n",
       "      <th>3074</th>\n",
       "      <td>01/06/2012</td>\n",
       "      <td>0.0</td>\n",
       "      <td>0.0</td>\n",
       "      <td>-53.45</td>\n",
       "      <td>-92.17</td>\n",
       "      <td>-106.970</td>\n",
       "      <td>-96.50</td>\n",
       "      <td>-98.99</td>\n",
       "      <td>-89.25</td>\n",
       "      <td>-92.95</td>\n",
       "      <td>...</td>\n",
       "      <td>NaN</td>\n",
       "      <td>NaN</td>\n",
       "      <td>NaN</td>\n",
       "      <td>NaN</td>\n",
       "      <td>NaN</td>\n",
       "      <td>NaN</td>\n",
       "      <td>NaN</td>\n",
       "      <td>NaN</td>\n",
       "      <td>18.18</td>\n",
       "      <td>19.32</td>\n",
       "    </tr>\n",
       "    <tr>\n",
       "      <th>3075</th>\n",
       "      <td>02/06/2012</td>\n",
       "      <td>0.0</td>\n",
       "      <td>0.0</td>\n",
       "      <td>-53.58</td>\n",
       "      <td>-92.18</td>\n",
       "      <td>-107.030</td>\n",
       "      <td>-96.50</td>\n",
       "      <td>-98.99</td>\n",
       "      <td>-89.25</td>\n",
       "      <td>-92.95</td>\n",
       "      <td>...</td>\n",
       "      <td>NaN</td>\n",
       "      <td>NaN</td>\n",
       "      <td>NaN</td>\n",
       "      <td>NaN</td>\n",
       "      <td>NaN</td>\n",
       "      <td>NaN</td>\n",
       "      <td>NaN</td>\n",
       "      <td>NaN</td>\n",
       "      <td>19.22</td>\n",
       "      <td>19.88</td>\n",
       "    </tr>\n",
       "    <tr>\n",
       "      <th>3076</th>\n",
       "      <td>03/06/2012</td>\n",
       "      <td>0.0</td>\n",
       "      <td>0.0</td>\n",
       "      <td>-53.72</td>\n",
       "      <td>-92.19</td>\n",
       "      <td>-106.990</td>\n",
       "      <td>-96.51</td>\n",
       "      <td>-99.00</td>\n",
       "      <td>-89.25</td>\n",
       "      <td>-92.95</td>\n",
       "      <td>...</td>\n",
       "      <td>NaN</td>\n",
       "      <td>NaN</td>\n",
       "      <td>NaN</td>\n",
       "      <td>NaN</td>\n",
       "      <td>NaN</td>\n",
       "      <td>NaN</td>\n",
       "      <td>NaN</td>\n",
       "      <td>NaN</td>\n",
       "      <td>19.75</td>\n",
       "      <td>20.61</td>\n",
       "    </tr>\n",
       "    <tr>\n",
       "      <th>3077</th>\n",
       "      <td>04/06/2012</td>\n",
       "      <td>1.2</td>\n",
       "      <td>12.8</td>\n",
       "      <td>-53.72</td>\n",
       "      <td>-92.21</td>\n",
       "      <td>-106.990</td>\n",
       "      <td>-96.52</td>\n",
       "      <td>-99.00</td>\n",
       "      <td>-89.27</td>\n",
       "      <td>-92.96</td>\n",
       "      <td>...</td>\n",
       "      <td>NaN</td>\n",
       "      <td>NaN</td>\n",
       "      <td>NaN</td>\n",
       "      <td>NaN</td>\n",
       "      <td>NaN</td>\n",
       "      <td>NaN</td>\n",
       "      <td>NaN</td>\n",
       "      <td>NaN</td>\n",
       "      <td>16.49</td>\n",
       "      <td>18.16</td>\n",
       "    </tr>\n",
       "    <tr>\n",
       "      <th>3078</th>\n",
       "      <td>05/06/2012</td>\n",
       "      <td>0.0</td>\n",
       "      <td>0.0</td>\n",
       "      <td>-53.72</td>\n",
       "      <td>-92.24</td>\n",
       "      <td>-106.990</td>\n",
       "      <td>-96.53</td>\n",
       "      <td>-99.00</td>\n",
       "      <td>-89.28</td>\n",
       "      <td>-92.97</td>\n",
       "      <td>...</td>\n",
       "      <td>NaN</td>\n",
       "      <td>NaN</td>\n",
       "      <td>NaN</td>\n",
       "      <td>NaN</td>\n",
       "      <td>NaN</td>\n",
       "      <td>NaN</td>\n",
       "      <td>NaN</td>\n",
       "      <td>NaN</td>\n",
       "      <td>17.25</td>\n",
       "      <td>19.76</td>\n",
       "    </tr>\n",
       "    <tr>\n",
       "      <th>...</th>\n",
       "      <td>...</td>\n",
       "      <td>...</td>\n",
       "      <td>...</td>\n",
       "      <td>...</td>\n",
       "      <td>...</td>\n",
       "      <td>...</td>\n",
       "      <td>...</td>\n",
       "      <td>...</td>\n",
       "      <td>...</td>\n",
       "      <td>...</td>\n",
       "      <td>...</td>\n",
       "      <td>...</td>\n",
       "      <td>...</td>\n",
       "      <td>...</td>\n",
       "      <td>...</td>\n",
       "      <td>...</td>\n",
       "      <td>...</td>\n",
       "      <td>...</td>\n",
       "      <td>...</td>\n",
       "      <td>...</td>\n",
       "      <td>...</td>\n",
       "    </tr>\n",
       "    <tr>\n",
       "      <th>6021</th>\n",
       "      <td>26/06/2020</td>\n",
       "      <td>0.0</td>\n",
       "      <td>0.0</td>\n",
       "      <td>-50.32</td>\n",
       "      <td>-100.35</td>\n",
       "      <td>-100.880</td>\n",
       "      <td>-101.49</td>\n",
       "      <td>-104.31</td>\n",
       "      <td>-97.94</td>\n",
       "      <td>-96.59</td>\n",
       "      <td>...</td>\n",
       "      <td>1516.104</td>\n",
       "      <td>3883.932</td>\n",
       "      <td>2526.516</td>\n",
       "      <td>3867.876</td>\n",
       "      <td>7949.304</td>\n",
       "      <td>2684.412</td>\n",
       "      <td>3911.832</td>\n",
       "      <td>3450.132</td>\n",
       "      <td>21.05</td>\n",
       "      <td>23.39</td>\n",
       "    </tr>\n",
       "    <tr>\n",
       "      <th>6022</th>\n",
       "      <td>27/06/2020</td>\n",
       "      <td>0.0</td>\n",
       "      <td>0.0</td>\n",
       "      <td>-50.32</td>\n",
       "      <td>-100.56</td>\n",
       "      <td>-100.840</td>\n",
       "      <td>-101.59</td>\n",
       "      <td>-104.30</td>\n",
       "      <td>-97.96</td>\n",
       "      <td>-96.44</td>\n",
       "      <td>...</td>\n",
       "      <td>1491.408</td>\n",
       "      <td>3884.724</td>\n",
       "      <td>2871.864</td>\n",
       "      <td>3867.300</td>\n",
       "      <td>7590.564</td>\n",
       "      <td>2681.280</td>\n",
       "      <td>3899.772</td>\n",
       "      <td>3449.088</td>\n",
       "      <td>22.18</td>\n",
       "      <td>24.44</td>\n",
       "    </tr>\n",
       "    <tr>\n",
       "      <th>6023</th>\n",
       "      <td>28/06/2020</td>\n",
       "      <td>0.0</td>\n",
       "      <td>0.0</td>\n",
       "      <td>-50.32</td>\n",
       "      <td>-100.56</td>\n",
       "      <td>-100.920</td>\n",
       "      <td>-101.59</td>\n",
       "      <td>-104.30</td>\n",
       "      <td>-98.46</td>\n",
       "      <td>-96.44</td>\n",
       "      <td>...</td>\n",
       "      <td>1485.756</td>\n",
       "      <td>3885.228</td>\n",
       "      <td>2858.400</td>\n",
       "      <td>3869.352</td>\n",
       "      <td>7944.660</td>\n",
       "      <td>2962.980</td>\n",
       "      <td>3901.032</td>\n",
       "      <td>3449.808</td>\n",
       "      <td>23.06</td>\n",
       "      <td>25.43</td>\n",
       "    </tr>\n",
       "    <tr>\n",
       "      <th>6024</th>\n",
       "      <td>29/06/2020</td>\n",
       "      <td>0.0</td>\n",
       "      <td>0.0</td>\n",
       "      <td>-50.32</td>\n",
       "      <td>-100.56</td>\n",
       "      <td>-101.190</td>\n",
       "      <td>-101.59</td>\n",
       "      <td>-104.30</td>\n",
       "      <td>-98.46</td>\n",
       "      <td>-96.10</td>\n",
       "      <td>...</td>\n",
       "      <td>1479.636</td>\n",
       "      <td>3888.684</td>\n",
       "      <td>2499.444</td>\n",
       "      <td>3873.096</td>\n",
       "      <td>7947.684</td>\n",
       "      <td>2653.884</td>\n",
       "      <td>3904.776</td>\n",
       "      <td>3129.336</td>\n",
       "      <td>22.03</td>\n",
       "      <td>24.22</td>\n",
       "    </tr>\n",
       "    <tr>\n",
       "      <th>6025</th>\n",
       "      <td>30/06/2020</td>\n",
       "      <td>0.0</td>\n",
       "      <td>0.0</td>\n",
       "      <td>-50.78</td>\n",
       "      <td>-100.56</td>\n",
       "      <td>-101.235</td>\n",
       "      <td>-101.59</td>\n",
       "      <td>-104.30</td>\n",
       "      <td>-98.47</td>\n",
       "      <td>-96.10</td>\n",
       "      <td>...</td>\n",
       "      <td>1470.096</td>\n",
       "      <td>3875.328</td>\n",
       "      <td>2812.356</td>\n",
       "      <td>3870.864</td>\n",
       "      <td>7941.996</td>\n",
       "      <td>2964.168</td>\n",
       "      <td>3901.932</td>\n",
       "      <td>3448.440</td>\n",
       "      <td>21.90</td>\n",
       "      <td>23.97</td>\n",
       "    </tr>\n",
       "  </tbody>\n",
       "</table>\n",
       "<p>2952 rows × 22 columns</p>\n",
       "</div>"
      ],
      "text/plain": [
       "            Date  Rainfall_Monteporzio  Rainfall_Velletri  \\\n",
       "3074  01/06/2012                   0.0                0.0   \n",
       "3075  02/06/2012                   0.0                0.0   \n",
       "3076  03/06/2012                   0.0                0.0   \n",
       "3077  04/06/2012                   1.2               12.8   \n",
       "3078  05/06/2012                   0.0                0.0   \n",
       "...          ...                   ...                ...   \n",
       "6021  26/06/2020                   0.0                0.0   \n",
       "6022  27/06/2020                   0.0                0.0   \n",
       "6023  28/06/2020                   0.0                0.0   \n",
       "6024  29/06/2020                   0.0                0.0   \n",
       "6025  30/06/2020                   0.0                0.0   \n",
       "\n",
       "      Depth_to_Groundwater_Pozzo_1  Depth_to_Groundwater_Pozzo_2  \\\n",
       "3074                        -53.45                        -92.17   \n",
       "3075                        -53.58                        -92.18   \n",
       "3076                        -53.72                        -92.19   \n",
       "3077                        -53.72                        -92.21   \n",
       "3078                        -53.72                        -92.24   \n",
       "...                            ...                           ...   \n",
       "6021                        -50.32                       -100.35   \n",
       "6022                        -50.32                       -100.56   \n",
       "6023                        -50.32                       -100.56   \n",
       "6024                        -50.32                       -100.56   \n",
       "6025                        -50.78                       -100.56   \n",
       "\n",
       "      Depth_to_Groundwater_Pozzo_3  Depth_to_Groundwater_Pozzo_4  \\\n",
       "3074                      -106.970                        -96.50   \n",
       "3075                      -107.030                        -96.50   \n",
       "3076                      -106.990                        -96.51   \n",
       "3077                      -106.990                        -96.52   \n",
       "3078                      -106.990                        -96.53   \n",
       "...                            ...                           ...   \n",
       "6021                      -100.880                       -101.49   \n",
       "6022                      -100.840                       -101.59   \n",
       "6023                      -100.920                       -101.59   \n",
       "6024                      -101.190                       -101.59   \n",
       "6025                      -101.235                       -101.59   \n",
       "\n",
       "      Depth_to_Groundwater_Pozzo_5  Depth_to_Groundwater_Pozzo_6  \\\n",
       "3074                        -98.99                        -89.25   \n",
       "3075                        -98.99                        -89.25   \n",
       "3076                        -99.00                        -89.25   \n",
       "3077                        -99.00                        -89.27   \n",
       "3078                        -99.00                        -89.28   \n",
       "...                            ...                           ...   \n",
       "6021                       -104.31                        -97.94   \n",
       "6022                       -104.30                        -97.96   \n",
       "6023                       -104.30                        -98.46   \n",
       "6024                       -104.30                        -98.46   \n",
       "6025                       -104.30                        -98.47   \n",
       "\n",
       "      Depth_to_Groundwater_Pozzo_7  ...  Volume_Pozzo_1  Volume_Pozzo_2  \\\n",
       "3074                        -92.95  ...             NaN             NaN   \n",
       "3075                        -92.95  ...             NaN             NaN   \n",
       "3076                        -92.95  ...             NaN             NaN   \n",
       "3077                        -92.96  ...             NaN             NaN   \n",
       "3078                        -92.97  ...             NaN             NaN   \n",
       "...                            ...  ...             ...             ...   \n",
       "6021                        -96.59  ...        1516.104        3883.932   \n",
       "6022                        -96.44  ...        1491.408        3884.724   \n",
       "6023                        -96.44  ...        1485.756        3885.228   \n",
       "6024                        -96.10  ...        1479.636        3888.684   \n",
       "6025                        -96.10  ...        1470.096        3875.328   \n",
       "\n",
       "      Volume_Pozzo_3  Volume_Pozzo_4  Volume_Pozzo_5+6  Volume_Pozzo_7  \\\n",
       "3074             NaN             NaN               NaN             NaN   \n",
       "3075             NaN             NaN               NaN             NaN   \n",
       "3076             NaN             NaN               NaN             NaN   \n",
       "3077             NaN             NaN               NaN             NaN   \n",
       "3078             NaN             NaN               NaN             NaN   \n",
       "...              ...             ...               ...             ...   \n",
       "6021        2526.516        3867.876          7949.304        2684.412   \n",
       "6022        2871.864        3867.300          7590.564        2681.280   \n",
       "6023        2858.400        3869.352          7944.660        2962.980   \n",
       "6024        2499.444        3873.096          7947.684        2653.884   \n",
       "6025        2812.356        3870.864          7941.996        2964.168   \n",
       "\n",
       "      Volume_Pozzo_8  Volume_Pozzo_9  Temperature_Monteporzio  \\\n",
       "3074             NaN             NaN                    18.18   \n",
       "3075             NaN             NaN                    19.22   \n",
       "3076             NaN             NaN                    19.75   \n",
       "3077             NaN             NaN                    16.49   \n",
       "3078             NaN             NaN                    17.25   \n",
       "...              ...             ...                      ...   \n",
       "6021        3911.832        3450.132                    21.05   \n",
       "6022        3899.772        3449.088                    22.18   \n",
       "6023        3901.032        3449.808                    23.06   \n",
       "6024        3904.776        3129.336                    22.03   \n",
       "6025        3901.932        3448.440                    21.90   \n",
       "\n",
       "      Temperature_Velletri  \n",
       "3074                 19.32  \n",
       "3075                 19.88  \n",
       "3076                 20.61  \n",
       "3077                 18.16  \n",
       "3078                 19.76  \n",
       "...                    ...  \n",
       "6021                 23.39  \n",
       "6022                 24.44  \n",
       "6023                 25.43  \n",
       "6024                 24.22  \n",
       "6025                 23.97  \n",
       "\n",
       "[2952 rows x 22 columns]"
      ]
     },
     "execution_count": 226,
     "metadata": {},
     "output_type": "execute_result"
    }
   ],
   "source": [
    "Aquifer_Doganella.drop(Aquifer_Doganella.index[0:3074], inplace=True)\n",
    "Aquifer_Doganella"
   ]
  },
  {
   "cell_type": "code",
   "execution_count": 227,
   "metadata": {},
   "outputs": [
    {
     "data": {
      "text/plain": [
       "<AxesSubplot:>"
      ]
     },
     "execution_count": 227,
     "metadata": {},
     "output_type": "execute_result"
    },
    {
     "data": {
      "image/png": "[encoded data removed]",
      "text/plain": [
       "<Figure size 432x288 with 1 Axes>"
      ]
     },
     "metadata": {
      "needs_background": "light"
     },
     "output_type": "display_data"
    }
   ],
   "source": [
    "sns.heatmap(Aquifer_Doganella.isnull(),yticklabels=False,cbar=False)"
   ]
  },
  {
   "cell_type": "code",
   "execution_count": 228,
   "metadata": {},
   "outputs": [],
   "source": [
    "data=Aquifer_Doganella.copy()\n",
    "data.drop('Date',axis=1,inplace=True)"
   ]
  },
  {
   "cell_type": "markdown",
   "metadata": {},
   "source": [
    "### Feature Selection"
   ]
  },
  {
   "cell_type": "code",
   "execution_count": 229,
   "metadata": {},
   "outputs": [
    {
     "data": {
      "text/plain": [
       "<AxesSubplot:>"
      ]
     },
     "execution_count": 229,
     "metadata": {},
     "output_type": "execute_result"
    },
    {
     "data": {
      "image/png": "[encoded data removed]",
      "text/plain": [
       "<Figure size 432x288 with 2 Axes>"
      ]
     },
     "metadata": {
      "needs_background": "light"
     },
     "output_type": "display_data"
    }
   ],
   "source": [
    "sns.heatmap(data.corr())"
   ]
  },
  {
   "cell_type": "code",
   "execution_count": 230,
   "metadata": {},
   "outputs": [
    {
     "name": "stdout",
     "output_type": "stream",
     "text": [
      "Rainfall_Monteporzio 21.0027 % missing \n",
      "Rainfall_Velletri 15.9892 % missing \n",
      "Depth_to_Groundwater_Pozzo_1 14.0583 % missing \n",
      "Depth_to_Groundwater_Pozzo_2 7.3171 % missing \n",
      "Depth_to_Groundwater_Pozzo_3 6.0298 % missing \n",
      "Depth_to_Groundwater_Pozzo_4 19.5799 % missing \n",
      "Depth_to_Groundwater_Pozzo_5 15.0407 % missing \n",
      "Depth_to_Groundwater_Pozzo_6 17.7507 % missing \n",
      "Depth_to_Groundwater_Pozzo_7 21.7141 % missing \n",
      "Depth_to_Groundwater_Pozzo_8 13.584 % missing \n",
      "Depth_to_Groundwater_Pozzo_9 20.7656 % missing \n",
      "Volume_Pozzo_1 54.065 % missing \n",
      "Volume_Pozzo_2 53.9295 % missing \n",
      "Volume_Pozzo_3 53.9295 % missing \n",
      "Volume_Pozzo_4 53.9295 % missing \n",
      "Volume_Pozzo_5+6 53.9295 % missing \n",
      "Volume_Pozzo_7 53.9295 % missing \n",
      "Volume_Pozzo_8 53.9295 % missing \n",
      "Volume_Pozzo_9 53.9295 % missing \n",
      "Temperature_Monteporzio 49.3225 % missing \n",
      "Temperature_Velletri 49.5257 % missing \n"
     ]
    }
   ],
   "source": [
    "features_nan=[features for features in Aquifer_Doganella.columns if Aquifer_Doganella[features].isnull().sum()>1 and Aquifer_Doganella[features].dtypes!='O']\n",
    "for feature in features_nan:\n",
    "    print(feature, np.round(Aquifer_Doganella[feature].isnull().mean()*100,4),'% missing ')"
   ]
  },
  {
   "cell_type": "code",
   "execution_count": 231,
   "metadata": {},
   "outputs": [
    {
     "data": {
      "text/plain": [
       "'\\nColumns that are going to be dropped\\n\\n\\n\\n'"
      ]
     },
     "execution_count": 231,
     "metadata": {},
     "output_type": "execute_result"
    }
   ],
   "source": [
    "'''\n",
    "Columns that are going to be dropped\n",
    "\n",
    "\n",
    "\n",
    "'''"
   ]
  },
  {
   "cell_type": "code",
   "execution_count": 232,
   "metadata": {},
   "outputs": [],
   "source": [
    "#Aquifer_Doganella_corr = Aquifer_Doganella.drop(['Rainfall_S_Savino','Rainfall_Consuma','Rainfall_Laterina','Rainfall_Camaldoli','Rainfall_Stia','Date','Rainfall_Montevarchi','Rainfall_Bibbiena','Rainfall_Incisa'],axis=1)"
   ]
  },
  {
   "cell_type": "code",
   "execution_count": 233,
   "metadata": {},
   "outputs": [
    {
     "name": "stdout",
     "output_type": "stream",
     "text": [
      "Rainfall_Monteporzio 21.0027 % missing \n",
      "Rainfall_Velletri 15.9892 % missing \n",
      "Depth_to_Groundwater_Pozzo_1 14.0583 % missing \n",
      "Depth_to_Groundwater_Pozzo_2 7.3171 % missing \n",
      "Depth_to_Groundwater_Pozzo_3 6.0298 % missing \n",
      "Depth_to_Groundwater_Pozzo_4 19.5799 % missing \n",
      "Depth_to_Groundwater_Pozzo_5 15.0407 % missing \n",
      "Depth_to_Groundwater_Pozzo_6 17.7507 % missing \n",
      "Depth_to_Groundwater_Pozzo_7 21.7141 % missing \n",
      "Depth_to_Groundwater_Pozzo_8 13.584 % missing \n",
      "Depth_to_Groundwater_Pozzo_9 20.7656 % missing \n",
      "Volume_Pozzo_1 54.065 % missing \n",
      "Volume_Pozzo_2 53.9295 % missing \n",
      "Volume_Pozzo_3 53.9295 % missing \n",
      "Volume_Pozzo_4 53.9295 % missing \n",
      "Volume_Pozzo_5+6 53.9295 % missing \n",
      "Volume_Pozzo_7 53.9295 % missing \n",
      "Volume_Pozzo_8 53.9295 % missing \n",
      "Volume_Pozzo_9 53.9295 % missing \n",
      "Temperature_Monteporzio 49.3225 % missing \n",
      "Temperature_Velletri 49.5257 % missing \n"
     ]
    }
   ],
   "source": [
    "a = Aquifer_Doganella\n",
    "\n",
    "features_nan=[features for features in a.columns if a[features].isnull().sum()>1 and a[features].dtypes!='O']\n",
    "for feature in features_nan:\n",
    "    print(feature, np.round(a[feature].isnull().mean()*100,4),'% missing ')\n"
   ]
  },
  {
   "cell_type": "code",
   "execution_count": 234,
   "metadata": {},
   "outputs": [
    {
     "data": {
      "text/plain": [
       "(2952, 22)"
      ]
     },
     "execution_count": 234,
     "metadata": {},
     "output_type": "execute_result"
    }
   ],
   "source": [
    "a.shape"
   ]
  },
  {
   "cell_type": "markdown",
   "metadata": {},
   "source": [
    "### Imputation"
   ]
  },
  {
   "cell_type": "markdown",
   "metadata": {},
   "source": [
    "Rainfall_Monteporzio"
   ]
  },
  {
   "cell_type": "code",
   "execution_count": 235,
   "metadata": {},
   "outputs": [],
   "source": [
    "def cal(x):\n",
    "    null_values=x.isnull().sum()\n",
    "    count_values=x.value_counts().unique\n",
    "    mean=x.mean()\n",
    "    median=x.median()\n",
    "    mode=x.mode()\n",
    "    print('null_values: ',null_values,'count_values: ', count_values, 'mean: ',mean,'median: ', median,'mode: ',mode, sep=' \\n  ' )\n",
    "    return"
   ]
  },
  {
   "cell_type": "code",
   "execution_count": 236,
   "metadata": {},
   "outputs": [
    {
     "name": "stdout",
     "output_type": "stream",
     "text": [
      "null_values:  \n",
      "  620 \n",
      "  count_values:  \n",
      "  <bound method Series.unique of 0.0     1530\n",
      "0.2      243\n",
      "0.4       61\n",
      "1.0       30\n",
      "0.6       23\n",
      "        ... \n",
      "20.2       1\n",
      "17.6       1\n",
      "50.6       1\n",
      "70.0       1\n",
      "25.8       1\n",
      "Name: Rainfall_Monteporzio, Length: 155, dtype: int64> \n",
      "  mean:  \n",
      "  2.35394511149227 \n",
      "  median:  \n",
      "  0.0 \n",
      "  mode:  \n",
      "  0    0.0\n",
      "dtype: float64\n"
     ]
    }
   ],
   "source": [
    "x=a['Rainfall_Monteporzio']\n",
    "cal(x)"
   ]
  },
  {
   "cell_type": "code",
   "execution_count": 237,
   "metadata": {},
   "outputs": [],
   "source": [
    "a['Rainfall_Monteporzio']=a['Rainfall_Monteporzio'].fillna(a['Rainfall_Monteporzio'].median())"
   ]
  },
  {
   "cell_type": "markdown",
   "metadata": {},
   "source": [
    "Rainfall_Velletri"
   ]
  },
  {
   "cell_type": "code",
   "execution_count": 238,
   "metadata": {},
   "outputs": [
    {
     "name": "stdout",
     "output_type": "stream",
     "text": [
      "null_values:  \n",
      "  472 \n",
      "  count_values:  \n",
      "  <bound method Series.unique of 0.0     1831\n",
      "0.2      104\n",
      "1.0       29\n",
      "0.4       29\n",
      "0.6       21\n",
      "        ... \n",
      "22.8       1\n",
      "25.0       1\n",
      "7.6        1\n",
      "36.6       1\n",
      "33.6       1\n",
      "Name: Rainfall_Velletri, Length: 168, dtype: int64> \n",
      "  mean:  \n",
      "  2.5867741935483837 \n",
      "  median:  \n",
      "  0.0 \n",
      "  mode:  \n",
      "  0    0.0\n",
      "dtype: float64\n"
     ]
    }
   ],
   "source": [
    "x=a['Rainfall_Velletri']\n",
    "cal(x)"
   ]
  },
  {
   "cell_type": "code",
   "execution_count": 239,
   "metadata": {},
   "outputs": [],
   "source": [
    "a['Rainfall_Velletri']=a['Rainfall_Velletri'].fillna(a['Rainfall_Velletri'].median())"
   ]
  },
  {
   "cell_type": "markdown",
   "metadata": {},
   "source": [
    "Depth_to_Groundwater_Pozzo_1"
   ]
  },
  {
   "cell_type": "code",
   "execution_count": 240,
   "metadata": {},
   "outputs": [
    {
     "name": "stdout",
     "output_type": "stream",
     "text": [
      "null_values:  \n",
      "  415 \n",
      "  count_values:  \n",
      "  <bound method Series.unique of -20.31    69\n",
      "-33.36    22\n",
      "-33.16    18\n",
      "-33.41    16\n",
      "-33.87    15\n",
      "          ..\n",
      "-25.34     1\n",
      "-25.38     1\n",
      "-25.42     1\n",
      "-25.47     1\n",
      "-50.78     1\n",
      "Name: Depth_to_Groundwater_Pozzo_1, Length: 1314, dtype: int64> \n",
      "  mean:  \n",
      "  -36.929136775719535 \n",
      "  median:  \n",
      "  -34.9 \n",
      "  mode:  \n",
      "  0   -20.31\n",
      "dtype: float64\n"
     ]
    }
   ],
   "source": [
    "x=a['Depth_to_Groundwater_Pozzo_1']\n",
    "cal(x)"
   ]
  },
  {
   "cell_type": "code",
   "execution_count": 241,
   "metadata": {},
   "outputs": [],
   "source": [
    "a['Depth_to_Groundwater_Pozzo_1']=a['Depth_to_Groundwater_Pozzo_1'].fillna(a['Depth_to_Groundwater_Pozzo_1'].median())"
   ]
  },
  {
   "cell_type": "markdown",
   "metadata": {},
   "source": [
    "Depth_to_Groundwater_Pozzo_2"
   ]
  },
  {
   "cell_type": "code",
   "execution_count": 242,
   "metadata": {},
   "outputs": [
    {
     "name": "stdout",
     "output_type": "stream",
     "text": [
      "null_values:  \n",
      "  216 \n",
      "  count_values:  \n",
      "  <bound method Series.unique of -92.46     73\n",
      "-101.15    40\n",
      "-92.05     25\n",
      "-90.53     22\n",
      "-101.04    20\n",
      "           ..\n",
      "-99.35      1\n",
      "-99.36      1\n",
      "-99.38      1\n",
      "-99.43      1\n",
      "-91.39      1\n",
      "Name: Depth_to_Groundwater_Pozzo_2, Length: 643, dtype: int64> \n",
      "  mean:  \n",
      "  -94.74618786549696 \n",
      "  median:  \n",
      "  -93.28 \n",
      "  mode:  \n",
      "  0   -92.46\n",
      "dtype: float64\n"
     ]
    }
   ],
   "source": [
    "x=a['Depth_to_Groundwater_Pozzo_2']\n",
    "cal(x)"
   ]
  },
  {
   "cell_type": "code",
   "execution_count": 243,
   "metadata": {},
   "outputs": [],
   "source": [
    "a['Depth_to_Groundwater_Pozzo_2']=a['Depth_to_Groundwater_Pozzo_2'].fillna(a['Depth_to_Groundwater_Pozzo_2'].median())"
   ]
  },
  {
   "cell_type": "markdown",
   "metadata": {},
   "source": [
    "Depth_to_Groundwater_Pozzo_3"
   ]
  },
  {
   "cell_type": "code",
   "execution_count": 244,
   "metadata": {},
   "outputs": [
    {
     "name": "stdout",
     "output_type": "stream",
     "text": [
      "null_values:  \n",
      "  178 \n",
      "  count_values:  \n",
      "  <bound method Series.unique of -111.050    72\n",
      "-115.540    16\n",
      "-117.600    15\n",
      "-112.130    15\n",
      "-112.180    13\n",
      "            ..\n",
      "-111.320     1\n",
      "-111.490     1\n",
      "-111.650     1\n",
      "-114.680     1\n",
      "-101.235     1\n",
      "Name: Depth_to_Groundwater_Pozzo_3, Length: 910, dtype: int64> \n",
      "  mean:  \n",
      "  -111.63892754145608 \n",
      "  median:  \n",
      "  -111.805 \n",
      "  mode:  \n",
      "  0   -111.05\n",
      "dtype: float64\n"
     ]
    }
   ],
   "source": [
    "x=a['Depth_to_Groundwater_Pozzo_3']\n",
    "cal(x)"
   ]
  },
  {
   "cell_type": "code",
   "execution_count": 245,
   "metadata": {},
   "outputs": [],
   "source": [
    "a['Depth_to_Groundwater_Pozzo_3']=a['Depth_to_Groundwater_Pozzo_3'].fillna(a['Depth_to_Groundwater_Pozzo_3'].median())"
   ]
  },
  {
   "cell_type": "markdown",
   "metadata": {},
   "source": [
    "Depth_to_Groundwater_Pozzo_4"
   ]
  },
  {
   "cell_type": "code",
   "execution_count": 246,
   "metadata": {},
   "outputs": [
    {
     "name": "stdout",
     "output_type": "stream",
     "text": [
      "null_values:  \n",
      "  578 \n",
      "  count_values:  \n",
      "  <bound method Series.unique of -97.43     73\n",
      "-102.40    37\n",
      "-95.79     35\n",
      "-101.76    26\n",
      "-102.04    25\n",
      "           ..\n",
      "-100.71     1\n",
      "-100.80     1\n",
      "-95.67      1\n",
      "-95.72      1\n",
      "-101.41     1\n",
      "Name: Depth_to_Groundwater_Pozzo_4, Length: 472, dtype: int64> \n",
      "  mean:  \n",
      "  -98.22393428812117 \n",
      "  median:  \n",
      "  -97.97 \n",
      "  mode:  \n",
      "  0   -97.43\n",
      "dtype: float64\n"
     ]
    }
   ],
   "source": [
    "x=a['Depth_to_Groundwater_Pozzo_4']\n",
    "cal(x)"
   ]
  },
  {
   "cell_type": "code",
   "execution_count": 247,
   "metadata": {},
   "outputs": [],
   "source": [
    "a['Depth_to_Groundwater_Pozzo_4']=a['Depth_to_Groundwater_Pozzo_4'].fillna(a['Depth_to_Groundwater_Pozzo_4'].median())"
   ]
  },
  {
   "cell_type": "markdown",
   "metadata": {},
   "source": [
    "Depth_to_Groundwater_Pozzo_5"
   ]
  },
  {
   "cell_type": "code",
   "execution_count": 248,
   "metadata": {},
   "outputs": [
    {
     "name": "stdout",
     "output_type": "stream",
     "text": [
      "null_values:  \n",
      "  444 \n",
      "  count_values:  \n",
      "  <bound method Series.unique of -99.59     69\n",
      "-101.42    36\n",
      "-104.39    34\n",
      "-104.32    31\n",
      "-100.61    26\n",
      "           ..\n",
      "-101.22     1\n",
      "-101.48     1\n",
      "-102.07     1\n",
      "-108.51     1\n",
      "-104.19     1\n",
      "Name: Depth_to_Groundwater_Pozzo_5, Length: 529, dtype: int64> \n",
      "  mean:  \n",
      "  -102.55259569378018 \n",
      "  median:  \n",
      "  -101.815 \n",
      "  mode:  \n",
      "  0   -99.59\n",
      "dtype: float64\n"
     ]
    }
   ],
   "source": [
    "x=a['Depth_to_Groundwater_Pozzo_5']\n",
    "cal(x)"
   ]
  },
  {
   "cell_type": "code",
   "execution_count": 249,
   "metadata": {},
   "outputs": [],
   "source": [
    "a['Depth_to_Groundwater_Pozzo_5']=a['Depth_to_Groundwater_Pozzo_5'].fillna(a['Depth_to_Groundwater_Pozzo_5'].median())"
   ]
  },
  {
   "cell_type": "markdown",
   "metadata": {},
   "source": [
    "Depth_to_Groundwater_Pozzo_6"
   ]
  },
  {
   "cell_type": "code",
   "execution_count": 250,
   "metadata": {},
   "outputs": [
    {
     "name": "stdout",
     "output_type": "stream",
     "text": [
      "null_values:  \n",
      "  524 \n",
      "  count_values:  \n",
      "  <bound method Series.unique of -91.15    71\n",
      "-93.91    48\n",
      "-93.92    46\n",
      "-91.24    34\n",
      "-90.52    32\n",
      "          ..\n",
      "-93.00     1\n",
      "-90.35     1\n",
      "-90.51     1\n",
      "-93.10     1\n",
      "-98.47     1\n",
      "Name: Depth_to_Groundwater_Pozzo_6, Length: 502, dtype: int64> \n",
      "  mean:  \n",
      "  -91.67295510708348 \n",
      "  median:  \n",
      "  -91.5 \n",
      "  mode:  \n",
      "  0   -91.15\n",
      "dtype: float64\n"
     ]
    }
   ],
   "source": [
    "x=a['Depth_to_Groundwater_Pozzo_6']\n",
    "cal(x)"
   ]
  },
  {
   "cell_type": "code",
   "execution_count": 251,
   "metadata": {},
   "outputs": [],
   "source": [
    "a['Depth_to_Groundwater_Pozzo_6']=a['Depth_to_Groundwater_Pozzo_6'].fillna(a['Depth_to_Groundwater_Pozzo_6'].median())"
   ]
  },
  {
   "cell_type": "markdown",
   "metadata": {},
   "source": [
    "Depth_to_Groundwater_Pozzo_7\n"
   ]
  },
  {
   "cell_type": "code",
   "execution_count": 252,
   "metadata": {},
   "outputs": [
    {
     "name": "stdout",
     "output_type": "stream",
     "text": [
      "null_values:  \n",
      "  641 \n",
      "  count_values:  \n",
      "  <bound method Series.unique of -97.36    370\n",
      "-97.35    229\n",
      "-96.97     47\n",
      "-97.42     47\n",
      "-97.34     44\n",
      "         ... \n",
      "-95.74      1\n",
      "-92.89      1\n",
      "-92.84      1\n",
      "-94.78      1\n",
      "-96.59      1\n",
      "Name: Depth_to_Groundwater_Pozzo_7, Length: 351, dtype: int64> \n",
      "  mean:  \n",
      "  -95.81922544353144 \n",
      "  median:  \n",
      "  -96.57 \n",
      "  mode:  \n",
      "  0   -97.36\n",
      "dtype: float64\n"
     ]
    }
   ],
   "source": [
    "x=a['Depth_to_Groundwater_Pozzo_7']\n",
    "cal(x)"
   ]
  },
  {
   "cell_type": "code",
   "execution_count": 253,
   "metadata": {},
   "outputs": [],
   "source": [
    "a['Depth_to_Groundwater_Pozzo_7']=a['Depth_to_Groundwater_Pozzo_7'].fillna(a['Depth_to_Groundwater_Pozzo_7'].median())"
   ]
  },
  {
   "cell_type": "markdown",
   "metadata": {},
   "source": [
    "Depth_to_Groundwater_Pozzo_8"
   ]
  },
  {
   "cell_type": "code",
   "execution_count": 254,
   "metadata": {},
   "outputs": [
    {
     "name": "stdout",
     "output_type": "stream",
     "text": [
      "null_values:  \n",
      "  401 \n",
      "  count_values:  \n",
      "  <bound method Series.unique of -94.37     72\n",
      "-97.44     26\n",
      "-94.98     22\n",
      "-92.82     21\n",
      "-93.35     19\n",
      "           ..\n",
      "-100.54     1\n",
      "-93.30      1\n",
      "-93.42      1\n",
      "-93.51      1\n",
      "-97.72      1\n",
      "Name: Depth_to_Groundwater_Pozzo_8, Length: 587, dtype: int64> \n",
      "  mean:  \n",
      "  -95.8453704429635 \n",
      "  median:  \n",
      "  -95.32 \n",
      "  mode:  \n",
      "  0   -94.37\n",
      "dtype: float64\n"
     ]
    }
   ],
   "source": [
    "x=a['Depth_to_Groundwater_Pozzo_8']\n",
    "cal(x)"
   ]
  },
  {
   "cell_type": "code",
   "execution_count": 255,
   "metadata": {},
   "outputs": [],
   "source": [
    "a['Depth_to_Groundwater_Pozzo_8']=a['Depth_to_Groundwater_Pozzo_8'].fillna(a['Depth_to_Groundwater_Pozzo_8'].median())"
   ]
  },
  {
   "cell_type": "markdown",
   "metadata": {},
   "source": [
    "Depth_to_Groundwater_Pozzo_9"
   ]
  },
  {
   "cell_type": "code",
   "execution_count": 256,
   "metadata": {},
   "outputs": [
    {
     "name": "stdout",
     "output_type": "stream",
     "text": [
      "null_values:  \n",
      "  613 \n",
      "  count_values:  \n",
      "  <bound method Series.unique of -104.87    29\n",
      "-94.59     22\n",
      "-105.60    21\n",
      "-94.64     17\n",
      "-93.42     17\n",
      "           ..\n",
      "-94.54      1\n",
      "-94.70      1\n",
      "-90.35      1\n",
      "-89.93      1\n",
      "-90.44      1\n",
      "Name: Depth_to_Groundwater_Pozzo_9, Length: 661, dtype: int64> \n",
      "  mean:  \n",
      "  -94.70970072680664 \n",
      "  median:  \n",
      "  -94.27 \n",
      "  mode:  \n",
      "  0   -104.87\n",
      "dtype: float64\n"
     ]
    }
   ],
   "source": [
    "x=a['Depth_to_Groundwater_Pozzo_9']\n",
    "cal(x)"
   ]
  },
  {
   "cell_type": "code",
   "execution_count": 257,
   "metadata": {},
   "outputs": [],
   "source": [
    "a['Depth_to_Groundwater_Pozzo_9']=a['Depth_to_Groundwater_Pozzo_9'].fillna(a['Depth_to_Groundwater_Pozzo_9'].median())"
   ]
  },
  {
   "cell_type": "markdown",
   "metadata": {},
   "source": [
    "Volume_Pozzo_1"
   ]
  },
  {
   "cell_type": "code",
   "execution_count": 258,
   "metadata": {},
   "outputs": [
    {
     "name": "stdout",
     "output_type": "stream",
     "text": [
      "null_values:  \n",
      "  1596 \n",
      "  count_values:  \n",
      "  <bound method Series.unique of 0.000       96\n",
      "0.070       14\n",
      "0.040       13\n",
      "0.180        9\n",
      "0.430        7\n",
      "            ..\n",
      "3586.820     1\n",
      "3641.980     1\n",
      "3636.650     1\n",
      "3630.020     1\n",
      "1470.096     1\n",
      "Name: Volume_Pozzo_1, Length: 1164, dtype: int64> \n",
      "  mean:  \n",
      "  1529.3762109144554 \n",
      "  median:  \n",
      "  1408.8600000000001 \n",
      "  mode:  \n",
      "  0    0.0\n",
      "dtype: float64\n"
     ]
    }
   ],
   "source": [
    "x=a['Volume_Pozzo_1']\n",
    "cal(x)"
   ]
  },
  {
   "cell_type": "code",
   "execution_count": 259,
   "metadata": {},
   "outputs": [],
   "source": [
    "a['Volume_Pozzo_1']=a['Volume_Pozzo_1'].fillna(a['Volume_Pozzo_1'].median())"
   ]
  },
  {
   "cell_type": "markdown",
   "metadata": {},
   "source": [
    "Volume_Pozzo_2"
   ]
  },
  {
   "cell_type": "code",
   "execution_count": 260,
   "metadata": {},
   "outputs": [
    {
     "name": "stdout",
     "output_type": "stream",
     "text": [
      "null_values:  \n",
      "  1592 \n",
      "  count_values:  \n",
      "  <bound method Series.unique of 0.000       32\n",
      "3536.240     4\n",
      "3532.720     3\n",
      "3773.990     3\n",
      "3776.440     2\n",
      "            ..\n",
      "3547.510     1\n",
      "3547.080     1\n",
      "3525.410     1\n",
      "3551.830     1\n",
      "3875.328     1\n",
      "Name: Volume_Pozzo_2, Length: 1242, dtype: int64> \n",
      "  mean:  \n",
      "  3433.4857455882347 \n",
      "  median:  \n",
      "  3591.81 \n",
      "  mode:  \n",
      "  0    0.0\n",
      "dtype: float64\n"
     ]
    }
   ],
   "source": [
    "x=a['Volume_Pozzo_2']\n",
    "cal(x)"
   ]
  },
  {
   "cell_type": "code",
   "execution_count": 261,
   "metadata": {},
   "outputs": [],
   "source": [
    "a['Volume_Pozzo_2']=a['Volume_Pozzo_2'].fillna(a['Volume_Pozzo_2'].median())\n",
    "a['Volume_Pozzo_3']=a['Volume_Pozzo_3'].fillna(a['Volume_Pozzo_3'].median())\n",
    "a['Volume_Pozzo_4']=a['Volume_Pozzo_4'].fillna(a['Volume_Pozzo_4'].median())\n",
    "a['Volume_Pozzo_5+6']=a['Volume_Pozzo_5+6'].fillna(a['Volume_Pozzo_5+6'].median())\n",
    "a['Volume_Pozzo_7']=a['Volume_Pozzo_7'].fillna(a['Volume_Pozzo_7'].median())\n",
    "a['Volume_Pozzo_8']=a['Volume_Pozzo_8'].fillna(a['Volume_Pozzo_8'].median())\n",
    "a['Volume_Pozzo_9']=a['Volume_Pozzo_9'].fillna(a['Volume_Pozzo_9'].median())"
   ]
  },
  {
   "cell_type": "markdown",
   "metadata": {},
   "source": [
    "Temperature_Monteporzio"
   ]
  },
  {
   "cell_type": "code",
   "execution_count": 262,
   "metadata": {},
   "outputs": [
    {
     "name": "stdout",
     "output_type": "stream",
     "text": [
      "null_values:  \n",
      "  1456 \n",
      "  count_values:  \n",
      "  <bound method Series.unique of 20.77    4\n",
      "8.60     4\n",
      "21.39    4\n",
      "6.08     4\n",
      "8.63     4\n",
      "        ..\n",
      "15.42    1\n",
      "14.80    1\n",
      "17.03    1\n",
      "16.29    1\n",
      "23.06    1\n",
      "Name: Temperature_Monteporzio, Length: 1113, dtype: int64> \n",
      "  mean:  \n",
      "  13.922085561497322 \n",
      "  median:  \n",
      "  13.690000000000001 \n",
      "  mode:  \n",
      "  0      5.17\n",
      "1      6.08\n",
      "2      7.48\n",
      "3      8.00\n",
      "4      8.05\n",
      "5      8.60\n",
      "6      8.63\n",
      "7      9.33\n",
      "8     17.08\n",
      "9     17.11\n",
      "10    18.02\n",
      "11    20.35\n",
      "12    20.77\n",
      "13    21.39\n",
      "dtype: float64\n"
     ]
    }
   ],
   "source": [
    "x=a['Temperature_Monteporzio']\n",
    "cal(x)"
   ]
  },
  {
   "cell_type": "code",
   "execution_count": 263,
   "metadata": {},
   "outputs": [],
   "source": [
    "a['Temperature_Monteporzio']=a['Temperature_Monteporzio'].fillna(a['Temperature_Monteporzio'].median())"
   ]
  },
  {
   "cell_type": "markdown",
   "metadata": {},
   "source": [
    "Temperature_Velletri"
   ]
  },
  {
   "cell_type": "code",
   "execution_count": 264,
   "metadata": {},
   "outputs": [
    {
     "name": "stdout",
     "output_type": "stream",
     "text": [
      "null_values:  \n",
      "  1462 \n",
      "  count_values:  \n",
      "  <bound method Series.unique of 9.00     6\n",
      "18.69    6\n",
      "11.71    5\n",
      "19.03    4\n",
      "15.07    4\n",
      "        ..\n",
      "3.75     1\n",
      "4.33     1\n",
      "7.70     1\n",
      "8.81     1\n",
      "23.35    1\n",
      "Name: Temperature_Velletri, Length: 1091, dtype: int64> \n",
      "  mean:  \n",
      "  15.912731543624144 \n",
      "  median:  \n",
      "  15.67 \n",
      "  mode:  \n",
      "  0     9.00\n",
      "1    18.69\n",
      "dtype: float64\n"
     ]
    }
   ],
   "source": [
    "x=a['Temperature_Velletri']\n",
    "cal(x)"
   ]
  },
  {
   "cell_type": "code",
   "execution_count": 265,
   "metadata": {},
   "outputs": [],
   "source": [
    "a['Temperature_Velletri']=a['Temperature_Velletri'].fillna(a['Temperature_Velletri'].median())"
   ]
  },
  {
   "cell_type": "code",
   "execution_count": 266,
   "metadata": {},
   "outputs": [
    {
     "data": {
      "text/plain": [
       "Date                            0\n",
       "Rainfall_Monteporzio            0\n",
       "Rainfall_Velletri               0\n",
       "Depth_to_Groundwater_Pozzo_1    0\n",
       "Depth_to_Groundwater_Pozzo_2    0\n",
       "Depth_to_Groundwater_Pozzo_3    0\n",
       "Depth_to_Groundwater_Pozzo_4    0\n",
       "Depth_to_Groundwater_Pozzo_5    0\n",
       "Depth_to_Groundwater_Pozzo_6    0\n",
       "Depth_to_Groundwater_Pozzo_7    0\n",
       "Depth_to_Groundwater_Pozzo_8    0\n",
       "Depth_to_Groundwater_Pozzo_9    0\n",
       "Volume_Pozzo_1                  0\n",
       "Volume_Pozzo_2                  0\n",
       "Volume_Pozzo_3                  0\n",
       "Volume_Pozzo_4                  0\n",
       "Volume_Pozzo_5+6                0\n",
       "Volume_Pozzo_7                  0\n",
       "Volume_Pozzo_8                  0\n",
       "Volume_Pozzo_9                  0\n",
       "Temperature_Monteporzio         0\n",
       "Temperature_Velletri            0\n",
       "dtype: int64"
      ]
     },
     "execution_count": 266,
     "metadata": {},
     "output_type": "execute_result"
    }
   ],
   "source": [
    "a.isnull().sum()"
   ]
  }
 ],
 "metadata": {
  "interpreter": {
   "hash": "8e98eea00a698c66ff9007bd5a8bf6209cdaa78d416205c57d24ef9296d8223a"
  },
  "kernelspec": {
   "display_name": "Python 3.8.12 64-bit ('strive': conda)",
   "language": "python",
   "name": "python3"
  },
  "language_info": {
   "codemirror_mode": {
    "name": "ipython",
    "version": 3
   },
   "file_extension": ".py",
   "mimetype": "text/x-python",
   "name": "python",
   "nbconvert_exporter": "python",
   "pygments_lexer": "ipython3",
   "version": "3.8.12"
  },
  "orig_nbformat": 4
 },
 "nbformat": 4,
 "nbformat_minor": 2
}
