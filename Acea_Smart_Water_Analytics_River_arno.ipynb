{
 "cells": [
  {
   "cell_type": "code",
   "execution_count": 102,
   "metadata": {},
   "outputs": [],
   "source": [
    "import pandas as pd\n",
    "import numpy as np\n",
    "import matplotlib.pyplot as plt\n",
    "import seaborn as sns\n",
    "import missingno as msno"
   ]
  },
  {
   "cell_type": "code",
   "execution_count": 103,
   "metadata": {},
   "outputs": [],
   "source": [
    "River_Arno = pd.read_csv('./datasets/River_Arno.csv')"
   ]
  },
  {
   "cell_type": "code",
   "execution_count": 104,
   "metadata": {},
   "outputs": [
    {
     "data": {
      "text/html": [
       "<div>\n",
       "<style scoped>\n",
       "    .dataframe tbody tr th:only-of-type {\n",
       "        vertical-align: middle;\n",
       "    }\n",
       "\n",
       "    .dataframe tbody tr th {\n",
       "        vertical-align: top;\n",
       "    }\n",
       "\n",
       "    .dataframe thead th {\n",
       "        text-align: right;\n",
       "    }\n",
       "</style>\n",
       "<table border=\"1\" class=\"dataframe\">\n",
       "  <thead>\n",
       "    <tr style=\"text-align: right;\">\n",
       "      <th></th>\n",
       "      <th>Date</th>\n",
       "      <th>Rainfall_Le_Croci</th>\n",
       "      <th>Rainfall_Cavallina</th>\n",
       "      <th>Rainfall_S_Agata</th>\n",
       "      <th>Rainfall_Mangona</th>\n",
       "      <th>Rainfall_S_Piero</th>\n",
       "      <th>Rainfall_Vernio</th>\n",
       "      <th>Rainfall_Stia</th>\n",
       "      <th>Rainfall_Consuma</th>\n",
       "      <th>Rainfall_Incisa</th>\n",
       "      <th>Rainfall_Montevarchi</th>\n",
       "      <th>Rainfall_S_Savino</th>\n",
       "      <th>Rainfall_Laterina</th>\n",
       "      <th>Rainfall_Bibbiena</th>\n",
       "      <th>Rainfall_Camaldoli</th>\n",
       "      <th>Temperature_Firenze</th>\n",
       "      <th>Hydrometry_Nave_di_Rosano</th>\n",
       "    </tr>\n",
       "  </thead>\n",
       "  <tbody>\n",
       "    <tr>\n",
       "      <th>0</th>\n",
       "      <td>01/01/1998</td>\n",
       "      <td>NaN</td>\n",
       "      <td>NaN</td>\n",
       "      <td>NaN</td>\n",
       "      <td>NaN</td>\n",
       "      <td>NaN</td>\n",
       "      <td>NaN</td>\n",
       "      <td>NaN</td>\n",
       "      <td>NaN</td>\n",
       "      <td>NaN</td>\n",
       "      <td>NaN</td>\n",
       "      <td>NaN</td>\n",
       "      <td>NaN</td>\n",
       "      <td>NaN</td>\n",
       "      <td>NaN</td>\n",
       "      <td>NaN</td>\n",
       "      <td>1.82</td>\n",
       "    </tr>\n",
       "    <tr>\n",
       "      <th>1</th>\n",
       "      <td>02/01/1998</td>\n",
       "      <td>NaN</td>\n",
       "      <td>NaN</td>\n",
       "      <td>NaN</td>\n",
       "      <td>NaN</td>\n",
       "      <td>NaN</td>\n",
       "      <td>NaN</td>\n",
       "      <td>NaN</td>\n",
       "      <td>NaN</td>\n",
       "      <td>NaN</td>\n",
       "      <td>NaN</td>\n",
       "      <td>NaN</td>\n",
       "      <td>NaN</td>\n",
       "      <td>NaN</td>\n",
       "      <td>NaN</td>\n",
       "      <td>NaN</td>\n",
       "      <td>1.94</td>\n",
       "    </tr>\n",
       "    <tr>\n",
       "      <th>2</th>\n",
       "      <td>03/01/1998</td>\n",
       "      <td>NaN</td>\n",
       "      <td>NaN</td>\n",
       "      <td>NaN</td>\n",
       "      <td>NaN</td>\n",
       "      <td>NaN</td>\n",
       "      <td>NaN</td>\n",
       "      <td>NaN</td>\n",
       "      <td>NaN</td>\n",
       "      <td>NaN</td>\n",
       "      <td>NaN</td>\n",
       "      <td>NaN</td>\n",
       "      <td>NaN</td>\n",
       "      <td>NaN</td>\n",
       "      <td>NaN</td>\n",
       "      <td>NaN</td>\n",
       "      <td>2.11</td>\n",
       "    </tr>\n",
       "    <tr>\n",
       "      <th>3</th>\n",
       "      <td>04/01/1998</td>\n",
       "      <td>NaN</td>\n",
       "      <td>NaN</td>\n",
       "      <td>NaN</td>\n",
       "      <td>NaN</td>\n",
       "      <td>NaN</td>\n",
       "      <td>NaN</td>\n",
       "      <td>NaN</td>\n",
       "      <td>NaN</td>\n",
       "      <td>NaN</td>\n",
       "      <td>NaN</td>\n",
       "      <td>NaN</td>\n",
       "      <td>NaN</td>\n",
       "      <td>NaN</td>\n",
       "      <td>NaN</td>\n",
       "      <td>NaN</td>\n",
       "      <td>1.84</td>\n",
       "    </tr>\n",
       "    <tr>\n",
       "      <th>4</th>\n",
       "      <td>05/01/1998</td>\n",
       "      <td>NaN</td>\n",
       "      <td>NaN</td>\n",
       "      <td>NaN</td>\n",
       "      <td>NaN</td>\n",
       "      <td>NaN</td>\n",
       "      <td>NaN</td>\n",
       "      <td>NaN</td>\n",
       "      <td>NaN</td>\n",
       "      <td>NaN</td>\n",
       "      <td>NaN</td>\n",
       "      <td>NaN</td>\n",
       "      <td>NaN</td>\n",
       "      <td>NaN</td>\n",
       "      <td>NaN</td>\n",
       "      <td>NaN</td>\n",
       "      <td>1.88</td>\n",
       "    </tr>\n",
       "    <tr>\n",
       "      <th>...</th>\n",
       "      <td>...</td>\n",
       "      <td>...</td>\n",
       "      <td>...</td>\n",
       "      <td>...</td>\n",
       "      <td>...</td>\n",
       "      <td>...</td>\n",
       "      <td>...</td>\n",
       "      <td>...</td>\n",
       "      <td>...</td>\n",
       "      <td>...</td>\n",
       "      <td>...</td>\n",
       "      <td>...</td>\n",
       "      <td>...</td>\n",
       "      <td>...</td>\n",
       "      <td>...</td>\n",
       "      <td>...</td>\n",
       "      <td>...</td>\n",
       "    </tr>\n",
       "    <tr>\n",
       "      <th>8212</th>\n",
       "      <td>26/06/2020</td>\n",
       "      <td>0.0</td>\n",
       "      <td>0.0</td>\n",
       "      <td>0.0</td>\n",
       "      <td>0.0</td>\n",
       "      <td>0.0</td>\n",
       "      <td>NaN</td>\n",
       "      <td>NaN</td>\n",
       "      <td>NaN</td>\n",
       "      <td>NaN</td>\n",
       "      <td>NaN</td>\n",
       "      <td>NaN</td>\n",
       "      <td>NaN</td>\n",
       "      <td>NaN</td>\n",
       "      <td>NaN</td>\n",
       "      <td>NaN</td>\n",
       "      <td>1.34</td>\n",
       "    </tr>\n",
       "    <tr>\n",
       "      <th>8213</th>\n",
       "      <td>27/06/2020</td>\n",
       "      <td>0.0</td>\n",
       "      <td>0.0</td>\n",
       "      <td>0.0</td>\n",
       "      <td>0.0</td>\n",
       "      <td>0.0</td>\n",
       "      <td>NaN</td>\n",
       "      <td>NaN</td>\n",
       "      <td>NaN</td>\n",
       "      <td>NaN</td>\n",
       "      <td>NaN</td>\n",
       "      <td>NaN</td>\n",
       "      <td>NaN</td>\n",
       "      <td>NaN</td>\n",
       "      <td>NaN</td>\n",
       "      <td>NaN</td>\n",
       "      <td>1.21</td>\n",
       "    </tr>\n",
       "    <tr>\n",
       "      <th>8214</th>\n",
       "      <td>28/06/2020</td>\n",
       "      <td>0.0</td>\n",
       "      <td>0.0</td>\n",
       "      <td>0.0</td>\n",
       "      <td>0.0</td>\n",
       "      <td>0.0</td>\n",
       "      <td>NaN</td>\n",
       "      <td>NaN</td>\n",
       "      <td>NaN</td>\n",
       "      <td>NaN</td>\n",
       "      <td>NaN</td>\n",
       "      <td>NaN</td>\n",
       "      <td>NaN</td>\n",
       "      <td>NaN</td>\n",
       "      <td>NaN</td>\n",
       "      <td>NaN</td>\n",
       "      <td>1.30</td>\n",
       "    </tr>\n",
       "    <tr>\n",
       "      <th>8215</th>\n",
       "      <td>29/06/2020</td>\n",
       "      <td>0.0</td>\n",
       "      <td>0.0</td>\n",
       "      <td>0.0</td>\n",
       "      <td>0.0</td>\n",
       "      <td>0.0</td>\n",
       "      <td>NaN</td>\n",
       "      <td>NaN</td>\n",
       "      <td>NaN</td>\n",
       "      <td>NaN</td>\n",
       "      <td>NaN</td>\n",
       "      <td>NaN</td>\n",
       "      <td>NaN</td>\n",
       "      <td>NaN</td>\n",
       "      <td>NaN</td>\n",
       "      <td>NaN</td>\n",
       "      <td>1.19</td>\n",
       "    </tr>\n",
       "    <tr>\n",
       "      <th>8216</th>\n",
       "      <td>30/06/2020</td>\n",
       "      <td>0.0</td>\n",
       "      <td>0.0</td>\n",
       "      <td>0.0</td>\n",
       "      <td>0.0</td>\n",
       "      <td>0.0</td>\n",
       "      <td>NaN</td>\n",
       "      <td>NaN</td>\n",
       "      <td>NaN</td>\n",
       "      <td>NaN</td>\n",
       "      <td>NaN</td>\n",
       "      <td>NaN</td>\n",
       "      <td>NaN</td>\n",
       "      <td>NaN</td>\n",
       "      <td>NaN</td>\n",
       "      <td>NaN</td>\n",
       "      <td>1.30</td>\n",
       "    </tr>\n",
       "  </tbody>\n",
       "</table>\n",
       "<p>8217 rows × 17 columns</p>\n",
       "</div>"
      ],
      "text/plain": [
       "            Date  Rainfall_Le_Croci  Rainfall_Cavallina  Rainfall_S_Agata  \\\n",
       "0     01/01/1998                NaN                 NaN               NaN   \n",
       "1     02/01/1998                NaN                 NaN               NaN   \n",
       "2     03/01/1998                NaN                 NaN               NaN   \n",
       "3     04/01/1998                NaN                 NaN               NaN   \n",
       "4     05/01/1998                NaN                 NaN               NaN   \n",
       "...          ...                ...                 ...               ...   \n",
       "8212  26/06/2020                0.0                 0.0               0.0   \n",
       "8213  27/06/2020                0.0                 0.0               0.0   \n",
       "8214  28/06/2020                0.0                 0.0               0.0   \n",
       "8215  29/06/2020                0.0                 0.0               0.0   \n",
       "8216  30/06/2020                0.0                 0.0               0.0   \n",
       "\n",
       "      Rainfall_Mangona  Rainfall_S_Piero  Rainfall_Vernio  Rainfall_Stia  \\\n",
       "0                  NaN               NaN              NaN            NaN   \n",
       "1                  NaN               NaN              NaN            NaN   \n",
       "2                  NaN               NaN              NaN            NaN   \n",
       "3                  NaN               NaN              NaN            NaN   \n",
       "4                  NaN               NaN              NaN            NaN   \n",
       "...                ...               ...              ...            ...   \n",
       "8212               0.0               0.0              NaN            NaN   \n",
       "8213               0.0               0.0              NaN            NaN   \n",
       "8214               0.0               0.0              NaN            NaN   \n",
       "8215               0.0               0.0              NaN            NaN   \n",
       "8216               0.0               0.0              NaN            NaN   \n",
       "\n",
       "      Rainfall_Consuma  Rainfall_Incisa  Rainfall_Montevarchi  \\\n",
       "0                  NaN              NaN                   NaN   \n",
       "1                  NaN              NaN                   NaN   \n",
       "2                  NaN              NaN                   NaN   \n",
       "3                  NaN              NaN                   NaN   \n",
       "4                  NaN              NaN                   NaN   \n",
       "...                ...              ...                   ...   \n",
       "8212               NaN              NaN                   NaN   \n",
       "8213               NaN              NaN                   NaN   \n",
       "8214               NaN              NaN                   NaN   \n",
       "8215               NaN              NaN                   NaN   \n",
       "8216               NaN              NaN                   NaN   \n",
       "\n",
       "      Rainfall_S_Savino  Rainfall_Laterina  Rainfall_Bibbiena  \\\n",
       "0                   NaN                NaN                NaN   \n",
       "1                   NaN                NaN                NaN   \n",
       "2                   NaN                NaN                NaN   \n",
       "3                   NaN                NaN                NaN   \n",
       "4                   NaN                NaN                NaN   \n",
       "...                 ...                ...                ...   \n",
       "8212                NaN                NaN                NaN   \n",
       "8213                NaN                NaN                NaN   \n",
       "8214                NaN                NaN                NaN   \n",
       "8215                NaN                NaN                NaN   \n",
       "8216                NaN                NaN                NaN   \n",
       "\n",
       "      Rainfall_Camaldoli  Temperature_Firenze  Hydrometry_Nave_di_Rosano  \n",
       "0                    NaN                  NaN                       1.82  \n",
       "1                    NaN                  NaN                       1.94  \n",
       "2                    NaN                  NaN                       2.11  \n",
       "3                    NaN                  NaN                       1.84  \n",
       "4                    NaN                  NaN                       1.88  \n",
       "...                  ...                  ...                        ...  \n",
       "8212                 NaN                  NaN                       1.34  \n",
       "8213                 NaN                  NaN                       1.21  \n",
       "8214                 NaN                  NaN                       1.30  \n",
       "8215                 NaN                  NaN                       1.19  \n",
       "8216                 NaN                  NaN                       1.30  \n",
       "\n",
       "[8217 rows x 17 columns]"
      ]
     },
     "execution_count": 104,
     "metadata": {},
     "output_type": "execute_result"
    }
   ],
   "source": [
    "River_Arno"
   ]
  },
  {
   "cell_type": "code",
   "execution_count": 105,
   "metadata": {},
   "outputs": [
    {
     "name": "stdout",
     "output_type": "stream",
     "text": [
      "<class 'pandas.core.frame.DataFrame'>\n",
      "RangeIndex: 8217 entries, 0 to 8216\n",
      "Data columns (total 17 columns):\n",
      " #   Column                     Non-Null Count  Dtype  \n",
      "---  ------                     --------------  -----  \n",
      " 0   Date                       8217 non-null   object \n",
      " 1   Rainfall_Le_Croci          6026 non-null   float64\n",
      " 2   Rainfall_Cavallina         6026 non-null   float64\n",
      " 3   Rainfall_S_Agata           6026 non-null   float64\n",
      " 4   Rainfall_Mangona           6026 non-null   float64\n",
      " 5   Rainfall_S_Piero           6026 non-null   float64\n",
      " 6   Rainfall_Vernio            4283 non-null   float64\n",
      " 7   Rainfall_Stia              1283 non-null   float64\n",
      " 8   Rainfall_Consuma           1283 non-null   float64\n",
      " 9   Rainfall_Incisa            4568 non-null   float64\n",
      " 10  Rainfall_Montevarchi       1647 non-null   float64\n",
      " 11  Rainfall_S_Savino          1283 non-null   float64\n",
      " 12  Rainfall_Laterina          1283 non-null   float64\n",
      " 13  Rainfall_Bibbiena          2378 non-null   float64\n",
      " 14  Rainfall_Camaldoli         1283 non-null   float64\n",
      " 15  Temperature_Firenze        6192 non-null   float64\n",
      " 16  Hydrometry_Nave_di_Rosano  8169 non-null   float64\n",
      "dtypes: float64(16), object(1)\n",
      "memory usage: 1.1+ MB\n"
     ]
    }
   ],
   "source": [
    "River_Arno.info()"
   ]
  },
  {
   "cell_type": "code",
   "execution_count": 106,
   "metadata": {},
   "outputs": [
    {
     "data": {
      "text/plain": [
       "(8217, 17)"
      ]
     },
     "execution_count": 106,
     "metadata": {},
     "output_type": "execute_result"
    }
   ],
   "source": [
    "River_Arno.shape"
   ]
  },
  {
   "cell_type": "markdown",
   "metadata": {},
   "source": [
    "### Filled Entries"
   ]
  },
  {
   "cell_type": "code",
   "execution_count": 107,
   "metadata": {},
   "outputs": [
    {
     "data": {
      "text/plain": [
       "<AxesSubplot:>"
      ]
     },
     "execution_count": 107,
     "metadata": {},
     "output_type": "execute_result"
    },
    {
     "data": {
      "image/png": "[encoded data removed]",
      "text/plain": [
       "<Figure size 1728x720 with 3 Axes>"
      ]
     },
     "metadata": {
      "needs_background": "light"
     },
     "output_type": "display_data"
    }
   ],
   "source": [
    "msno.bar(River_Arno,color='b')"
   ]
  },
  {
   "cell_type": "code",
   "execution_count": 108,
   "metadata": {},
   "outputs": [],
   "source": [
    "# River_Arno = River_Arno.drop(River_Arno['Hydrometry_Nave_di_Rosano'].isnull().sum(),axis=0)\n"
   ]
  },
  {
   "cell_type": "code",
   "execution_count": 109,
   "metadata": {},
   "outputs": [],
   "source": [
    "# River_Arno['Hydrometry_Nave_di_Rosano'].isnull().sum()"
   ]
  },
  {
   "cell_type": "markdown",
   "metadata": {},
   "source": [
    "### Dates starting and ending values"
   ]
  },
  {
   "cell_type": "code",
   "execution_count": 110,
   "metadata": {},
   "outputs": [
    {
     "name": "stdout",
     "output_type": "stream",
     "text": [
      "starting date: 01/01/1998\n",
      "ending date: 30/06/2020\n"
     ]
    }
   ],
   "source": [
    "print('starting date:', River_Arno.Date.values[[0,-1]][0])\n",
    "print('ending date:', River_Arno.Date.values[[0,-1]][1])\n"
   ]
  },
  {
   "cell_type": "markdown",
   "metadata": {},
   "source": [
    "### Position of Null values"
   ]
  },
  {
   "cell_type": "code",
   "execution_count": 111,
   "metadata": {},
   "outputs": [
    {
     "data": {
      "text/plain": [
       "<AxesSubplot:>"
      ]
     },
     "execution_count": 111,
     "metadata": {},
     "output_type": "execute_result"
    },
    {
     "data": {
      "image/png": "[encoded data removed]",
      "text/plain": [
       "<Figure size 432x288 with 1 Axes>"
      ]
     },
     "metadata": {
      "needs_background": "light"
     },
     "output_type": "display_data"
    }
   ],
   "source": [
    "sns.heatmap(River_Arno.isnull(),yticklabels=False,cbar=False)"
   ]
  },
  {
   "cell_type": "code",
   "execution_count": 112,
   "metadata": {},
   "outputs": [],
   "source": [
    "data=River_Arno.copy()\n",
    "data.drop('Date',axis=1,inplace=True)"
   ]
  },
  {
   "cell_type": "markdown",
   "metadata": {},
   "source": [
    "### Feature Selection"
   ]
  },
  {
   "cell_type": "code",
   "execution_count": 113,
   "metadata": {},
   "outputs": [
    {
     "data": {
      "text/plain": [
       "<AxesSubplot:>"
      ]
     },
     "execution_count": 113,
     "metadata": {},
     "output_type": "execute_result"
    },
    {
     "data": {
      "image/png": "[encoded data removed]",
      "text/plain": [
       "<Figure size 432x288 with 2 Axes>"
      ]
     },
     "metadata": {
      "needs_background": "light"
     },
     "output_type": "display_data"
    }
   ],
   "source": [
    "sns.heatmap(data.corr())"
   ]
  },
  {
   "cell_type": "code",
   "execution_count": 114,
   "metadata": {},
   "outputs": [
    {
     "name": "stdout",
     "output_type": "stream",
     "text": [
      "Rainfall_Le_Croci 26.6642 % missing \n",
      "Rainfall_Cavallina 26.6642 % missing \n",
      "Rainfall_S_Agata 26.6642 % missing \n",
      "Rainfall_Mangona 26.6642 % missing \n",
      "Rainfall_S_Piero 26.6642 % missing \n",
      "Rainfall_Vernio 47.8764 % missing \n",
      "Rainfall_Stia 84.386 % missing \n",
      "Rainfall_Consuma 84.386 % missing \n",
      "Rainfall_Incisa 44.4079 % missing \n",
      "Rainfall_Montevarchi 79.9562 % missing \n",
      "Rainfall_S_Savino 84.386 % missing \n",
      "Rainfall_Laterina 84.386 % missing \n",
      "Rainfall_Bibbiena 71.06 % missing \n",
      "Rainfall_Camaldoli 84.386 % missing \n",
      "Temperature_Firenze 24.644 % missing \n",
      "Hydrometry_Nave_di_Rosano 0.5842 % missing \n"
     ]
    }
   ],
   "source": [
    "features_nan=[features for features in River_Arno.columns if River_Arno[features].isnull().sum()>1 and River_Arno[features].dtypes!='O']\n",
    "for feature in features_nan:\n",
    "    print(feature, np.round(River_Arno[feature].isnull().mean()*100,4),'% missing ')"
   ]
  },
  {
   "cell_type": "code",
   "execution_count": 115,
   "metadata": {},
   "outputs": [
    {
     "data": {
      "text/plain": [
       "\"\\nColumns that are going to be dropped\\n\\n'Date',\\n'Hydrometry_Nave_di_Rosano', # Target Variable\\n'Rainfall_S_Savino',\\n'Rainfall_Consuma',\\n'Rainfall_Laterina',\\n'Rainfall_Camaldoli',\\n'Rainfall_Stia',\\n'',\\n'Rainfall_Montevarchi',\\n'Rainfall_Bibbiena',\\n'Rainfall_Incisa'\\n\\n\""
      ]
     },
     "execution_count": 115,
     "metadata": {},
     "output_type": "execute_result"
    }
   ],
   "source": [
    "'''\n",
    "Columns that are going to be dropped\n",
    "\n",
    "'Date',\n",
    "'Hydrometry_Nave_di_Rosano', # Target Variable\n",
    "'Rainfall_S_Savino',\n",
    "'Rainfall_Consuma',\n",
    "'Rainfall_Laterina',\n",
    "'Rainfall_Camaldoli',\n",
    "'Rainfall_Stia',\n",
    "'',\n",
    "'Rainfall_Montevarchi',\n",
    "'Rainfall_Bibbiena',\n",
    "'Rainfall_Incisa'\n",
    "\n",
    "'''"
   ]
  },
  {
   "cell_type": "code",
   "execution_count": 116,
   "metadata": {},
   "outputs": [],
   "source": [
    "River_Arno_corr = River_Arno.drop(['Rainfall_S_Savino','Rainfall_Consuma','Rainfall_Laterina','Rainfall_Camaldoli','Rainfall_Stia','Date','Rainfall_Montevarchi','Rainfall_Bibbiena','Rainfall_Incisa'],axis=1)"
   ]
  },
  {
   "cell_type": "code",
   "execution_count": 117,
   "metadata": {},
   "outputs": [
    {
     "data": {
      "text/plain": [
       "<AxesSubplot:>"
      ]
     },
     "execution_count": 117,
     "metadata": {},
     "output_type": "execute_result"
    },
    {
     "data": {
      "image/png": "[encoded data removed]",
      "text/plain": [
       "<Figure size 432x288 with 2 Axes>"
      ]
     },
     "metadata": {
      "needs_background": "light"
     },
     "output_type": "display_data"
    }
   ],
   "source": [
    "sns.heatmap(River_Arno_corr.corr())"
   ]
  },
  {
   "cell_type": "code",
   "execution_count": 118,
   "metadata": {},
   "outputs": [
    {
     "name": "stdout",
     "output_type": "stream",
     "text": [
      "Rainfall_Le_Croci 26.6642 % missing \n",
      "Rainfall_Cavallina 26.6642 % missing \n",
      "Rainfall_S_Agata 26.6642 % missing \n",
      "Rainfall_Mangona 26.6642 % missing \n",
      "Rainfall_S_Piero 26.6642 % missing \n",
      "Rainfall_Vernio 47.8764 % missing \n",
      "Temperature_Firenze 24.644 % missing \n",
      "Hydrometry_Nave_di_Rosano 0.5842 % missing \n"
     ]
    }
   ],
   "source": [
    "a = River_Arno_corr\n",
    "\n",
    "features_nan=[features for features in a.columns if a[features].isnull().sum()>1 and a[features].dtypes!='O']\n",
    "for feature in features_nan:\n",
    "    print(feature, np.round(a[feature].isnull().mean()*100,4),'% missing ')"
   ]
  },
  {
   "cell_type": "markdown",
   "metadata": {},
   "source": [
    "### Imputation"
   ]
  },
  {
   "cell_type": "markdown",
   "metadata": {},
   "source": [
    "Rainfall_Le_Croci"
   ]
  },
  {
   "cell_type": "code",
   "execution_count": 119,
   "metadata": {},
   "outputs": [],
   "source": [
    "def cal(x):\n",
    "    null_values=x.isnull().sum()\n",
    "    count_values=x.value_counts().unique\n",
    "    mean=x.mean()\n",
    "    median=x.median()\n",
    "    mode=x.mode()\n",
    "    print('null_values: ',null_values,'count_values: ', count_values, 'mean: ',mean,'median: ', median,'mode: ',mode, sep=' \\n  ' )\n",
    "    return"
   ]
  },
  {
   "cell_type": "code",
   "execution_count": 120,
   "metadata": {},
   "outputs": [
    {
     "name": "stdout",
     "output_type": "stream",
     "text": [
      "null_values:  \n",
      "  2191 \n",
      "  count_values:  \n",
      "  <bound method Series.unique of 0.0     3779\n",
      "0.2      342\n",
      "0.4      141\n",
      "0.8       89\n",
      "0.6       77\n",
      "        ... \n",
      "33.2       1\n",
      "36.8       1\n",
      "45.8       1\n",
      "36.4       1\n",
      "39.6       1\n",
      "Name: Rainfall_Le_Croci, Length: 230, dtype: int64> \n",
      "  mean:  \n",
      "  3.1298705609027775 \n",
      "  median:  \n",
      "  0.0 \n",
      "  mode:  \n",
      "  0    0.0\n",
      "dtype: float64\n"
     ]
    }
   ],
   "source": [
    "x=a['Rainfall_Le_Croci']\n",
    "cal(x)"
   ]
  },
  {
   "cell_type": "code",
   "execution_count": 121,
   "metadata": {},
   "outputs": [],
   "source": [
    "a['Rainfall_Le_Croci']=a['Rainfall_Le_Croci'].median()"
   ]
  },
  {
   "cell_type": "markdown",
   "metadata": {},
   "source": [
    "Rainfall_Cavallina"
   ]
  },
  {
   "cell_type": "code",
   "execution_count": 122,
   "metadata": {},
   "outputs": [
    {
     "name": "stdout",
     "output_type": "stream",
     "text": [
      "null_values:  \n",
      "  2191 \n",
      "  count_values:  \n",
      "  <bound method Series.unique of 0.0     4124\n",
      "0.2      270\n",
      "0.4      114\n",
      "0.6       65\n",
      "1.2       58\n",
      "        ... \n",
      "63.2       1\n",
      "70.8       1\n",
      "39.2       1\n",
      "66.2       1\n",
      "30.4       1\n",
      "Name: Rainfall_Cavallina, Length: 219, dtype: int64> \n",
      "  mean:  \n",
      "  2.674742781281121 \n",
      "  median:  \n",
      "  0.0 \n",
      "  mode:  \n",
      "  0    0.0\n",
      "dtype: float64\n"
     ]
    }
   ],
   "source": [
    "x=a['Rainfall_Cavallina']\n",
    "cal(x)"
   ]
  },
  {
   "cell_type": "code",
   "execution_count": 123,
   "metadata": {},
   "outputs": [],
   "source": [
    "a['Rainfall_Cavallina']=a['Rainfall_Cavallina'].fillna(a['Rainfall_Cavallina'].median())"
   ]
  },
  {
   "cell_type": "markdown",
   "metadata": {},
   "source": [
    "Rainfall_S_Agata"
   ]
  },
  {
   "cell_type": "code",
   "execution_count": 124,
   "metadata": {},
   "outputs": [
    {
     "name": "stdout",
     "output_type": "stream",
     "text": [
      "null_values:  \n",
      "  2191 \n",
      "  count_values:  \n",
      "  <bound method Series.unique of 0.0     3755\n",
      "0.2      378\n",
      "0.4      137\n",
      "0.6       86\n",
      "1.0       72\n",
      "        ... \n",
      "37.0       1\n",
      "18.0       1\n",
      "46.0       1\n",
      "43.4       1\n",
      "57.8       1\n",
      "Name: Rainfall_S_Agata, Length: 207, dtype: int64> \n",
      "  mean:  \n",
      "  2.670063060073033 \n",
      "  median:  \n",
      "  0.0 \n",
      "  mode:  \n",
      "  0    0.0\n",
      "dtype: float64\n"
     ]
    }
   ],
   "source": [
    "x=a['Rainfall_S_Agata']\n",
    "cal(x)"
   ]
  },
  {
   "cell_type": "code",
   "execution_count": 125,
   "metadata": {},
   "outputs": [],
   "source": [
    "a['Rainfall_S_Agata']=a['Rainfall_S_Agata'].fillna(a['Rainfall_S_Agata'].median())"
   ]
  },
  {
   "cell_type": "markdown",
   "metadata": {},
   "source": [
    "Rainfall_Mangona"
   ]
  },
  {
   "cell_type": "code",
   "execution_count": 126,
   "metadata": {},
   "outputs": [
    {
     "name": "stdout",
     "output_type": "stream",
     "text": [
      "null_values:  \n",
      "  2191 \n",
      "  count_values:  \n",
      "  <bound method Series.unique of 0.0      3822\n",
      "0.2       291\n",
      "0.4       107\n",
      "0.8        86\n",
      "0.6        85\n",
      "         ... \n",
      "27.8        1\n",
      "108.6       1\n",
      "37.0        1\n",
      "34.2        1\n",
      "36.8        1\n",
      "Name: Rainfall_Mangona, Length: 247, dtype: int64> \n",
      "  mean:  \n",
      "  3.3406571523398827 \n",
      "  median:  \n",
      "  0.0 \n",
      "  mode:  \n",
      "  0    0.0\n",
      "dtype: float64\n"
     ]
    }
   ],
   "source": [
    "x=a['Rainfall_Mangona']\n",
    "cal(x)"
   ]
  },
  {
   "cell_type": "code",
   "execution_count": 127,
   "metadata": {},
   "outputs": [],
   "source": [
    "a['Rainfall_Mangona']=a['Rainfall_Mangona'].fillna(a['Rainfall_Mangona'].median())"
   ]
  },
  {
   "cell_type": "markdown",
   "metadata": {},
   "source": [
    "Rainfall_S_Piero"
   ]
  },
  {
   "cell_type": "code",
   "execution_count": 128,
   "metadata": {},
   "outputs": [
    {
     "name": "stdout",
     "output_type": "stream",
     "text": [
      "null_values:  \n",
      "  2191 \n",
      "  count_values:  \n",
      "  <bound method Series.unique of 0.0     3679\n",
      "0.2      545\n",
      "0.4      148\n",
      "0.6       81\n",
      "0.8       72\n",
      "        ... \n",
      "53.2       1\n",
      "26.2       1\n",
      "52.4       1\n",
      "34.6       1\n",
      "59.2       1\n",
      "Name: Rainfall_S_Piero, Length: 206, dtype: int64> \n",
      "  mean:  \n",
      "  2.4712246929970267 \n",
      "  median:  \n",
      "  0.0 \n",
      "  mode:  \n",
      "  0    0.0\n",
      "dtype: float64\n"
     ]
    }
   ],
   "source": [
    "x=a['Rainfall_S_Piero']\n",
    "cal(x)"
   ]
  },
  {
   "cell_type": "code",
   "execution_count": 129,
   "metadata": {},
   "outputs": [],
   "source": [
    "a['Rainfall_S_Piero']=a['Rainfall_S_Piero'].fillna(a['Rainfall_S_Piero'].median())"
   ]
  },
  {
   "cell_type": "markdown",
   "metadata": {},
   "source": [
    "Rainfall_Vernio"
   ]
  },
  {
   "cell_type": "code",
   "execution_count": 130,
   "metadata": {},
   "outputs": [
    {
     "name": "stdout",
     "output_type": "stream",
     "text": [
      "null_values:  \n",
      "  3934 \n",
      "  count_values:  \n",
      "  <bound method Series.unique of 0.0     2666\n",
      "0.2      285\n",
      "0.4       90\n",
      "0.6       65\n",
      "0.8       55\n",
      "        ... \n",
      "93.0       1\n",
      "32.2       1\n",
      "44.2       1\n",
      "38.2       1\n",
      "34.4       1\n",
      "Name: Rainfall_Vernio, Length: 226, dtype: int64> \n",
      "  mean:  \n",
      "  3.416437076815326 \n",
      "  median:  \n",
      "  0.0 \n",
      "  mode:  \n",
      "  0    0.0\n",
      "dtype: float64\n"
     ]
    }
   ],
   "source": [
    "x=a['Rainfall_Vernio']\n",
    "cal(x)"
   ]
  },
  {
   "cell_type": "code",
   "execution_count": 131,
   "metadata": {},
   "outputs": [],
   "source": [
    "a['Rainfall_Vernio']=a['Rainfall_Vernio'].fillna(a['Rainfall_Vernio'].median())"
   ]
  },
  {
   "cell_type": "markdown",
   "metadata": {},
   "source": [
    "Temperature_Firenze"
   ]
  },
  {
   "cell_type": "code",
   "execution_count": 132,
   "metadata": {},
   "outputs": [
    {
     "name": "stdout",
     "output_type": "stream",
     "text": [
      "null_values:  \n",
      "  2025 \n",
      "  count_values:  \n",
      "  <bound method Series.unique of  14.25    25\n",
      " 11.00    24\n",
      " 15.90    22\n",
      " 16.55    22\n",
      " 12.75    21\n",
      "          ..\n",
      " 3.20      1\n",
      "-2.35      1\n",
      "-0.10      1\n",
      " 2.90      1\n",
      " 34.25     1\n",
      "Name: Temperature_Firenze, Length: 658, dtype: int64> \n",
      "  mean:  \n",
      "  16.60538598191213 \n",
      "  median:  \n",
      "  16.35 \n",
      "  mode:  \n",
      "  0    14.25\n",
      "dtype: float64\n"
     ]
    }
   ],
   "source": [
    "x=a['Temperature_Firenze']\n",
    "cal(x)"
   ]
  },
  {
   "cell_type": "code",
   "execution_count": 133,
   "metadata": {},
   "outputs": [],
   "source": [
    "a['Temperature_Firenze']=a['Temperature_Firenze'].fillna(a['Temperature_Firenze'].median())"
   ]
  },
  {
   "cell_type": "markdown",
   "metadata": {},
   "source": [
    "Hydrometry_Nave_di_Rosano"
   ]
  },
  {
   "cell_type": "code",
   "execution_count": 134,
   "metadata": {},
   "outputs": [
    {
     "name": "stdout",
     "output_type": "stream",
     "text": [
      "null_values:  \n",
      "  48 \n",
      "  count_values:  \n",
      "  <bound method Series.unique of 1.06    198\n",
      "1.08    193\n",
      "1.09    190\n",
      "0.00    187\n",
      "1.04    174\n",
      "       ... \n",
      "4.38      1\n",
      "3.30      1\n",
      "4.21      1\n",
      "3.65      1\n",
      "4.51      1\n",
      "Name: Hydrometry_Nave_di_Rosano, Length: 337, dtype: int64> \n",
      "  mean:  \n",
      "  1.4724066593218288 \n",
      "  median:  \n",
      "  1.3 \n",
      "  mode:  \n",
      "  0    1.06\n",
      "dtype: float64\n"
     ]
    }
   ],
   "source": [
    "x=a['Hydrometry_Nave_di_Rosano']\n",
    "cal(x)"
   ]
  },
  {
   "cell_type": "code",
   "execution_count": 135,
   "metadata": {},
   "outputs": [],
   "source": [
    "a['Hydrometry_Nave_di_Rosano']=a['Hydrometry_Nave_di_Rosano'].fillna(a['Hydrometry_Nave_di_Rosano'].median())"
   ]
  },
  {
   "cell_type": "code",
   "execution_count": 136,
   "metadata": {},
   "outputs": [
    {
     "data": {
      "text/plain": [
       "Rainfall_Le_Croci            0\n",
       "Rainfall_Cavallina           0\n",
       "Rainfall_S_Agata             0\n",
       "Rainfall_Mangona             0\n",
       "Rainfall_S_Piero             0\n",
       "Rainfall_Vernio              0\n",
       "Temperature_Firenze          0\n",
       "Hydrometry_Nave_di_Rosano    0\n",
       "dtype: int64"
      ]
     },
     "execution_count": 136,
     "metadata": {},
     "output_type": "execute_result"
    }
   ],
   "source": [
    "a.isnull().sum()"
   ]
  }
 ],
 "metadata": {
  "interpreter": {
   "hash": "8e98eea00a698c66ff9007bd5a8bf6209cdaa78d416205c57d24ef9296d8223a"
  },
  "kernelspec": {
   "display_name": "Python 3.8.12 64-bit ('strive': conda)",
   "language": "python",
   "name": "python3"
  },
  "language_info": {
   "codemirror_mode": {
    "name": "ipython",
    "version": 3
   },
   "file_extension": ".py",
   "mimetype": "text/x-python",
   "name": "python",
   "nbconvert_exporter": "python",
   "pygments_lexer": "ipython3",
   "version": "3.8.12"
  },
  "orig_nbformat": 4
 },
 "nbformat": 4,
 "nbformat_minor": 2
}
