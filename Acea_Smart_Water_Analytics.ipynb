{
 "cells": [
  {
   "cell_type": "code",
   "execution_count": 97,
   "metadata": {},
   "outputs": [],
   "source": [
    "import pandas as pd\n",
    "import numpy as np\n",
    "import matplotlib.pyplot as plt\n",
    "import seaborn as sns"
   ]
  },
  {
   "cell_type": "code",
   "execution_count": 98,
   "metadata": {},
   "outputs": [],
   "source": [
    "df=pd.read_csv('C:/Users/Venati Himanth/OneDrive/Desktop/strive/python/ML/Images/Acea_Smart_Water_Analytics_ML/DATA/River_Arno.csv')"
   ]
  },
  {
   "cell_type": "code",
   "execution_count": 99,
   "metadata": {},
   "outputs": [
    {
     "data": {
      "text/html": [
       "<div>\n",
       "<style scoped>\n",
       "    .dataframe tbody tr th:only-of-type {\n",
       "        vertical-align: middle;\n",
       "    }\n",
       "\n",
       "    .dataframe tbody tr th {\n",
       "        vertical-align: top;\n",
       "    }\n",
       "\n",
       "    .dataframe thead th {\n",
       "        text-align: right;\n",
       "    }\n",
       "</style>\n",
       "<table border=\"1\" class=\"dataframe\">\n",
       "  <thead>\n",
       "    <tr style=\"text-align: right;\">\n",
       "      <th></th>\n",
       "      <th>Date</th>\n",
       "      <th>Rainfall_Le_Croci</th>\n",
       "      <th>Rainfall_Cavallina</th>\n",
       "      <th>Rainfall_S_Agata</th>\n",
       "      <th>Rainfall_Mangona</th>\n",
       "      <th>Rainfall_S_Piero</th>\n",
       "      <th>Rainfall_Vernio</th>\n",
       "      <th>Rainfall_Stia</th>\n",
       "      <th>Rainfall_Consuma</th>\n",
       "      <th>Rainfall_Incisa</th>\n",
       "      <th>Rainfall_Montevarchi</th>\n",
       "      <th>Rainfall_S_Savino</th>\n",
       "      <th>Rainfall_Laterina</th>\n",
       "      <th>Rainfall_Bibbiena</th>\n",
       "      <th>Rainfall_Camaldoli</th>\n",
       "      <th>Temperature_Firenze</th>\n",
       "      <th>Hydrometry_Nave_di_Rosano</th>\n",
       "    </tr>\n",
       "  </thead>\n",
       "  <tbody>\n",
       "    <tr>\n",
       "      <th>0</th>\n",
       "      <td>01/01/1998</td>\n",
       "      <td>NaN</td>\n",
       "      <td>NaN</td>\n",
       "      <td>NaN</td>\n",
       "      <td>NaN</td>\n",
       "      <td>NaN</td>\n",
       "      <td>NaN</td>\n",
       "      <td>NaN</td>\n",
       "      <td>NaN</td>\n",
       "      <td>NaN</td>\n",
       "      <td>NaN</td>\n",
       "      <td>NaN</td>\n",
       "      <td>NaN</td>\n",
       "      <td>NaN</td>\n",
       "      <td>NaN</td>\n",
       "      <td>NaN</td>\n",
       "      <td>1.82</td>\n",
       "    </tr>\n",
       "    <tr>\n",
       "      <th>1</th>\n",
       "      <td>02/01/1998</td>\n",
       "      <td>NaN</td>\n",
       "      <td>NaN</td>\n",
       "      <td>NaN</td>\n",
       "      <td>NaN</td>\n",
       "      <td>NaN</td>\n",
       "      <td>NaN</td>\n",
       "      <td>NaN</td>\n",
       "      <td>NaN</td>\n",
       "      <td>NaN</td>\n",
       "      <td>NaN</td>\n",
       "      <td>NaN</td>\n",
       "      <td>NaN</td>\n",
       "      <td>NaN</td>\n",
       "      <td>NaN</td>\n",
       "      <td>NaN</td>\n",
       "      <td>1.94</td>\n",
       "    </tr>\n",
       "    <tr>\n",
       "      <th>2</th>\n",
       "      <td>03/01/1998</td>\n",
       "      <td>NaN</td>\n",
       "      <td>NaN</td>\n",
       "      <td>NaN</td>\n",
       "      <td>NaN</td>\n",
       "      <td>NaN</td>\n",
       "      <td>NaN</td>\n",
       "      <td>NaN</td>\n",
       "      <td>NaN</td>\n",
       "      <td>NaN</td>\n",
       "      <td>NaN</td>\n",
       "      <td>NaN</td>\n",
       "      <td>NaN</td>\n",
       "      <td>NaN</td>\n",
       "      <td>NaN</td>\n",
       "      <td>NaN</td>\n",
       "      <td>2.11</td>\n",
       "    </tr>\n",
       "    <tr>\n",
       "      <th>3</th>\n",
       "      <td>04/01/1998</td>\n",
       "      <td>NaN</td>\n",
       "      <td>NaN</td>\n",
       "      <td>NaN</td>\n",
       "      <td>NaN</td>\n",
       "      <td>NaN</td>\n",
       "      <td>NaN</td>\n",
       "      <td>NaN</td>\n",
       "      <td>NaN</td>\n",
       "      <td>NaN</td>\n",
       "      <td>NaN</td>\n",
       "      <td>NaN</td>\n",
       "      <td>NaN</td>\n",
       "      <td>NaN</td>\n",
       "      <td>NaN</td>\n",
       "      <td>NaN</td>\n",
       "      <td>1.84</td>\n",
       "    </tr>\n",
       "    <tr>\n",
       "      <th>4</th>\n",
       "      <td>05/01/1998</td>\n",
       "      <td>NaN</td>\n",
       "      <td>NaN</td>\n",
       "      <td>NaN</td>\n",
       "      <td>NaN</td>\n",
       "      <td>NaN</td>\n",
       "      <td>NaN</td>\n",
       "      <td>NaN</td>\n",
       "      <td>NaN</td>\n",
       "      <td>NaN</td>\n",
       "      <td>NaN</td>\n",
       "      <td>NaN</td>\n",
       "      <td>NaN</td>\n",
       "      <td>NaN</td>\n",
       "      <td>NaN</td>\n",
       "      <td>NaN</td>\n",
       "      <td>1.88</td>\n",
       "    </tr>\n",
       "    <tr>\n",
       "      <th>...</th>\n",
       "      <td>...</td>\n",
       "      <td>...</td>\n",
       "      <td>...</td>\n",
       "      <td>...</td>\n",
       "      <td>...</td>\n",
       "      <td>...</td>\n",
       "      <td>...</td>\n",
       "      <td>...</td>\n",
       "      <td>...</td>\n",
       "      <td>...</td>\n",
       "      <td>...</td>\n",
       "      <td>...</td>\n",
       "      <td>...</td>\n",
       "      <td>...</td>\n",
       "      <td>...</td>\n",
       "      <td>...</td>\n",
       "      <td>...</td>\n",
       "    </tr>\n",
       "    <tr>\n",
       "      <th>8212</th>\n",
       "      <td>26/06/2020</td>\n",
       "      <td>0.0</td>\n",
       "      <td>0.0</td>\n",
       "      <td>0.0</td>\n",
       "      <td>0.0</td>\n",
       "      <td>0.0</td>\n",
       "      <td>NaN</td>\n",
       "      <td>NaN</td>\n",
       "      <td>NaN</td>\n",
       "      <td>NaN</td>\n",
       "      <td>NaN</td>\n",
       "      <td>NaN</td>\n",
       "      <td>NaN</td>\n",
       "      <td>NaN</td>\n",
       "      <td>NaN</td>\n",
       "      <td>NaN</td>\n",
       "      <td>1.34</td>\n",
       "    </tr>\n",
       "    <tr>\n",
       "      <th>8213</th>\n",
       "      <td>27/06/2020</td>\n",
       "      <td>0.0</td>\n",
       "      <td>0.0</td>\n",
       "      <td>0.0</td>\n",
       "      <td>0.0</td>\n",
       "      <td>0.0</td>\n",
       "      <td>NaN</td>\n",
       "      <td>NaN</td>\n",
       "      <td>NaN</td>\n",
       "      <td>NaN</td>\n",
       "      <td>NaN</td>\n",
       "      <td>NaN</td>\n",
       "      <td>NaN</td>\n",
       "      <td>NaN</td>\n",
       "      <td>NaN</td>\n",
       "      <td>NaN</td>\n",
       "      <td>1.21</td>\n",
       "    </tr>\n",
       "    <tr>\n",
       "      <th>8214</th>\n",
       "      <td>28/06/2020</td>\n",
       "      <td>0.0</td>\n",
       "      <td>0.0</td>\n",
       "      <td>0.0</td>\n",
       "      <td>0.0</td>\n",
       "      <td>0.0</td>\n",
       "      <td>NaN</td>\n",
       "      <td>NaN</td>\n",
       "      <td>NaN</td>\n",
       "      <td>NaN</td>\n",
       "      <td>NaN</td>\n",
       "      <td>NaN</td>\n",
       "      <td>NaN</td>\n",
       "      <td>NaN</td>\n",
       "      <td>NaN</td>\n",
       "      <td>NaN</td>\n",
       "      <td>1.30</td>\n",
       "    </tr>\n",
       "    <tr>\n",
       "      <th>8215</th>\n",
       "      <td>29/06/2020</td>\n",
       "      <td>0.0</td>\n",
       "      <td>0.0</td>\n",
       "      <td>0.0</td>\n",
       "      <td>0.0</td>\n",
       "      <td>0.0</td>\n",
       "      <td>NaN</td>\n",
       "      <td>NaN</td>\n",
       "      <td>NaN</td>\n",
       "      <td>NaN</td>\n",
       "      <td>NaN</td>\n",
       "      <td>NaN</td>\n",
       "      <td>NaN</td>\n",
       "      <td>NaN</td>\n",
       "      <td>NaN</td>\n",
       "      <td>NaN</td>\n",
       "      <td>1.19</td>\n",
       "    </tr>\n",
       "    <tr>\n",
       "      <th>8216</th>\n",
       "      <td>30/06/2020</td>\n",
       "      <td>0.0</td>\n",
       "      <td>0.0</td>\n",
       "      <td>0.0</td>\n",
       "      <td>0.0</td>\n",
       "      <td>0.0</td>\n",
       "      <td>NaN</td>\n",
       "      <td>NaN</td>\n",
       "      <td>NaN</td>\n",
       "      <td>NaN</td>\n",
       "      <td>NaN</td>\n",
       "      <td>NaN</td>\n",
       "      <td>NaN</td>\n",
       "      <td>NaN</td>\n",
       "      <td>NaN</td>\n",
       "      <td>NaN</td>\n",
       "      <td>1.30</td>\n",
       "    </tr>\n",
       "  </tbody>\n",
       "</table>\n",
       "<p>8217 rows × 17 columns</p>\n",
       "</div>"
      ],
      "text/plain": [
       "            Date  Rainfall_Le_Croci  Rainfall_Cavallina  Rainfall_S_Agata  \\\n",
       "0     01/01/1998                NaN                 NaN               NaN   \n",
       "1     02/01/1998                NaN                 NaN               NaN   \n",
       "2     03/01/1998                NaN                 NaN               NaN   \n",
       "3     04/01/1998                NaN                 NaN               NaN   \n",
       "4     05/01/1998                NaN                 NaN               NaN   \n",
       "...          ...                ...                 ...               ...   \n",
       "8212  26/06/2020                0.0                 0.0               0.0   \n",
       "8213  27/06/2020                0.0                 0.0               0.0   \n",
       "8214  28/06/2020                0.0                 0.0               0.0   \n",
       "8215  29/06/2020                0.0                 0.0               0.0   \n",
       "8216  30/06/2020                0.0                 0.0               0.0   \n",
       "\n",
       "      Rainfall_Mangona  Rainfall_S_Piero  Rainfall_Vernio  Rainfall_Stia  \\\n",
       "0                  NaN               NaN              NaN            NaN   \n",
       "1                  NaN               NaN              NaN            NaN   \n",
       "2                  NaN               NaN              NaN            NaN   \n",
       "3                  NaN               NaN              NaN            NaN   \n",
       "4                  NaN               NaN              NaN            NaN   \n",
       "...                ...               ...              ...            ...   \n",
       "8212               0.0               0.0              NaN            NaN   \n",
       "8213               0.0               0.0              NaN            NaN   \n",
       "8214               0.0               0.0              NaN            NaN   \n",
       "8215               0.0               0.0              NaN            NaN   \n",
       "8216               0.0               0.0              NaN            NaN   \n",
       "\n",
       "      Rainfall_Consuma  Rainfall_Incisa  Rainfall_Montevarchi  \\\n",
       "0                  NaN              NaN                   NaN   \n",
       "1                  NaN              NaN                   NaN   \n",
       "2                  NaN              NaN                   NaN   \n",
       "3                  NaN              NaN                   NaN   \n",
       "4                  NaN              NaN                   NaN   \n",
       "...                ...              ...                   ...   \n",
       "8212               NaN              NaN                   NaN   \n",
       "8213               NaN              NaN                   NaN   \n",
       "8214               NaN              NaN                   NaN   \n",
       "8215               NaN              NaN                   NaN   \n",
       "8216               NaN              NaN                   NaN   \n",
       "\n",
       "      Rainfall_S_Savino  Rainfall_Laterina  Rainfall_Bibbiena  \\\n",
       "0                   NaN                NaN                NaN   \n",
       "1                   NaN                NaN                NaN   \n",
       "2                   NaN                NaN                NaN   \n",
       "3                   NaN                NaN                NaN   \n",
       "4                   NaN                NaN                NaN   \n",
       "...                 ...                ...                ...   \n",
       "8212                NaN                NaN                NaN   \n",
       "8213                NaN                NaN                NaN   \n",
       "8214                NaN                NaN                NaN   \n",
       "8215                NaN                NaN                NaN   \n",
       "8216                NaN                NaN                NaN   \n",
       "\n",
       "      Rainfall_Camaldoli  Temperature_Firenze  Hydrometry_Nave_di_Rosano  \n",
       "0                    NaN                  NaN                       1.82  \n",
       "1                    NaN                  NaN                       1.94  \n",
       "2                    NaN                  NaN                       2.11  \n",
       "3                    NaN                  NaN                       1.84  \n",
       "4                    NaN                  NaN                       1.88  \n",
       "...                  ...                  ...                        ...  \n",
       "8212                 NaN                  NaN                       1.34  \n",
       "8213                 NaN                  NaN                       1.21  \n",
       "8214                 NaN                  NaN                       1.30  \n",
       "8215                 NaN                  NaN                       1.19  \n",
       "8216                 NaN                  NaN                       1.30  \n",
       "\n",
       "[8217 rows x 17 columns]"
      ]
     },
     "execution_count": 99,
     "metadata": {},
     "output_type": "execute_result"
    }
   ],
   "source": [
    "df"
   ]
  },
  {
   "cell_type": "code",
   "execution_count": 100,
   "metadata": {},
   "outputs": [
    {
     "data": {
      "text/plain": [
       "(8217, 17)"
      ]
     },
     "execution_count": 100,
     "metadata": {},
     "output_type": "execute_result"
    }
   ],
   "source": [
    "df.shape"
   ]
  },
  {
   "cell_type": "code",
   "execution_count": 101,
   "metadata": {},
   "outputs": [
    {
     "name": "stdout",
     "output_type": "stream",
     "text": [
      "Rainfall_Le_Croci 26.6642 %missing \n",
      "Rainfall_Cavallina 26.6642 %missing \n",
      "Rainfall_S_Agata 26.6642 %missing \n",
      "Rainfall_Mangona 26.6642 %missing \n",
      "Rainfall_S_Piero 26.6642 %missing \n",
      "Rainfall_Vernio 47.8764 %missing \n",
      "Rainfall_Stia 84.386 %missing \n",
      "Rainfall_Consuma 84.386 %missing \n",
      "Rainfall_Incisa 44.4079 %missing \n",
      "Rainfall_Montevarchi 79.9562 %missing \n",
      "Rainfall_S_Savino 84.386 %missing \n",
      "Rainfall_Laterina 84.386 %missing \n",
      "Rainfall_Bibbiena 71.06 %missing \n",
      "Rainfall_Camaldoli 84.386 %missing \n",
      "Temperature_Firenze 24.644 %missing \n",
      "Hydrometry_Nave_di_Rosano 0.5842 %missing \n"
     ]
    }
   ],
   "source": [
    "features_nan=[features for features in df.columns if df[features].isnull().sum()>1 and df[features].dtypes!='O']\n",
    "for feature in features_nan:\n",
    "    print(feature, np.round(df[feature].isnull().mean()*100,4),'%missing ')"
   ]
  },
  {
   "cell_type": "markdown",
   "metadata": {},
   "source": [
    "# let's see the null values impact with the target variable"
   ]
  },
  {
   "cell_type": "code",
   "execution_count": 102,
   "metadata": {},
   "outputs": [
    {
     "data": {
      "image/png": "[encoded data removed]",
      "text/plain": [
       "<Figure size 432x288 with 1 Axes>"
      ]
     },
     "metadata": {
      "needs_background": "light"
     },
     "output_type": "display_data"
    },
    {
     "data": {
      "image/png": "[encoded data removed]",
      "text/plain": [
       "<Figure size 432x288 with 1 Axes>"
      ]
     },
     "metadata": {
      "needs_background": "light"
     },
     "output_type": "display_data"
    },
    {
     "data": {
      "image/png": "[encoded data removed]",
      "text/plain": [
       "<Figure size 432x288 with 1 Axes>"
      ]
     },
     "metadata": {
      "needs_background": "light"
     },
     "output_type": "display_data"
    },
    {
     "data": {
      "image/png": "[encoded data removed]",
      "text/plain": [
       "<Figure size 432x288 with 1 Axes>"
      ]
     },
     "metadata": {
      "needs_background": "light"
     },
     "output_type": "display_data"
    },
    {
     "data": {
      "image/png": "[encoded data removed]",
      "text/plain": [
       "<Figure size 432x288 with 1 Axes>"
      ]
     },
     "metadata": {
      "needs_background": "light"
     },
     "output_type": "display_data"
    },
    {
     "data": {
      "image/png": "[encoded data removed]",
      "text/plain": [
       "<Figure size 432x288 with 1 Axes>"
      ]
     },
     "metadata": {
      "needs_background": "light"
     },
     "output_type": "display_data"
    },
    {
     "data": {
      "image/png": "[encoded data removed]",
      "text/plain": [
       "<Figure size 432x288 with 1 Axes>"
      ]
     },
     "metadata": {
      "needs_background": "light"
     },
     "output_type": "display_data"
    },
    {
     "data": {
      "image/png": "[encoded data removed]",
      "text/plain": [
       "<Figure size 432x288 with 1 Axes>"
      ]
     },
     "metadata": {
      "needs_background": "light"
     },
     "output_type": "display_data"
    },
    {
     "data": {
      "image/png": "[encoded data removed]",
      "text/plain": [
       "<Figure size 432x288 with 1 Axes>"
      ]
     },
     "metadata": {
      "needs_background": "light"
     },
     "output_type": "display_data"
    },
    {
     "data": {
      "image/png": "[encoded data removed]",
      "text/plain": [
       "<Figure size 432x288 with 1 Axes>"
      ]
     },
     "metadata": {
      "needs_background": "light"
     },
     "output_type": "display_data"
    },
    {
     "data": {
      "image/png": "[encoded data removed]",
      "text/plain": [
       "<Figure size 432x288 with 1 Axes>"
      ]
     },
     "metadata": {
      "needs_background": "light"
     },
     "output_type": "display_data"
    },
    {
     "data": {
      "image/png": "[encoded data removed]",
      "text/plain": [
       "<Figure size 432x288 with 1 Axes>"
      ]
     },
     "metadata": {
      "needs_background": "light"
     },
     "output_type": "display_data"
    },
    {
     "data": {
      "image/png": "[encoded data removed]",
      "text/plain": [
       "<Figure size 432x288 with 1 Axes>"
      ]
     },
     "metadata": {
      "needs_background": "light"
     },
     "output_type": "display_data"
    },
    {
     "data": {
      "image/png": "[encoded data removed]",
      "text/plain": [
       "<Figure size 432x288 with 1 Axes>"
      ]
     },
     "metadata": {
      "needs_background": "light"
     },
     "output_type": "display_data"
    },
    {
     "data": {
      "image/png": "[encoded data removed]",
      "text/plain": [
       "<Figure size 432x288 with 1 Axes>"
      ]
     },
     "metadata": {
      "needs_background": "light"
     },
     "output_type": "display_data"
    },
    {
     "data": {
      "image/png": "[encoded data removed]",
      "text/plain": [
       "<Figure size 432x288 with 1 Axes>"
      ]
     },
     "metadata": {
      "needs_background": "light"
     },
     "output_type": "display_data"
    }
   ],
   "source": [
    "for feature in features_nan:\n",
    "    data=df.copy()\n",
    "\n",
    "    data[feature]=np.where(data[feature].isnull(),1,0)\n",
    "\n",
    "    data.groupby(feature)['Hydrometry_Nave_di_Rosano'].median().plot.bar()\n",
    "    plt.title(feature)\n",
    "    plt.show()\n",
    "\n"
   ]
  },
  {
   "cell_type": "code",
   "execution_count": 103,
   "metadata": {},
   "outputs": [],
   "source": [
    "for i in features_nan:\n",
    "    df[i]=df[i].mean()"
   ]
  },
  {
   "cell_type": "code",
   "execution_count": 105,
   "metadata": {},
   "outputs": [
    {
     "data": {
      "text/plain": [
       "Date                         0\n",
       "Rainfall_Le_Croci            0\n",
       "Rainfall_Cavallina           0\n",
       "Rainfall_S_Agata             0\n",
       "Rainfall_Mangona             0\n",
       "Rainfall_S_Piero             0\n",
       "Rainfall_Vernio              0\n",
       "Rainfall_Stia                0\n",
       "Rainfall_Consuma             0\n",
       "Rainfall_Incisa              0\n",
       "Rainfall_Montevarchi         0\n",
       "Rainfall_S_Savino            0\n",
       "Rainfall_Laterina            0\n",
       "Rainfall_Bibbiena            0\n",
       "Rainfall_Camaldoli           0\n",
       "Temperature_Firenze          0\n",
       "Hydrometry_Nave_di_Rosano    0\n",
       "dtype: int64"
      ]
     },
     "execution_count": 105,
     "metadata": {},
     "output_type": "execute_result"
    }
   ],
   "source": [
    "df.isnull().sum()"
   ]
  },
  {
   "cell_type": "code",
   "execution_count": 106,
   "metadata": {},
   "outputs": [
    {
     "data": {
      "text/html": [
       "<div>\n",
       "<style scoped>\n",
       "    .dataframe tbody tr th:only-of-type {\n",
       "        vertical-align: middle;\n",
       "    }\n",
       "\n",
       "    .dataframe tbody tr th {\n",
       "        vertical-align: top;\n",
       "    }\n",
       "\n",
       "    .dataframe thead th {\n",
       "        text-align: right;\n",
       "    }\n",
       "</style>\n",
       "<table border=\"1\" class=\"dataframe\">\n",
       "  <thead>\n",
       "    <tr style=\"text-align: right;\">\n",
       "      <th></th>\n",
       "      <th>Rainfall_Le_Croci</th>\n",
       "      <th>Rainfall_Cavallina</th>\n",
       "      <th>Rainfall_S_Agata</th>\n",
       "      <th>Rainfall_Mangona</th>\n",
       "      <th>Rainfall_S_Piero</th>\n",
       "      <th>Rainfall_Vernio</th>\n",
       "      <th>Rainfall_Stia</th>\n",
       "      <th>Rainfall_Consuma</th>\n",
       "      <th>Rainfall_Incisa</th>\n",
       "      <th>Rainfall_Montevarchi</th>\n",
       "      <th>Rainfall_S_Savino</th>\n",
       "      <th>Rainfall_Laterina</th>\n",
       "      <th>Rainfall_Bibbiena</th>\n",
       "      <th>Rainfall_Camaldoli</th>\n",
       "      <th>Temperature_Firenze</th>\n",
       "      <th>Hydrometry_Nave_di_Rosano</th>\n",
       "    </tr>\n",
       "  </thead>\n",
       "  <tbody>\n",
       "    <tr>\n",
       "      <th>count</th>\n",
       "      <td>8.217000e+03</td>\n",
       "      <td>8.217000e+03</td>\n",
       "      <td>8.217000e+03</td>\n",
       "      <td>8.217000e+03</td>\n",
       "      <td>8.217000e+03</td>\n",
       "      <td>8.217000e+03</td>\n",
       "      <td>8.217000e+03</td>\n",
       "      <td>8.217000e+03</td>\n",
       "      <td>8.217000e+03</td>\n",
       "      <td>8.217000e+03</td>\n",
       "      <td>8.217000e+03</td>\n",
       "      <td>8.217000e+03</td>\n",
       "      <td>8.217000e+03</td>\n",
       "      <td>8.217000e+03</td>\n",
       "      <td>8.217000e+03</td>\n",
       "      <td>8.217000e+03</td>\n",
       "    </tr>\n",
       "    <tr>\n",
       "      <th>mean</th>\n",
       "      <td>3.129871e+00</td>\n",
       "      <td>2.674743e+00</td>\n",
       "      <td>2.670063e+00</td>\n",
       "      <td>3.340657e+00</td>\n",
       "      <td>2.471225e+00</td>\n",
       "      <td>3.416437e+00</td>\n",
       "      <td>2.538893e+00</td>\n",
       "      <td>3.416680e+00</td>\n",
       "      <td>2.335026e+00</td>\n",
       "      <td>2.056709e+00</td>\n",
       "      <td>2.426500e+00</td>\n",
       "      <td>2.101949e+00</td>\n",
       "      <td>2.640959e+00</td>\n",
       "      <td>3.826968e+00</td>\n",
       "      <td>1.660539e+01</td>\n",
       "      <td>1.472407e+00</td>\n",
       "    </tr>\n",
       "    <tr>\n",
       "      <th>std</th>\n",
       "      <td>3.690606e-13</td>\n",
       "      <td>2.100670e-13</td>\n",
       "      <td>2.327169e-13</td>\n",
       "      <td>2.957814e-13</td>\n",
       "      <td>9.148794e-14</td>\n",
       "      <td>2.571433e-13</td>\n",
       "      <td>1.247967e-13</td>\n",
       "      <td>2.589198e-13</td>\n",
       "      <td>6.572920e-14</td>\n",
       "      <td>2.957814e-13</td>\n",
       "      <td>1.363437e-13</td>\n",
       "      <td>1.012585e-13</td>\n",
       "      <td>1.998523e-14</td>\n",
       "      <td>7.079213e-13</td>\n",
       "      <td>1.847524e-12</td>\n",
       "      <td>1.732053e-13</td>\n",
       "    </tr>\n",
       "    <tr>\n",
       "      <th>min</th>\n",
       "      <td>3.129871e+00</td>\n",
       "      <td>2.674743e+00</td>\n",
       "      <td>2.670063e+00</td>\n",
       "      <td>3.340657e+00</td>\n",
       "      <td>2.471225e+00</td>\n",
       "      <td>3.416437e+00</td>\n",
       "      <td>2.538893e+00</td>\n",
       "      <td>3.416680e+00</td>\n",
       "      <td>2.335026e+00</td>\n",
       "      <td>2.056709e+00</td>\n",
       "      <td>2.426500e+00</td>\n",
       "      <td>2.101949e+00</td>\n",
       "      <td>2.640959e+00</td>\n",
       "      <td>3.826968e+00</td>\n",
       "      <td>1.660539e+01</td>\n",
       "      <td>1.472407e+00</td>\n",
       "    </tr>\n",
       "    <tr>\n",
       "      <th>25%</th>\n",
       "      <td>3.129871e+00</td>\n",
       "      <td>2.674743e+00</td>\n",
       "      <td>2.670063e+00</td>\n",
       "      <td>3.340657e+00</td>\n",
       "      <td>2.471225e+00</td>\n",
       "      <td>3.416437e+00</td>\n",
       "      <td>2.538893e+00</td>\n",
       "      <td>3.416680e+00</td>\n",
       "      <td>2.335026e+00</td>\n",
       "      <td>2.056709e+00</td>\n",
       "      <td>2.426500e+00</td>\n",
       "      <td>2.101949e+00</td>\n",
       "      <td>2.640959e+00</td>\n",
       "      <td>3.826968e+00</td>\n",
       "      <td>1.660539e+01</td>\n",
       "      <td>1.472407e+00</td>\n",
       "    </tr>\n",
       "    <tr>\n",
       "      <th>50%</th>\n",
       "      <td>3.129871e+00</td>\n",
       "      <td>2.674743e+00</td>\n",
       "      <td>2.670063e+00</td>\n",
       "      <td>3.340657e+00</td>\n",
       "      <td>2.471225e+00</td>\n",
       "      <td>3.416437e+00</td>\n",
       "      <td>2.538893e+00</td>\n",
       "      <td>3.416680e+00</td>\n",
       "      <td>2.335026e+00</td>\n",
       "      <td>2.056709e+00</td>\n",
       "      <td>2.426500e+00</td>\n",
       "      <td>2.101949e+00</td>\n",
       "      <td>2.640959e+00</td>\n",
       "      <td>3.826968e+00</td>\n",
       "      <td>1.660539e+01</td>\n",
       "      <td>1.472407e+00</td>\n",
       "    </tr>\n",
       "    <tr>\n",
       "      <th>75%</th>\n",
       "      <td>3.129871e+00</td>\n",
       "      <td>2.674743e+00</td>\n",
       "      <td>2.670063e+00</td>\n",
       "      <td>3.340657e+00</td>\n",
       "      <td>2.471225e+00</td>\n",
       "      <td>3.416437e+00</td>\n",
       "      <td>2.538893e+00</td>\n",
       "      <td>3.416680e+00</td>\n",
       "      <td>2.335026e+00</td>\n",
       "      <td>2.056709e+00</td>\n",
       "      <td>2.426500e+00</td>\n",
       "      <td>2.101949e+00</td>\n",
       "      <td>2.640959e+00</td>\n",
       "      <td>3.826968e+00</td>\n",
       "      <td>1.660539e+01</td>\n",
       "      <td>1.472407e+00</td>\n",
       "    </tr>\n",
       "    <tr>\n",
       "      <th>max</th>\n",
       "      <td>3.129871e+00</td>\n",
       "      <td>2.674743e+00</td>\n",
       "      <td>2.670063e+00</td>\n",
       "      <td>3.340657e+00</td>\n",
       "      <td>2.471225e+00</td>\n",
       "      <td>3.416437e+00</td>\n",
       "      <td>2.538893e+00</td>\n",
       "      <td>3.416680e+00</td>\n",
       "      <td>2.335026e+00</td>\n",
       "      <td>2.056709e+00</td>\n",
       "      <td>2.426500e+00</td>\n",
       "      <td>2.101949e+00</td>\n",
       "      <td>2.640959e+00</td>\n",
       "      <td>3.826968e+00</td>\n",
       "      <td>1.660539e+01</td>\n",
       "      <td>1.472407e+00</td>\n",
       "    </tr>\n",
       "  </tbody>\n",
       "</table>\n",
       "</div>"
      ],
      "text/plain": [
       "       Rainfall_Le_Croci  Rainfall_Cavallina  Rainfall_S_Agata  \\\n",
       "count       8.217000e+03        8.217000e+03      8.217000e+03   \n",
       "mean        3.129871e+00        2.674743e+00      2.670063e+00   \n",
       "std         3.690606e-13        2.100670e-13      2.327169e-13   \n",
       "min         3.129871e+00        2.674743e+00      2.670063e+00   \n",
       "25%         3.129871e+00        2.674743e+00      2.670063e+00   \n",
       "50%         3.129871e+00        2.674743e+00      2.670063e+00   \n",
       "75%         3.129871e+00        2.674743e+00      2.670063e+00   \n",
       "max         3.129871e+00        2.674743e+00      2.670063e+00   \n",
       "\n",
       "       Rainfall_Mangona  Rainfall_S_Piero  Rainfall_Vernio  Rainfall_Stia  \\\n",
       "count      8.217000e+03      8.217000e+03     8.217000e+03   8.217000e+03   \n",
       "mean       3.340657e+00      2.471225e+00     3.416437e+00   2.538893e+00   \n",
       "std        2.957814e-13      9.148794e-14     2.571433e-13   1.247967e-13   \n",
       "min        3.340657e+00      2.471225e+00     3.416437e+00   2.538893e+00   \n",
       "25%        3.340657e+00      2.471225e+00     3.416437e+00   2.538893e+00   \n",
       "50%        3.340657e+00      2.471225e+00     3.416437e+00   2.538893e+00   \n",
       "75%        3.340657e+00      2.471225e+00     3.416437e+00   2.538893e+00   \n",
       "max        3.340657e+00      2.471225e+00     3.416437e+00   2.538893e+00   \n",
       "\n",
       "       Rainfall_Consuma  Rainfall_Incisa  Rainfall_Montevarchi  \\\n",
       "count      8.217000e+03     8.217000e+03          8.217000e+03   \n",
       "mean       3.416680e+00     2.335026e+00          2.056709e+00   \n",
       "std        2.589198e-13     6.572920e-14          2.957814e-13   \n",
       "min        3.416680e+00     2.335026e+00          2.056709e+00   \n",
       "25%        3.416680e+00     2.335026e+00          2.056709e+00   \n",
       "50%        3.416680e+00     2.335026e+00          2.056709e+00   \n",
       "75%        3.416680e+00     2.335026e+00          2.056709e+00   \n",
       "max        3.416680e+00     2.335026e+00          2.056709e+00   \n",
       "\n",
       "       Rainfall_S_Savino  Rainfall_Laterina  Rainfall_Bibbiena  \\\n",
       "count       8.217000e+03       8.217000e+03       8.217000e+03   \n",
       "mean        2.426500e+00       2.101949e+00       2.640959e+00   \n",
       "std         1.363437e-13       1.012585e-13       1.998523e-14   \n",
       "min         2.426500e+00       2.101949e+00       2.640959e+00   \n",
       "25%         2.426500e+00       2.101949e+00       2.640959e+00   \n",
       "50%         2.426500e+00       2.101949e+00       2.640959e+00   \n",
       "75%         2.426500e+00       2.101949e+00       2.640959e+00   \n",
       "max         2.426500e+00       2.101949e+00       2.640959e+00   \n",
       "\n",
       "       Rainfall_Camaldoli  Temperature_Firenze  Hydrometry_Nave_di_Rosano  \n",
       "count        8.217000e+03         8.217000e+03               8.217000e+03  \n",
       "mean         3.826968e+00         1.660539e+01               1.472407e+00  \n",
       "std          7.079213e-13         1.847524e-12               1.732053e-13  \n",
       "min          3.826968e+00         1.660539e+01               1.472407e+00  \n",
       "25%          3.826968e+00         1.660539e+01               1.472407e+00  \n",
       "50%          3.826968e+00         1.660539e+01               1.472407e+00  \n",
       "75%          3.826968e+00         1.660539e+01               1.472407e+00  \n",
       "max          3.826968e+00         1.660539e+01               1.472407e+00  "
      ]
     },
     "execution_count": 106,
     "metadata": {},
     "output_type": "execute_result"
    }
   ],
   "source": [
    "df.describe()"
   ]
  },
  {
   "cell_type": "code",
   "execution_count": 107,
   "metadata": {},
   "outputs": [
    {
     "data": {
      "text/plain": [
       "Date                         0\n",
       "Rainfall_Le_Croci            0\n",
       "Rainfall_Cavallina           0\n",
       "Rainfall_S_Agata             0\n",
       "Rainfall_Mangona             0\n",
       "Rainfall_S_Piero             0\n",
       "Rainfall_Vernio              0\n",
       "Rainfall_Stia                0\n",
       "Rainfall_Consuma             0\n",
       "Rainfall_Incisa              0\n",
       "Rainfall_Montevarchi         0\n",
       "Rainfall_S_Savino            0\n",
       "Rainfall_Laterina            0\n",
       "Rainfall_Bibbiena            0\n",
       "Rainfall_Camaldoli           0\n",
       "Temperature_Firenze          0\n",
       "Hydrometry_Nave_di_Rosano    0\n",
       "dtype: int64"
      ]
     },
     "execution_count": 107,
     "metadata": {},
     "output_type": "execute_result"
    }
   ],
   "source": [
    "df.isnull().sum()"
   ]
  },
  {
   "cell_type": "code",
   "execution_count": 108,
   "metadata": {},
   "outputs": [
    {
     "data": {
      "text/plain": [
       "<bound method Series.unique of 2.674743    8217\n",
       "Name: Rainfall_Cavallina, dtype: int64>"
      ]
     },
     "execution_count": 108,
     "metadata": {},
     "output_type": "execute_result"
    }
   ],
   "source": [
    "df['Rainfall_Cavallina'].value_counts().unique"
   ]
  },
  {
   "cell_type": "code",
   "execution_count": 109,
   "metadata": {},
   "outputs": [],
   "source": [
    "df['Rainfall_Le_Croci']=df['Rainfall_Le_Croci'].mean()\n",
    "df['Rainfall_Cavallina']=df['Rainfall_Le_Croci'].mean()"
   ]
  },
  {
   "cell_type": "code",
   "execution_count": 110,
   "metadata": {},
   "outputs": [
    {
     "data": {
      "text/plain": [
       "0"
      ]
     },
     "execution_count": 110,
     "metadata": {},
     "output_type": "execute_result"
    }
   ],
   "source": [
    "df['Rainfall_Cavallina'].isnull().sum()"
   ]
  },
  {
   "cell_type": "code",
   "execution_count": null,
   "metadata": {},
   "outputs": [],
   "source": []
  }
 ],
 "metadata": {
  "interpreter": {
   "hash": "8e98eea00a698c66ff9007bd5a8bf6209cdaa78d416205c57d24ef9296d8223a"
  },
  "kernelspec": {
   "display_name": "Python 3.8.12 64-bit ('strive': conda)",
   "language": "python",
   "name": "python3"
  },
  "language_info": {
   "codemirror_mode": {
    "name": "ipython",
    "version": 3
   },
   "file_extension": ".py",
   "mimetype": "text/x-python",
   "name": "python",
   "nbconvert_exporter": "python",
   "pygments_lexer": "ipython3",
   "version": "3.8.12"
  },
  "orig_nbformat": 4
 },
 "nbformat": 4,
 "nbformat_minor": 2
}
