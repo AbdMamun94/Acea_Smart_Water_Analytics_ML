{
 "cells": [
  {
   "cell_type": "code",
   "execution_count": 45,
   "metadata": {},
   "outputs": [],
   "source": [
    "import pandas as pd\n",
    "import numpy as np\n",
    "import matplotlib.pyplot as plt\n",
    "import seaborn as sns\n",
    "import missingno as msno"
   ]
  },
  {
   "cell_type": "code",
   "execution_count": 46,
   "metadata": {},
   "outputs": [],
   "source": [
    "Aquifer_Luco = pd.read_csv('./datasets/Aquifer_Luco.csv')"
   ]
  },
  {
   "cell_type": "code",
   "execution_count": 47,
   "metadata": {},
   "outputs": [
    {
     "data": {
      "text/html": [
       "<div>\n",
       "<style scoped>\n",
       "    .dataframe tbody tr th:only-of-type {\n",
       "        vertical-align: middle;\n",
       "    }\n",
       "\n",
       "    .dataframe tbody tr th {\n",
       "        vertical-align: top;\n",
       "    }\n",
       "\n",
       "    .dataframe thead th {\n",
       "        text-align: right;\n",
       "    }\n",
       "</style>\n",
       "<table border=\"1\" class=\"dataframe\">\n",
       "  <thead>\n",
       "    <tr style=\"text-align: right;\">\n",
       "      <th></th>\n",
       "      <th>Date</th>\n",
       "      <th>Rainfall_Simignano</th>\n",
       "      <th>Rainfall_Siena_Poggio_al_Vento</th>\n",
       "      <th>Rainfall_Mensano</th>\n",
       "      <th>Rainfall_Montalcinello</th>\n",
       "      <th>Rainfall_Monticiano_la_Pineta</th>\n",
       "      <th>Rainfall_Sovicille</th>\n",
       "      <th>Rainfall_Ponte_Orgia</th>\n",
       "      <th>Rainfall_Scorgiano</th>\n",
       "      <th>Rainfall_Pentolina</th>\n",
       "      <th>...</th>\n",
       "      <th>Depth_to_Groundwater_Pozzo_1</th>\n",
       "      <th>Depth_to_Groundwater_Pozzo_3</th>\n",
       "      <th>Depth_to_Groundwater_Pozzo_4</th>\n",
       "      <th>Temperature_Siena_Poggio_al_Vento</th>\n",
       "      <th>Temperature_Mensano</th>\n",
       "      <th>Temperature_Pentolina</th>\n",
       "      <th>Temperature_Monteroni_Arbia_Biena</th>\n",
       "      <th>Volume_Pozzo_1</th>\n",
       "      <th>Volume_Pozzo_3</th>\n",
       "      <th>Volume_Pozzo_4</th>\n",
       "    </tr>\n",
       "  </thead>\n",
       "  <tbody>\n",
       "    <tr>\n",
       "      <th>0</th>\n",
       "      <td>01/01/2000</td>\n",
       "      <td>NaN</td>\n",
       "      <td>NaN</td>\n",
       "      <td>NaN</td>\n",
       "      <td>NaN</td>\n",
       "      <td>NaN</td>\n",
       "      <td>NaN</td>\n",
       "      <td>NaN</td>\n",
       "      <td>NaN</td>\n",
       "      <td>NaN</td>\n",
       "      <td>...</td>\n",
       "      <td>NaN</td>\n",
       "      <td>NaN</td>\n",
       "      <td>NaN</td>\n",
       "      <td>0.00</td>\n",
       "      <td>0.00</td>\n",
       "      <td>5.50</td>\n",
       "      <td>0.80</td>\n",
       "      <td>NaN</td>\n",
       "      <td>NaN</td>\n",
       "      <td>NaN</td>\n",
       "    </tr>\n",
       "    <tr>\n",
       "      <th>1</th>\n",
       "      <td>02/01/2000</td>\n",
       "      <td>NaN</td>\n",
       "      <td>NaN</td>\n",
       "      <td>NaN</td>\n",
       "      <td>NaN</td>\n",
       "      <td>NaN</td>\n",
       "      <td>NaN</td>\n",
       "      <td>NaN</td>\n",
       "      <td>NaN</td>\n",
       "      <td>NaN</td>\n",
       "      <td>...</td>\n",
       "      <td>NaN</td>\n",
       "      <td>NaN</td>\n",
       "      <td>NaN</td>\n",
       "      <td>0.00</td>\n",
       "      <td>0.00</td>\n",
       "      <td>6.20</td>\n",
       "      <td>3.25</td>\n",
       "      <td>NaN</td>\n",
       "      <td>NaN</td>\n",
       "      <td>NaN</td>\n",
       "    </tr>\n",
       "    <tr>\n",
       "      <th>2</th>\n",
       "      <td>03/01/2000</td>\n",
       "      <td>NaN</td>\n",
       "      <td>NaN</td>\n",
       "      <td>NaN</td>\n",
       "      <td>NaN</td>\n",
       "      <td>NaN</td>\n",
       "      <td>NaN</td>\n",
       "      <td>NaN</td>\n",
       "      <td>NaN</td>\n",
       "      <td>NaN</td>\n",
       "      <td>...</td>\n",
       "      <td>NaN</td>\n",
       "      <td>NaN</td>\n",
       "      <td>NaN</td>\n",
       "      <td>0.00</td>\n",
       "      <td>0.00</td>\n",
       "      <td>7.25</td>\n",
       "      <td>0.95</td>\n",
       "      <td>NaN</td>\n",
       "      <td>NaN</td>\n",
       "      <td>NaN</td>\n",
       "    </tr>\n",
       "    <tr>\n",
       "      <th>3</th>\n",
       "      <td>04/01/2000</td>\n",
       "      <td>NaN</td>\n",
       "      <td>NaN</td>\n",
       "      <td>NaN</td>\n",
       "      <td>NaN</td>\n",
       "      <td>NaN</td>\n",
       "      <td>NaN</td>\n",
       "      <td>NaN</td>\n",
       "      <td>NaN</td>\n",
       "      <td>NaN</td>\n",
       "      <td>...</td>\n",
       "      <td>NaN</td>\n",
       "      <td>NaN</td>\n",
       "      <td>NaN</td>\n",
       "      <td>0.00</td>\n",
       "      <td>0.00</td>\n",
       "      <td>7.00</td>\n",
       "      <td>4.20</td>\n",
       "      <td>NaN</td>\n",
       "      <td>NaN</td>\n",
       "      <td>NaN</td>\n",
       "    </tr>\n",
       "    <tr>\n",
       "      <th>4</th>\n",
       "      <td>05/01/2000</td>\n",
       "      <td>NaN</td>\n",
       "      <td>NaN</td>\n",
       "      <td>NaN</td>\n",
       "      <td>NaN</td>\n",
       "      <td>NaN</td>\n",
       "      <td>NaN</td>\n",
       "      <td>NaN</td>\n",
       "      <td>NaN</td>\n",
       "      <td>NaN</td>\n",
       "      <td>...</td>\n",
       "      <td>NaN</td>\n",
       "      <td>NaN</td>\n",
       "      <td>NaN</td>\n",
       "      <td>0.00</td>\n",
       "      <td>0.00</td>\n",
       "      <td>7.90</td>\n",
       "      <td>6.55</td>\n",
       "      <td>NaN</td>\n",
       "      <td>NaN</td>\n",
       "      <td>NaN</td>\n",
       "    </tr>\n",
       "    <tr>\n",
       "      <th>...</th>\n",
       "      <td>...</td>\n",
       "      <td>...</td>\n",
       "      <td>...</td>\n",
       "      <td>...</td>\n",
       "      <td>...</td>\n",
       "      <td>...</td>\n",
       "      <td>...</td>\n",
       "      <td>...</td>\n",
       "      <td>...</td>\n",
       "      <td>...</td>\n",
       "      <td>...</td>\n",
       "      <td>...</td>\n",
       "      <td>...</td>\n",
       "      <td>...</td>\n",
       "      <td>...</td>\n",
       "      <td>...</td>\n",
       "      <td>...</td>\n",
       "      <td>...</td>\n",
       "      <td>...</td>\n",
       "      <td>...</td>\n",
       "      <td>...</td>\n",
       "    </tr>\n",
       "    <tr>\n",
       "      <th>7482</th>\n",
       "      <td>26/06/2020</td>\n",
       "      <td>0.0</td>\n",
       "      <td>0.0</td>\n",
       "      <td>0.0</td>\n",
       "      <td>0.0</td>\n",
       "      <td>0.0</td>\n",
       "      <td>0.0</td>\n",
       "      <td>0.0</td>\n",
       "      <td>0.0</td>\n",
       "      <td>0.0</td>\n",
       "      <td>...</td>\n",
       "      <td>-12.0</td>\n",
       "      <td>-10.7</td>\n",
       "      <td>-11.1</td>\n",
       "      <td>24.45</td>\n",
       "      <td>22.65</td>\n",
       "      <td>22.50</td>\n",
       "      <td>19.55</td>\n",
       "      <td>-125.506506</td>\n",
       "      <td>-147.012716</td>\n",
       "      <td>-49.136663</td>\n",
       "    </tr>\n",
       "    <tr>\n",
       "      <th>7483</th>\n",
       "      <td>27/06/2020</td>\n",
       "      <td>0.0</td>\n",
       "      <td>0.0</td>\n",
       "      <td>0.0</td>\n",
       "      <td>0.0</td>\n",
       "      <td>0.0</td>\n",
       "      <td>0.0</td>\n",
       "      <td>0.0</td>\n",
       "      <td>0.0</td>\n",
       "      <td>0.0</td>\n",
       "      <td>...</td>\n",
       "      <td>-12.1</td>\n",
       "      <td>-10.8</td>\n",
       "      <td>-11.1</td>\n",
       "      <td>24.80</td>\n",
       "      <td>22.95</td>\n",
       "      <td>22.60</td>\n",
       "      <td>20.15</td>\n",
       "      <td>-125.506506</td>\n",
       "      <td>-147.012716</td>\n",
       "      <td>-49.136663</td>\n",
       "    </tr>\n",
       "    <tr>\n",
       "      <th>7484</th>\n",
       "      <td>28/06/2020</td>\n",
       "      <td>0.0</td>\n",
       "      <td>0.0</td>\n",
       "      <td>0.0</td>\n",
       "      <td>0.0</td>\n",
       "      <td>0.0</td>\n",
       "      <td>0.0</td>\n",
       "      <td>0.0</td>\n",
       "      <td>0.0</td>\n",
       "      <td>0.0</td>\n",
       "      <td>...</td>\n",
       "      <td>-12.1</td>\n",
       "      <td>-10.7</td>\n",
       "      <td>-11.1</td>\n",
       "      <td>25.90</td>\n",
       "      <td>23.40</td>\n",
       "      <td>23.80</td>\n",
       "      <td>21.05</td>\n",
       "      <td>-125.506506</td>\n",
       "      <td>-147.012716</td>\n",
       "      <td>-49.136663</td>\n",
       "    </tr>\n",
       "    <tr>\n",
       "      <th>7485</th>\n",
       "      <td>29/06/2020</td>\n",
       "      <td>0.0</td>\n",
       "      <td>0.0</td>\n",
       "      <td>0.0</td>\n",
       "      <td>0.0</td>\n",
       "      <td>0.0</td>\n",
       "      <td>0.0</td>\n",
       "      <td>0.0</td>\n",
       "      <td>0.0</td>\n",
       "      <td>0.0</td>\n",
       "      <td>...</td>\n",
       "      <td>-12.2</td>\n",
       "      <td>-10.8</td>\n",
       "      <td>-11.1</td>\n",
       "      <td>24.85</td>\n",
       "      <td>23.30</td>\n",
       "      <td>23.55</td>\n",
       "      <td>20.30</td>\n",
       "      <td>-125.506506</td>\n",
       "      <td>-147.012716</td>\n",
       "      <td>-49.136663</td>\n",
       "    </tr>\n",
       "    <tr>\n",
       "      <th>7486</th>\n",
       "      <td>30/06/2020</td>\n",
       "      <td>0.0</td>\n",
       "      <td>0.0</td>\n",
       "      <td>0.0</td>\n",
       "      <td>0.0</td>\n",
       "      <td>0.0</td>\n",
       "      <td>0.0</td>\n",
       "      <td>0.0</td>\n",
       "      <td>0.0</td>\n",
       "      <td>0.0</td>\n",
       "      <td>...</td>\n",
       "      <td>-12.1</td>\n",
       "      <td>-10.8</td>\n",
       "      <td>-11.1</td>\n",
       "      <td>25.75</td>\n",
       "      <td>23.70</td>\n",
       "      <td>24.20</td>\n",
       "      <td>21.65</td>\n",
       "      <td>-125.506506</td>\n",
       "      <td>-147.012716</td>\n",
       "      <td>-49.136663</td>\n",
       "    </tr>\n",
       "  </tbody>\n",
       "</table>\n",
       "<p>7487 rows × 22 columns</p>\n",
       "</div>"
      ],
      "text/plain": [
       "            Date  Rainfall_Simignano  Rainfall_Siena_Poggio_al_Vento  \\\n",
       "0     01/01/2000                 NaN                             NaN   \n",
       "1     02/01/2000                 NaN                             NaN   \n",
       "2     03/01/2000                 NaN                             NaN   \n",
       "3     04/01/2000                 NaN                             NaN   \n",
       "4     05/01/2000                 NaN                             NaN   \n",
       "...          ...                 ...                             ...   \n",
       "7482  26/06/2020                 0.0                             0.0   \n",
       "7483  27/06/2020                 0.0                             0.0   \n",
       "7484  28/06/2020                 0.0                             0.0   \n",
       "7485  29/06/2020                 0.0                             0.0   \n",
       "7486  30/06/2020                 0.0                             0.0   \n",
       "\n",
       "      Rainfall_Mensano  Rainfall_Montalcinello  Rainfall_Monticiano_la_Pineta  \\\n",
       "0                  NaN                     NaN                            NaN   \n",
       "1                  NaN                     NaN                            NaN   \n",
       "2                  NaN                     NaN                            NaN   \n",
       "3                  NaN                     NaN                            NaN   \n",
       "4                  NaN                     NaN                            NaN   \n",
       "...                ...                     ...                            ...   \n",
       "7482               0.0                     0.0                            0.0   \n",
       "7483               0.0                     0.0                            0.0   \n",
       "7484               0.0                     0.0                            0.0   \n",
       "7485               0.0                     0.0                            0.0   \n",
       "7486               0.0                     0.0                            0.0   \n",
       "\n",
       "      Rainfall_Sovicille  Rainfall_Ponte_Orgia  Rainfall_Scorgiano  \\\n",
       "0                    NaN                   NaN                 NaN   \n",
       "1                    NaN                   NaN                 NaN   \n",
       "2                    NaN                   NaN                 NaN   \n",
       "3                    NaN                   NaN                 NaN   \n",
       "4                    NaN                   NaN                 NaN   \n",
       "...                  ...                   ...                 ...   \n",
       "7482                 0.0                   0.0                 0.0   \n",
       "7483                 0.0                   0.0                 0.0   \n",
       "7484                 0.0                   0.0                 0.0   \n",
       "7485                 0.0                   0.0                 0.0   \n",
       "7486                 0.0                   0.0                 0.0   \n",
       "\n",
       "      Rainfall_Pentolina  ...  Depth_to_Groundwater_Pozzo_1  \\\n",
       "0                    NaN  ...                           NaN   \n",
       "1                    NaN  ...                           NaN   \n",
       "2                    NaN  ...                           NaN   \n",
       "3                    NaN  ...                           NaN   \n",
       "4                    NaN  ...                           NaN   \n",
       "...                  ...  ...                           ...   \n",
       "7482                 0.0  ...                         -12.0   \n",
       "7483                 0.0  ...                         -12.1   \n",
       "7484                 0.0  ...                         -12.1   \n",
       "7485                 0.0  ...                         -12.2   \n",
       "7486                 0.0  ...                         -12.1   \n",
       "\n",
       "      Depth_to_Groundwater_Pozzo_3  Depth_to_Groundwater_Pozzo_4  \\\n",
       "0                              NaN                           NaN   \n",
       "1                              NaN                           NaN   \n",
       "2                              NaN                           NaN   \n",
       "3                              NaN                           NaN   \n",
       "4                              NaN                           NaN   \n",
       "...                            ...                           ...   \n",
       "7482                         -10.7                         -11.1   \n",
       "7483                         -10.8                         -11.1   \n",
       "7484                         -10.7                         -11.1   \n",
       "7485                         -10.8                         -11.1   \n",
       "7486                         -10.8                         -11.1   \n",
       "\n",
       "      Temperature_Siena_Poggio_al_Vento  Temperature_Mensano  \\\n",
       "0                                  0.00                 0.00   \n",
       "1                                  0.00                 0.00   \n",
       "2                                  0.00                 0.00   \n",
       "3                                  0.00                 0.00   \n",
       "4                                  0.00                 0.00   \n",
       "...                                 ...                  ...   \n",
       "7482                              24.45                22.65   \n",
       "7483                              24.80                22.95   \n",
       "7484                              25.90                23.40   \n",
       "7485                              24.85                23.30   \n",
       "7486                              25.75                23.70   \n",
       "\n",
       "      Temperature_Pentolina  Temperature_Monteroni_Arbia_Biena  \\\n",
       "0                      5.50                               0.80   \n",
       "1                      6.20                               3.25   \n",
       "2                      7.25                               0.95   \n",
       "3                      7.00                               4.20   \n",
       "4                      7.90                               6.55   \n",
       "...                     ...                                ...   \n",
       "7482                  22.50                              19.55   \n",
       "7483                  22.60                              20.15   \n",
       "7484                  23.80                              21.05   \n",
       "7485                  23.55                              20.30   \n",
       "7486                  24.20                              21.65   \n",
       "\n",
       "      Volume_Pozzo_1  Volume_Pozzo_3  Volume_Pozzo_4  \n",
       "0                NaN             NaN             NaN  \n",
       "1                NaN             NaN             NaN  \n",
       "2                NaN             NaN             NaN  \n",
       "3                NaN             NaN             NaN  \n",
       "4                NaN             NaN             NaN  \n",
       "...              ...             ...             ...  \n",
       "7482     -125.506506     -147.012716      -49.136663  \n",
       "7483     -125.506506     -147.012716      -49.136663  \n",
       "7484     -125.506506     -147.012716      -49.136663  \n",
       "7485     -125.506506     -147.012716      -49.136663  \n",
       "7486     -125.506506     -147.012716      -49.136663  \n",
       "\n",
       "[7487 rows x 22 columns]"
      ]
     },
     "execution_count": 47,
     "metadata": {},
     "output_type": "execute_result"
    }
   ],
   "source": [
    "Aquifer_Luco"
   ]
  },
  {
   "cell_type": "code",
   "execution_count": 48,
   "metadata": {},
   "outputs": [
    {
     "name": "stdout",
     "output_type": "stream",
     "text": [
      "<class 'pandas.core.frame.DataFrame'>\n",
      "RangeIndex: 7487 entries, 0 to 7486\n",
      "Data columns (total 22 columns):\n",
      " #   Column                               Non-Null Count  Dtype  \n",
      "---  ------                               --------------  -----  \n",
      " 0   Date                                 7487 non-null   object \n",
      " 1   Rainfall_Simignano                   6822 non-null   float64\n",
      " 2   Rainfall_Siena_Poggio_al_Vento       951 non-null    float64\n",
      " 3   Rainfall_Mensano                     1722 non-null   float64\n",
      " 4   Rainfall_Montalcinello               6525 non-null   float64\n",
      " 5   Rainfall_Monticiano_la_Pineta        2205 non-null   float64\n",
      " 6   Rainfall_Sovicille                   6657 non-null   float64\n",
      " 7   Rainfall_Ponte_Orgia                 1260 non-null   float64\n",
      " 8   Rainfall_Scorgiano                   3036 non-null   float64\n",
      " 9   Rainfall_Pentolina                   2116 non-null   float64\n",
      " 10  Rainfall_Monteroni_Arbia_Biena       3104 non-null   float64\n",
      " 11  Depth_to_Groundwater_Podere_Casetta  3346 non-null   float64\n",
      " 12  Depth_to_Groundwater_Pozzo_1         1012 non-null   float64\n",
      " 13  Depth_to_Groundwater_Pozzo_3         920 non-null    float64\n",
      " 14  Depth_to_Groundwater_Pozzo_4         969 non-null    float64\n",
      " 15  Temperature_Siena_Poggio_al_Vento    7487 non-null   float64\n",
      " 16  Temperature_Mensano                  7487 non-null   float64\n",
      " 17  Temperature_Pentolina                7487 non-null   float64\n",
      " 18  Temperature_Monteroni_Arbia_Biena    7487 non-null   float64\n",
      " 19  Volume_Pozzo_1                       2008 non-null   float64\n",
      " 20  Volume_Pozzo_3                       2008 non-null   float64\n",
      " 21  Volume_Pozzo_4                       2008 non-null   float64\n",
      "dtypes: float64(21), object(1)\n",
      "memory usage: 1.3+ MB\n"
     ]
    }
   ],
   "source": [
    "Aquifer_Luco.info()"
   ]
  },
  {
   "cell_type": "code",
   "execution_count": 49,
   "metadata": {},
   "outputs": [
    {
     "data": {
      "text/plain": [
       "(7487, 22)"
      ]
     },
     "execution_count": 49,
     "metadata": {},
     "output_type": "execute_result"
    }
   ],
   "source": [
    "Aquifer_Luco.shape"
   ]
  },
  {
   "cell_type": "markdown",
   "metadata": {},
   "source": [
    "### Filled Entries"
   ]
  },
  {
   "cell_type": "code",
   "execution_count": 50,
   "metadata": {},
   "outputs": [
    {
     "data": {
      "text/plain": [
       "<AxesSubplot:>"
      ]
     },
     "execution_count": 50,
     "metadata": {},
     "output_type": "execute_result"
    },
    {
     "data": {
      "image/png": "[encoded data removed]",
      "text/plain": [
       "<Figure size 1728x720 with 3 Axes>"
      ]
     },
     "metadata": {
      "needs_background": "light"
     },
     "output_type": "display_data"
    }
   ],
   "source": [
    "msno.bar(Aquifer_Luco,color='b')"
   ]
  },
  {
   "cell_type": "markdown",
   "metadata": {},
   "source": [
    "### Dates starting and ending values"
   ]
  },
  {
   "cell_type": "code",
   "execution_count": 51,
   "metadata": {},
   "outputs": [
    {
     "name": "stdout",
     "output_type": "stream",
     "text": [
      "starting date: 01/01/2000\n",
      "ending date: 30/06/2020\n"
     ]
    }
   ],
   "source": [
    "print('starting date:', Aquifer_Luco.Date.values[[0,-1]][0])\n",
    "print('ending date:', Aquifer_Luco.Date.values[[0,-1]][1])\n"
   ]
  },
  {
   "cell_type": "markdown",
   "metadata": {},
   "source": [
    "### Position of Null values"
   ]
  },
  {
   "cell_type": "code",
   "execution_count": 52,
   "metadata": {},
   "outputs": [
    {
     "data": {
      "text/plain": [
       "<AxesSubplot:>"
      ]
     },
     "execution_count": 52,
     "metadata": {},
     "output_type": "execute_result"
    },
    {
     "data": {
      "image/png": "[encoded data removed]",
      "text/plain": [
       "<Figure size 432x288 with 1 Axes>"
      ]
     },
     "metadata": {
      "needs_background": "light"
     },
     "output_type": "display_data"
    }
   ],
   "source": [
    "sns.heatmap(Aquifer_Luco.isnull(),yticklabels=False,cbar=False)"
   ]
  },
  {
   "cell_type": "code",
   "execution_count": 53,
   "metadata": {},
   "outputs": [],
   "source": [
    "data=Aquifer_Luco.copy()\n",
    "data.drop('Date',axis=1,inplace=True)"
   ]
  },
  {
   "cell_type": "code",
   "execution_count": 54,
   "metadata": {},
   "outputs": [
    {
     "data": {
      "text/plain": [
       "4141"
      ]
     },
     "execution_count": 54,
     "metadata": {},
     "output_type": "execute_result"
    }
   ],
   "source": [
    "null_va = Aquifer_Luco['Depth_to_Groundwater_Podere_Casetta']\n",
    "null_va.isnull().sum()"
   ]
  },
  {
   "cell_type": "code",
   "execution_count": 55,
   "metadata": {},
   "outputs": [
    {
     "data": {
      "text/plain": [
       "1168"
      ]
     },
     "execution_count": 55,
     "metadata": {},
     "output_type": "execute_result"
    }
   ],
   "source": [
    "Aquifer_Luco.drop(Aquifer_Luco.index[0:2973], inplace=True)\n",
    "Aquifer_Luco\n",
    "null_va = Aquifer_Luco['Depth_to_Groundwater_Podere_Casetta']\n",
    "null_va.isnull().sum()"
   ]
  },
  {
   "cell_type": "code",
   "execution_count": 56,
   "metadata": {},
   "outputs": [
    {
     "data": {
      "text/plain": [
       "<AxesSubplot:>"
      ]
     },
     "execution_count": 56,
     "metadata": {},
     "output_type": "execute_result"
    },
    {
     "data": {
      "image/png": "[encoded data removed]",
      "text/plain": [
       "<Figure size 432x288 with 1 Axes>"
      ]
     },
     "metadata": {
      "needs_background": "light"
     },
     "output_type": "display_data"
    }
   ],
   "source": [
    "sns.heatmap(Aquifer_Luco.isnull(),yticklabels=False,cbar=False)"
   ]
  },
  {
   "cell_type": "markdown",
   "metadata": {},
   "source": [
    "### Feature Selection"
   ]
  },
  {
   "cell_type": "code",
   "execution_count": 57,
   "metadata": {},
   "outputs": [
    {
     "data": {
      "text/plain": [
       "<AxesSubplot:>"
      ]
     },
     "execution_count": 57,
     "metadata": {},
     "output_type": "execute_result"
    },
    {
     "data": {
      "image/png": "[encoded data removed]",
      "text/plain": [
       "<Figure size 432x288 with 2 Axes>"
      ]
     },
     "metadata": {
      "needs_background": "light"
     },
     "output_type": "display_data"
    }
   ],
   "source": [
    "sns.heatmap(data.corr())"
   ]
  },
  {
   "cell_type": "code",
   "execution_count": 58,
   "metadata": {},
   "outputs": [
    {
     "name": "stdout",
     "output_type": "stream",
     "text": [
      "Rainfall_Simignano 11.9628 % missing \n",
      "Rainfall_Siena_Poggio_al_Vento 78.9322 % missing \n",
      "Rainfall_Mensano 61.852 % missing \n",
      "Rainfall_Montalcinello 3.035 % missing \n",
      "Rainfall_Monticiano_la_Pineta 51.152 % missing \n",
      "Rainfall_Sovicille 0.1108 % missing \n",
      "Rainfall_Ponte_Orgia 72.0868 % missing \n",
      "Rainfall_Scorgiano 32.7426 % missing \n",
      "Rainfall_Pentolina 53.1236 % missing \n",
      "Rainfall_Monteroni_Arbia_Biena 31.2362 % missing \n",
      "Depth_to_Groundwater_Podere_Casetta 25.8751 % missing \n",
      "Depth_to_Groundwater_Pozzo_1 77.5809 % missing \n",
      "Depth_to_Groundwater_Pozzo_3 79.619 % missing \n",
      "Depth_to_Groundwater_Pozzo_4 78.5335 % missing \n",
      "Volume_Pozzo_1 55.5162 % missing \n",
      "Volume_Pozzo_3 55.5162 % missing \n",
      "Volume_Pozzo_4 55.5162 % missing \n"
     ]
    }
   ],
   "source": [
    "features_nan=[features for features in Aquifer_Luco.columns if Aquifer_Luco[features].isnull().sum()>1 and Aquifer_Luco[features].dtypes!='O']\n",
    "for feature in features_nan:\n",
    "    print(feature, np.round(Aquifer_Luco[feature].isnull().mean()*100,4),'% missing ')"
   ]
  },
  {
   "cell_type": "code",
   "execution_count": 59,
   "metadata": {},
   "outputs": [
    {
     "data": {
      "text/plain": [
       "\"\\nColumns that are going to be dropped\\n\\n'Depth_to_Groundwater_Pozzo_1'\\n'Depth_to_Groundwater_Pozzo_3'\\n'Depth_to_Groundwater_Pozzo_4'\\n\\n'Rainfall_Ponte_Orgia'\\n'Rainfall_Siena_Poggio_al_Vento'\\n'Rainfall_Mensano'\\n\\n\""
      ]
     },
     "execution_count": 59,
     "metadata": {},
     "output_type": "execute_result"
    }
   ],
   "source": [
    "'''\n",
    "Columns that are going to be dropped\n",
    "\n",
    "'Depth_to_Groundwater_Pozzo_1'\n",
    "'Depth_to_Groundwater_Pozzo_3'\n",
    "'Depth_to_Groundwater_Pozzo_4'\n",
    "\n",
    "'Rainfall_Ponte_Orgia'\n",
    "'Rainfall_Siena_Poggio_al_Vento'\n",
    "'Rainfall_Mensano'\n",
    "\n",
    "'''"
   ]
  },
  {
   "cell_type": "code",
   "execution_count": 60,
   "metadata": {},
   "outputs": [],
   "source": [
    "Aquifer_Luco_corr = Aquifer_Luco.drop(['Depth_to_Groundwater_Pozzo_1','Depth_to_Groundwater_Pozzo_3','Depth_to_Groundwater_Pozzo_4','Rainfall_Ponte_Orgia','Rainfall_Siena_Poggio_al_Vento','Rainfall_Mensano'],axis=1)"
   ]
  },
  {
   "cell_type": "code",
   "execution_count": 61,
   "metadata": {},
   "outputs": [
    {
     "data": {
      "text/plain": [
       "<AxesSubplot:>"
      ]
     },
     "execution_count": 61,
     "metadata": {},
     "output_type": "execute_result"
    },
    {
     "data": {
      "image/png": "[encoded data removed]",
      "text/plain": [
       "<Figure size 432x288 with 2 Axes>"
      ]
     },
     "metadata": {
      "needs_background": "light"
     },
     "output_type": "display_data"
    }
   ],
   "source": [
    "sns.heatmap(Aquifer_Luco_corr.corr())"
   ]
  },
  {
   "cell_type": "code",
   "execution_count": 62,
   "metadata": {},
   "outputs": [
    {
     "name": "stdout",
     "output_type": "stream",
     "text": [
      "Rainfall_Simignano 11.9628 % missing \n",
      "Rainfall_Montalcinello 3.035 % missing \n",
      "Rainfall_Monticiano_la_Pineta 51.152 % missing \n",
      "Rainfall_Sovicille 0.1108 % missing \n",
      "Rainfall_Scorgiano 32.7426 % missing \n",
      "Rainfall_Pentolina 53.1236 % missing \n",
      "Rainfall_Monteroni_Arbia_Biena 31.2362 % missing \n",
      "Depth_to_Groundwater_Podere_Casetta 25.8751 % missing \n",
      "Volume_Pozzo_1 55.5162 % missing \n",
      "Volume_Pozzo_3 55.5162 % missing \n",
      "Volume_Pozzo_4 55.5162 % missing \n"
     ]
    }
   ],
   "source": [
    "a = Aquifer_Luco_corr\n",
    "\n",
    "features_nan=[features for features in a.columns if a[features].isnull().sum()>1 and a[features].dtypes!='O']\n",
    "for feature in features_nan:\n",
    "    print(feature, np.round(a[feature].isnull().mean()*100,4),'% missing ')"
   ]
  },
  {
   "cell_type": "markdown",
   "metadata": {},
   "source": [
    "### Imputation"
   ]
  },
  {
   "cell_type": "markdown",
   "metadata": {},
   "source": [
    "Rainfall_Simignano\n"
   ]
  },
  {
   "cell_type": "code",
   "execution_count": 63,
   "metadata": {},
   "outputs": [
    {
     "data": {
      "text/plain": [
       "540"
      ]
     },
     "execution_count": 63,
     "metadata": {},
     "output_type": "execute_result"
    }
   ],
   "source": [
    "a['Rainfall_Simignano'].isnull().sum()\n",
    "#excatly 540 values are missing out of 4514"
   ]
  },
  {
   "cell_type": "code",
   "execution_count": 64,
   "metadata": {},
   "outputs": [
    {
     "data": {
      "text/plain": [
       "count    3974.000000\n",
       "mean        2.588626\n",
       "std         7.166941\n",
       "min         0.000000\n",
       "25%         0.000000\n",
       "50%         0.000000\n",
       "75%         0.800000\n",
       "max        87.800000\n",
       "Name: Rainfall_Simignano, dtype: float64"
      ]
     },
     "execution_count": 64,
     "metadata": {},
     "output_type": "execute_result"
    }
   ],
   "source": [
    "a['Rainfall_Simignano'].describe()"
   ]
  },
  {
   "cell_type": "code",
   "execution_count": 65,
   "metadata": {},
   "outputs": [
    {
     "data": {
      "text/plain": [
       "<bound method Series.unique of 0.0     2474\n",
       "0.2      339\n",
       "0.4       94\n",
       "0.6       55\n",
       "0.8       44\n",
       "        ... \n",
       "45.6       1\n",
       "46.8       1\n",
       "32.6       1\n",
       "66.8       1\n",
       "43.0       1\n",
       "Name: Rainfall_Simignano, Length: 192, dtype: int64>"
      ]
     },
     "execution_count": 65,
     "metadata": {},
     "output_type": "execute_result"
    }
   ],
   "source": [
    "a['Rainfall_Simignano'].value_counts().unique\n",
    "# These are numarical values i.e., rainfall. so most of the values are zeros but we can see mode, median and mode\n"
   ]
  },
  {
   "cell_type": "code",
   "execution_count": 66,
   "metadata": {},
   "outputs": [
    {
     "name": "stdout",
     "output_type": "stream",
     "text": [
      "2.5886260694514336\n"
     ]
    }
   ],
   "source": [
    "mean_of_Rainfall_Simignano=a['Rainfall_Simignano'].mean()\n",
    "print(mean_of_Rainfall_Simignano)"
   ]
  },
  {
   "cell_type": "code",
   "execution_count": 67,
   "metadata": {},
   "outputs": [
    {
     "name": "stdout",
     "output_type": "stream",
     "text": [
      "0.0\n"
     ]
    }
   ],
   "source": [
    "median_of_Rainfall_Simignano=a['Rainfall_Simignano'].median()\n",
    "print(median_of_Rainfall_Simignano)"
   ]
  },
  {
   "cell_type": "code",
   "execution_count": 68,
   "metadata": {},
   "outputs": [
    {
     "name": "stdout",
     "output_type": "stream",
     "text": [
      "0    0.0\n",
      "dtype: float64\n"
     ]
    }
   ],
   "source": [
    "mode_of_Rainfall_Simignano=a['Rainfall_Simignano'].mode()\n",
    "print(mode_of_Rainfall_Simignano)\n"
   ]
  },
  {
   "cell_type": "markdown",
   "metadata": {},
   "source": [
    "#Hence by looking into the details mode or median is best suit for these missing values because the large numbers are zero values i.e., 2474"
   ]
  },
  {
   "cell_type": "code",
   "execution_count": 69,
   "metadata": {},
   "outputs": [],
   "source": [
    "a['Rainfall_Simignano']=a['Rainfall_Simignano'].median()"
   ]
  },
  {
   "cell_type": "code",
   "execution_count": 70,
   "metadata": {},
   "outputs": [
    {
     "data": {
      "text/plain": [
       "0"
      ]
     },
     "execution_count": 70,
     "metadata": {},
     "output_type": "execute_result"
    }
   ],
   "source": [
    "a['Rainfall_Simignano'].isnull().sum()"
   ]
  },
  {
   "cell_type": "markdown",
   "metadata": {},
   "source": [
    "#function for mean,median,mode"
   ]
  },
  {
   "cell_type": "code",
   "execution_count": 71,
   "metadata": {},
   "outputs": [],
   "source": [
    "def cal(x):\n",
    "    null_values=x.isnull().sum()\n",
    "    count_values=x.value_counts().unique\n",
    "    mean=x.mean()\n",
    "    median=x.median()\n",
    "    mode=x.mode()\n",
    "    print('null_values: ',null_values,'count_values: ', count_values, 'mean: ',mean,'median: ', median,'mode: ',mode, sep=' \\n  ' )\n",
    "    return"
   ]
  },
  {
   "cell_type": "markdown",
   "metadata": {},
   "source": [
    "Rainfall_Montalcinello"
   ]
  },
  {
   "cell_type": "code",
   "execution_count": 72,
   "metadata": {},
   "outputs": [
    {
     "name": "stdout",
     "output_type": "stream",
     "text": [
      "null_values:  \n",
      "  137 \n",
      "  count_values:  \n",
      "  <bound method Series.unique of 0.0     2576\n",
      "0.2      457\n",
      "0.4      145\n",
      "0.6       62\n",
      "0.8       46\n",
      "        ... \n",
      "28.6       1\n",
      "33.4       1\n",
      "79.2       1\n",
      "44.2       1\n",
      "35.6       1\n",
      "Name: Rainfall_Montalcinello, Length: 200, dtype: int64> \n",
      "  mean:  \n",
      "  2.7054603609778436 \n",
      "  median:  \n",
      "  0.0 \n",
      "  mode:  \n",
      "  0    0.0\n",
      "dtype: float64\n"
     ]
    }
   ],
   "source": [
    "x=a['Rainfall_Montalcinello']\n",
    "cal(x)"
   ]
  },
  {
   "cell_type": "markdown",
   "metadata": {},
   "source": [
    "#only 137 null values \n",
    "#most of them or zeros around 2576\n",
    "#mean is 2.7 and the median and mode is zero \n",
    "#conclution here we can go with median"
   ]
  },
  {
   "cell_type": "code",
   "execution_count": 73,
   "metadata": {},
   "outputs": [],
   "source": [
    "a['Rainfall_Montalcinello']=a['Rainfall_Montalcinello'].median()"
   ]
  },
  {
   "cell_type": "markdown",
   "metadata": {},
   "source": [
    "Rainfall_Monticiano_la_Pineta"
   ]
  },
  {
   "cell_type": "code",
   "execution_count": 74,
   "metadata": {},
   "outputs": [
    {
     "name": "stdout",
     "output_type": "stream",
     "text": [
      "null_values:  \n",
      "  2309 \n",
      "  count_values:  \n",
      "  <bound method Series.unique of 0.0     1267\n",
      "0.2      264\n",
      "0.4       76\n",
      "0.6       33\n",
      "0.8       23\n",
      "        ... \n",
      "51.4       1\n",
      "66.4       1\n",
      "7.2        1\n",
      "35.0       1\n",
      "16.6       1\n",
      "Name: Rainfall_Monticiano_la_Pineta, Length: 168, dtype: int64> \n",
      "  mean:  \n",
      "  3.10585034013604 \n",
      "  median:  \n",
      "  0.0 \n",
      "  mode:  \n",
      "  0    0.0\n",
      "dtype: float64\n"
     ]
    }
   ],
   "source": [
    "y=a['Rainfall_Monticiano_la_Pineta']\n",
    "cal(y)\n"
   ]
  },
  {
   "cell_type": "markdown",
   "metadata": {},
   "source": [
    "#2309 null values \n",
    "#most of them or zeros around 1267\n",
    "#mean is 3.1 and the median and mode is zero \n",
    "#conclution here we can go with median because i dont want to give mean of 3.1 to 2309 that make nosense"
   ]
  },
  {
   "cell_type": "code",
   "execution_count": 75,
   "metadata": {},
   "outputs": [],
   "source": [
    "a['Rainfall_Monticiano_la_Pineta']=a['Rainfall_Monticiano_la_Pineta'].median()"
   ]
  },
  {
   "cell_type": "markdown",
   "metadata": {},
   "source": [
    "Rainfall_Sovicille"
   ]
  },
  {
   "cell_type": "code",
   "execution_count": 76,
   "metadata": {},
   "outputs": [],
   "source": [
    "x=a['Rainfall_Sovicille']"
   ]
  },
  {
   "cell_type": "code",
   "execution_count": 77,
   "metadata": {},
   "outputs": [
    {
     "name": "stdout",
     "output_type": "stream",
     "text": [
      "null_values:  \n",
      "  5 \n",
      "  count_values:  \n",
      "  <bound method Series.unique of 0.0     2766\n",
      "0.2      443\n",
      "0.4      109\n",
      "0.6       71\n",
      "1.0       43\n",
      "        ... \n",
      "54.6       1\n",
      "58.2       1\n",
      "28.4       1\n",
      "23.8       1\n",
      "35.2       1\n",
      "Name: Rainfall_Sovicille, Length: 195, dtype: int64> \n",
      "  mean:  \n",
      "  2.4939010867154616 \n",
      "  median:  \n",
      "  0.0 \n",
      "  mode:  \n",
      "  0    0.0\n",
      "dtype: float64\n"
     ]
    }
   ],
   "source": [
    "cal(x)"
   ]
  },
  {
   "cell_type": "markdown",
   "metadata": {},
   "source": [
    "#only 5 null values \n",
    "#most of them or zeros around 2766\n",
    "#mean is 2.4 and the median and mode is zero \n",
    "#conclution here we can go with median"
   ]
  },
  {
   "cell_type": "code",
   "execution_count": 78,
   "metadata": {},
   "outputs": [],
   "source": [
    "a['Rainfall_Sovicille']=a['Rainfall_Sovicille'].median()"
   ]
  },
  {
   "cell_type": "markdown",
   "metadata": {},
   "source": [
    "Rainfall_Scorgiano"
   ]
  },
  {
   "cell_type": "code",
   "execution_count": 79,
   "metadata": {},
   "outputs": [
    {
     "name": "stdout",
     "output_type": "stream",
     "text": [
      "null_values:  \n",
      "  1478 \n",
      "  count_values:  \n",
      "  <bound method Series.unique of 0.0      1801\n",
      "0.2       347\n",
      "0.4        76\n",
      "0.6        51\n",
      "1.0        42\n",
      "         ... \n",
      "492.4       1\n",
      "112.0       1\n",
      "72.6        1\n",
      "794.2       1\n",
      "29.0        1\n",
      "Name: Rainfall_Scorgiano, Length: 174, dtype: int64> \n",
      "  mean:  \n",
      "  3.222134387351791 \n",
      "  median:  \n",
      "  0.0 \n",
      "  mode:  \n",
      "  0    0.0\n",
      "dtype: float64\n"
     ]
    }
   ],
   "source": [
    "x=a['Rainfall_Scorgiano']\n",
    "cal(x)"
   ]
  },
  {
   "cell_type": "markdown",
   "metadata": {},
   "source": [
    "#1478 null values \n",
    "#most of them or zeros around 1801\n",
    "#mean is 3.2 and the median and mode is zero \n",
    "#conclution here we can go with median because i dont want to give mean of 3.2 to 1478 that make nosense"
   ]
  },
  {
   "cell_type": "code",
   "execution_count": 80,
   "metadata": {},
   "outputs": [],
   "source": [
    "a['Rainfall_Scorgiano']=a['Rainfall_Scorgiano'].median()"
   ]
  },
  {
   "cell_type": "markdown",
   "metadata": {},
   "source": [
    "Rainfall_Pentolina"
   ]
  },
  {
   "cell_type": "code",
   "execution_count": 81,
   "metadata": {},
   "outputs": [
    {
     "name": "stdout",
     "output_type": "stream",
     "text": [
      "null_values:  \n",
      "  2398 \n",
      "  count_values:  \n",
      "  <bound method Series.unique of 0.0      1133\n",
      "0.2       257\n",
      "0.4       100\n",
      "0.6        36\n",
      "1.2        24\n",
      "         ... \n",
      "39.2        1\n",
      "50.8        1\n",
      "34.2        1\n",
      "144.0       1\n",
      "25.4        1\n",
      "Name: Rainfall_Pentolina, Length: 192, dtype: int64> \n",
      "  mean:  \n",
      "  8.734782608695737 \n",
      "  median:  \n",
      "  0.0 \n",
      "  mode:  \n",
      "  0    0.0\n",
      "dtype: float64\n"
     ]
    }
   ],
   "source": [
    "x=a['Rainfall_Pentolina']\n",
    "cal(x)"
   ]
  },
  {
   "cell_type": "markdown",
   "metadata": {},
   "source": [
    "#2398 null values \n",
    "#most of them or zeros around 1133\n",
    "#mean is 8.73 and the median and mode is zero \n",
    "#conclution here we can go with median because i dont want to give mean of 8.73 to 2398 that make nosense"
   ]
  },
  {
   "cell_type": "code",
   "execution_count": 82,
   "metadata": {},
   "outputs": [],
   "source": [
    "a['Rainfall_Pentolina']=a['Rainfall_Pentolina'].median()"
   ]
  },
  {
   "cell_type": "markdown",
   "metadata": {},
   "source": [
    "Rainfall_Monteroni_Arbia_Biena"
   ]
  },
  {
   "cell_type": "code",
   "execution_count": 83,
   "metadata": {},
   "outputs": [
    {
     "name": "stdout",
     "output_type": "stream",
     "text": [
      "null_values:  \n",
      "  1410 \n",
      "  count_values:  \n",
      "  <bound method Series.unique of 0.0      1841\n",
      "0.2       398\n",
      "0.4        86\n",
      "0.6        41\n",
      "0.8        38\n",
      "         ... \n",
      "32.2        1\n",
      "89.0        1\n",
      "137.6       1\n",
      "34.2        1\n",
      "86.0        1\n",
      "Name: Rainfall_Monteroni_Arbia_Biena, Length: 164, dtype: int64> \n",
      "  mean:  \n",
      "  2.391108247422662 \n",
      "  median:  \n",
      "  0.0 \n",
      "  mode:  \n",
      "  0    0.0\n",
      "dtype: float64\n"
     ]
    }
   ],
   "source": [
    "x=a['Rainfall_Monteroni_Arbia_Biena']\n",
    "cal(x)"
   ]
  },
  {
   "cell_type": "markdown",
   "metadata": {},
   "source": [
    "#same as the above and replacing with median"
   ]
  },
  {
   "cell_type": "code",
   "execution_count": 84,
   "metadata": {},
   "outputs": [],
   "source": [
    "a['Rainfall_Monteroni_Arbia_Biena']=a['Rainfall_Monteroni_Arbia_Biena'].median()"
   ]
  },
  {
   "cell_type": "code",
   "execution_count": 85,
   "metadata": {},
   "outputs": [
    {
     "name": "stdout",
     "output_type": "stream",
     "text": [
      "null_values:  \n",
      "  1168 \n",
      "  count_values:  \n",
      "  <bound method Series.unique of -7.6    268\n",
      "-7.7    172\n",
      "-5.4    146\n",
      "-6.7    140\n",
      "-7.9    140\n",
      "-6.4    138\n",
      "-8.2    135\n",
      "-7.5    117\n",
      "-7.8    111\n",
      "-6.3    109\n",
      "-5.3    102\n",
      "-6.6     96\n",
      "-7.3     95\n",
      "-7.4     95\n",
      "-6.5     85\n",
      "-8.0     79\n",
      "-6.2     76\n",
      "-8.1     75\n",
      "-8.3     75\n",
      "-4.9     68\n",
      "-8.6     67\n",
      "-5.0     64\n",
      "-7.1     57\n",
      "-6.1     57\n",
      "-6.8     54\n",
      "-9.5     53\n",
      "-5.9     53\n",
      "-5.5     51\n",
      "-5.7     47\n",
      "-8.7     45\n",
      "-7.0     44\n",
      "-6.0     40\n",
      "-5.6     38\n",
      "-7.2     35\n",
      "-6.9     35\n",
      "-5.8     33\n",
      "-8.9     31\n",
      "-5.2     29\n",
      "-9.6     26\n",
      "-9.3     26\n",
      "-9.4     25\n",
      "-5.1     25\n",
      "-8.8     25\n",
      "-9.2     18\n",
      "-9.1     14\n",
      "-8.4     13\n",
      "-9.0     11\n",
      "-8.5      7\n",
      "-4.8      1\n",
      "Name: Depth_to_Groundwater_Podere_Casetta, dtype: int64> \n",
      "  mean:  \n",
      "  -7.0792289300657725 \n",
      "  median:  \n",
      "  -7.3 \n",
      "  mode:  \n",
      "  0   -7.6\n",
      "dtype: float64\n"
     ]
    }
   ],
   "source": [
    "x=a['Depth_to_Groundwater_Podere_Casetta']\n",
    "cal(x)"
   ]
  },
  {
   "cell_type": "markdown",
   "metadata": {},
   "source": [
    "here we can take mean values"
   ]
  },
  {
   "cell_type": "code",
   "execution_count": 86,
   "metadata": {},
   "outputs": [],
   "source": [
    "a['Depth_to_Groundwater_Podere_Casetta']=a['Depth_to_Groundwater_Podere_Casetta'].mean()"
   ]
  },
  {
   "cell_type": "markdown",
   "metadata": {},
   "source": [
    "\n",
    "Volume_Pozzo_1 55.5162 % missing \n",
    "Volume_Pozzo_3 55.5162 % missing \n",
    "Volume_Pozzo_4 55.5162 % missing "
   ]
  },
  {
   "cell_type": "code",
   "execution_count": 87,
   "metadata": {},
   "outputs": [
    {
     "name": "stdout",
     "output_type": "stream",
     "text": [
      "null_values:  \n",
      "  2506 \n",
      "  count_values:  \n",
      "  <bound method Series.unique of -119.901470    31\n",
      "-139.926571    31\n",
      "-156.211646    31\n",
      "-125.506506    30\n",
      "-194.328550    30\n",
      "               ..\n",
      "-239.193888     4\n",
      "-113.634251     4\n",
      "-176.641114     4\n",
      "-190.689520     4\n",
      "-205.196584     4\n",
      "Name: Volume_Pozzo_1, Length: 126, dtype: int64> \n",
      "  mean:  \n",
      "  -160.68437663964536 \n",
      "  median:  \n",
      "  -163.5450612 \n",
      "  mode:  \n",
      "  0   -156.211646\n",
      "1   -139.926571\n",
      "2   -119.901470\n",
      "dtype: float64\n"
     ]
    }
   ],
   "source": [
    "x=a['Volume_Pozzo_1']\n",
    "cal(x)"
   ]
  },
  {
   "cell_type": "code",
   "execution_count": 88,
   "metadata": {},
   "outputs": [],
   "source": [
    "x=a['Volume_Pozzo_3']\n",
    "y=a['Volume_Pozzo_4']"
   ]
  },
  {
   "cell_type": "code",
   "execution_count": 89,
   "metadata": {},
   "outputs": [
    {
     "name": "stdout",
     "output_type": "stream",
     "text": [
      "null_values:  \n",
      "  2506 \n",
      "  count_values:  \n",
      "  <bound method Series.unique of  0.000000      61\n",
      "-135.119424    31\n",
      "-149.725245    31\n",
      "-145.889047    31\n",
      "-147.012716    30\n",
      "               ..\n",
      "-171.564282     4\n",
      "-248.757120     4\n",
      "-120.697743     4\n",
      "-173.726889     4\n",
      "-194.333155     4\n",
      "Name: Volume_Pozzo_3, Length: 123, dtype: int64> \n",
      "  mean:  \n",
      "  -147.77313359782198 \n",
      "  median:  \n",
      "  -148.8741228 \n",
      "  mode:  \n",
      "  0    0.0\n",
      "dtype: float64\n"
     ]
    }
   ],
   "source": [
    "cal(x)"
   ]
  },
  {
   "cell_type": "code",
   "execution_count": 90,
   "metadata": {},
   "outputs": [
    {
     "name": "stdout",
     "output_type": "stream",
     "text": [
      "null_values:  \n",
      "  2506 \n",
      "  count_values:  \n",
      "  <bound method Series.unique of -36.966140     31\n",
      "-27.942992     31\n",
      "-62.040524     31\n",
      "-49.136663     30\n",
      "-51.544683     30\n",
      "               ..\n",
      "-80.898048      4\n",
      "-156.772800     4\n",
      "-156.478132     4\n",
      "-138.553596     4\n",
      "-208.197927     4\n",
      "Name: Volume_Pozzo_4, Length: 126, dtype: int64> \n",
      "  mean:  \n",
      "  -135.2146632948606 \n",
      "  median:  \n",
      "  -145.845891 \n",
      "  mode:  \n",
      "  0   -62.040524\n",
      "1   -36.966140\n",
      "2   -27.942992\n",
      "dtype: float64\n"
     ]
    }
   ],
   "source": [
    "cal(y)"
   ]
  },
  {
   "cell_type": "markdown",
   "metadata": {},
   "source": [
    "for all these we can place mean"
   ]
  },
  {
   "cell_type": "code",
   "execution_count": 91,
   "metadata": {},
   "outputs": [],
   "source": [
    "a['Volume_Pozzo_1']=a['Volume_Pozzo_1'].mean()\n",
    "a['Volume_Pozzo_3']=a['Volume_Pozzo_3'].mean()\n",
    "a['Volume_Pozzo_4']=a['Volume_Pozzo_4'].mean()"
   ]
  },
  {
   "cell_type": "code",
   "execution_count": 92,
   "metadata": {},
   "outputs": [
    {
     "data": {
      "text/plain": [
       "Date                                   0\n",
       "Rainfall_Simignano                     0\n",
       "Rainfall_Montalcinello                 0\n",
       "Rainfall_Monticiano_la_Pineta          0\n",
       "Rainfall_Sovicille                     0\n",
       "Rainfall_Scorgiano                     0\n",
       "Rainfall_Pentolina                     0\n",
       "Rainfall_Monteroni_Arbia_Biena         0\n",
       "Depth_to_Groundwater_Podere_Casetta    0\n",
       "Temperature_Siena_Poggio_al_Vento      0\n",
       "Temperature_Mensano                    0\n",
       "Temperature_Pentolina                  0\n",
       "Temperature_Monteroni_Arbia_Biena      0\n",
       "Volume_Pozzo_1                         0\n",
       "Volume_Pozzo_3                         0\n",
       "Volume_Pozzo_4                         0\n",
       "dtype: int64"
      ]
     },
     "execution_count": 92,
     "metadata": {},
     "output_type": "execute_result"
    }
   ],
   "source": [
    "a.isnull().sum()"
   ]
  }
 ],
 "metadata": {
  "interpreter": {
   "hash": "8e98eea00a698c66ff9007bd5a8bf6209cdaa78d416205c57d24ef9296d8223a"
  },
  "kernelspec": {
   "display_name": "Python 3.8.12 64-bit ('strive': conda)",
   "language": "python",
   "name": "python3"
  },
  "language_info": {
   "codemirror_mode": {
    "name": "ipython",
    "version": 3
   },
   "file_extension": ".py",
   "mimetype": "text/x-python",
   "name": "python",
   "nbconvert_exporter": "python",
   "pygments_lexer": "ipython3",
   "version": "3.8.12"
  },
  "orig_nbformat": 4
 },
 "nbformat": 4,
 "nbformat_minor": 2
}
