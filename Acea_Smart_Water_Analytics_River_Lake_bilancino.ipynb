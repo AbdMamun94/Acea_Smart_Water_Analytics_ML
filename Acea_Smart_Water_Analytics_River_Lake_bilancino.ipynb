{
 "cells": [
  {
   "cell_type": "code",
   "execution_count": 62,
   "metadata": {},
   "outputs": [],
   "source": [
    "import pandas as pd\n",
    "import numpy as np\n",
    "import matplotlib.pyplot as plt\n",
    "import seaborn as sns\n",
    "import missingno as msno\n"
   ]
  },
  {
   "cell_type": "code",
   "execution_count": 63,
   "metadata": {},
   "outputs": [],
   "source": [
    "Lake_Bilancino = pd.read_csv('./datasets/Lake_Bilancino.csv')"
   ]
  },
  {
   "cell_type": "code",
   "execution_count": 64,
   "metadata": {},
   "outputs": [
    {
     "data": {
      "text/html": [
       "<div>\n",
       "<style scoped>\n",
       "    .dataframe tbody tr th:only-of-type {\n",
       "        vertical-align: middle;\n",
       "    }\n",
       "\n",
       "    .dataframe tbody tr th {\n",
       "        vertical-align: top;\n",
       "    }\n",
       "\n",
       "    .dataframe thead th {\n",
       "        text-align: right;\n",
       "    }\n",
       "</style>\n",
       "<table border=\"1\" class=\"dataframe\">\n",
       "  <thead>\n",
       "    <tr style=\"text-align: right;\">\n",
       "      <th></th>\n",
       "      <th>Date</th>\n",
       "      <th>Rainfall_S_Piero</th>\n",
       "      <th>Rainfall_Mangona</th>\n",
       "      <th>Rainfall_S_Agata</th>\n",
       "      <th>Rainfall_Cavallina</th>\n",
       "      <th>Rainfall_Le_Croci</th>\n",
       "      <th>Temperature_Le_Croci</th>\n",
       "      <th>Lake_Level</th>\n",
       "      <th>Flow_Rate</th>\n",
       "    </tr>\n",
       "  </thead>\n",
       "  <tbody>\n",
       "    <tr>\n",
       "      <th>0</th>\n",
       "      <td>03/06/2002</td>\n",
       "      <td>NaN</td>\n",
       "      <td>NaN</td>\n",
       "      <td>NaN</td>\n",
       "      <td>NaN</td>\n",
       "      <td>NaN</td>\n",
       "      <td>NaN</td>\n",
       "      <td>249.43</td>\n",
       "      <td>0.31</td>\n",
       "    </tr>\n",
       "    <tr>\n",
       "      <th>1</th>\n",
       "      <td>04/06/2002</td>\n",
       "      <td>NaN</td>\n",
       "      <td>NaN</td>\n",
       "      <td>NaN</td>\n",
       "      <td>NaN</td>\n",
       "      <td>NaN</td>\n",
       "      <td>NaN</td>\n",
       "      <td>249.43</td>\n",
       "      <td>0.31</td>\n",
       "    </tr>\n",
       "    <tr>\n",
       "      <th>2</th>\n",
       "      <td>05/06/2002</td>\n",
       "      <td>NaN</td>\n",
       "      <td>NaN</td>\n",
       "      <td>NaN</td>\n",
       "      <td>NaN</td>\n",
       "      <td>NaN</td>\n",
       "      <td>NaN</td>\n",
       "      <td>249.43</td>\n",
       "      <td>0.31</td>\n",
       "    </tr>\n",
       "    <tr>\n",
       "      <th>3</th>\n",
       "      <td>06/06/2002</td>\n",
       "      <td>NaN</td>\n",
       "      <td>NaN</td>\n",
       "      <td>NaN</td>\n",
       "      <td>NaN</td>\n",
       "      <td>NaN</td>\n",
       "      <td>NaN</td>\n",
       "      <td>249.43</td>\n",
       "      <td>0.31</td>\n",
       "    </tr>\n",
       "    <tr>\n",
       "      <th>4</th>\n",
       "      <td>07/06/2002</td>\n",
       "      <td>NaN</td>\n",
       "      <td>NaN</td>\n",
       "      <td>NaN</td>\n",
       "      <td>NaN</td>\n",
       "      <td>NaN</td>\n",
       "      <td>NaN</td>\n",
       "      <td>249.44</td>\n",
       "      <td>0.31</td>\n",
       "    </tr>\n",
       "    <tr>\n",
       "      <th>...</th>\n",
       "      <td>...</td>\n",
       "      <td>...</td>\n",
       "      <td>...</td>\n",
       "      <td>...</td>\n",
       "      <td>...</td>\n",
       "      <td>...</td>\n",
       "      <td>...</td>\n",
       "      <td>...</td>\n",
       "      <td>...</td>\n",
       "    </tr>\n",
       "    <tr>\n",
       "      <th>6598</th>\n",
       "      <td>26/06/2020</td>\n",
       "      <td>0.0</td>\n",
       "      <td>0.0</td>\n",
       "      <td>0.0</td>\n",
       "      <td>0.0</td>\n",
       "      <td>0.0</td>\n",
       "      <td>22.50</td>\n",
       "      <td>250.85</td>\n",
       "      <td>0.60</td>\n",
       "    </tr>\n",
       "    <tr>\n",
       "      <th>6599</th>\n",
       "      <td>27/06/2020</td>\n",
       "      <td>0.0</td>\n",
       "      <td>0.0</td>\n",
       "      <td>0.0</td>\n",
       "      <td>0.0</td>\n",
       "      <td>0.0</td>\n",
       "      <td>23.40</td>\n",
       "      <td>250.84</td>\n",
       "      <td>0.60</td>\n",
       "    </tr>\n",
       "    <tr>\n",
       "      <th>6600</th>\n",
       "      <td>28/06/2020</td>\n",
       "      <td>0.0</td>\n",
       "      <td>0.0</td>\n",
       "      <td>0.0</td>\n",
       "      <td>0.0</td>\n",
       "      <td>0.0</td>\n",
       "      <td>21.50</td>\n",
       "      <td>250.83</td>\n",
       "      <td>0.60</td>\n",
       "    </tr>\n",
       "    <tr>\n",
       "      <th>6601</th>\n",
       "      <td>29/06/2020</td>\n",
       "      <td>0.0</td>\n",
       "      <td>0.0</td>\n",
       "      <td>0.0</td>\n",
       "      <td>0.0</td>\n",
       "      <td>0.0</td>\n",
       "      <td>23.20</td>\n",
       "      <td>250.82</td>\n",
       "      <td>0.60</td>\n",
       "    </tr>\n",
       "    <tr>\n",
       "      <th>6602</th>\n",
       "      <td>30/06/2020</td>\n",
       "      <td>0.0</td>\n",
       "      <td>0.0</td>\n",
       "      <td>0.0</td>\n",
       "      <td>0.0</td>\n",
       "      <td>0.0</td>\n",
       "      <td>22.75</td>\n",
       "      <td>250.80</td>\n",
       "      <td>0.60</td>\n",
       "    </tr>\n",
       "  </tbody>\n",
       "</table>\n",
       "<p>6603 rows × 9 columns</p>\n",
       "</div>"
      ],
      "text/plain": [
       "            Date  Rainfall_S_Piero  Rainfall_Mangona  Rainfall_S_Agata  \\\n",
       "0     03/06/2002               NaN               NaN               NaN   \n",
       "1     04/06/2002               NaN               NaN               NaN   \n",
       "2     05/06/2002               NaN               NaN               NaN   \n",
       "3     06/06/2002               NaN               NaN               NaN   \n",
       "4     07/06/2002               NaN               NaN               NaN   \n",
       "...          ...               ...               ...               ...   \n",
       "6598  26/06/2020               0.0               0.0               0.0   \n",
       "6599  27/06/2020               0.0               0.0               0.0   \n",
       "6600  28/06/2020               0.0               0.0               0.0   \n",
       "6601  29/06/2020               0.0               0.0               0.0   \n",
       "6602  30/06/2020               0.0               0.0               0.0   \n",
       "\n",
       "      Rainfall_Cavallina  Rainfall_Le_Croci  Temperature_Le_Croci  Lake_Level  \\\n",
       "0                    NaN                NaN                   NaN      249.43   \n",
       "1                    NaN                NaN                   NaN      249.43   \n",
       "2                    NaN                NaN                   NaN      249.43   \n",
       "3                    NaN                NaN                   NaN      249.43   \n",
       "4                    NaN                NaN                   NaN      249.44   \n",
       "...                  ...                ...                   ...         ...   \n",
       "6598                 0.0                0.0                 22.50      250.85   \n",
       "6599                 0.0                0.0                 23.40      250.84   \n",
       "6600                 0.0                0.0                 21.50      250.83   \n",
       "6601                 0.0                0.0                 23.20      250.82   \n",
       "6602                 0.0                0.0                 22.75      250.80   \n",
       "\n",
       "      Flow_Rate  \n",
       "0          0.31  \n",
       "1          0.31  \n",
       "2          0.31  \n",
       "3          0.31  \n",
       "4          0.31  \n",
       "...         ...  \n",
       "6598       0.60  \n",
       "6599       0.60  \n",
       "6600       0.60  \n",
       "6601       0.60  \n",
       "6602       0.60  \n",
       "\n",
       "[6603 rows x 9 columns]"
      ]
     },
     "execution_count": 64,
     "metadata": {},
     "output_type": "execute_result"
    }
   ],
   "source": [
    "Lake_Bilancino"
   ]
  },
  {
   "cell_type": "code",
   "execution_count": 65,
   "metadata": {},
   "outputs": [
    {
     "name": "stdout",
     "output_type": "stream",
     "text": [
      "<class 'pandas.core.frame.DataFrame'>\n",
      "RangeIndex: 6603 entries, 0 to 6602\n",
      "Data columns (total 9 columns):\n",
      " #   Column                Non-Null Count  Dtype  \n",
      "---  ------                --------------  -----  \n",
      " 0   Date                  6603 non-null   object \n",
      " 1   Rainfall_S_Piero      6026 non-null   float64\n",
      " 2   Rainfall_Mangona      6026 non-null   float64\n",
      " 3   Rainfall_S_Agata      6026 non-null   float64\n",
      " 4   Rainfall_Cavallina    6026 non-null   float64\n",
      " 5   Rainfall_Le_Croci     6026 non-null   float64\n",
      " 6   Temperature_Le_Croci  6025 non-null   float64\n",
      " 7   Lake_Level            6603 non-null   float64\n",
      " 8   Flow_Rate             6582 non-null   float64\n",
      "dtypes: float64(8), object(1)\n",
      "memory usage: 464.4+ KB\n"
     ]
    }
   ],
   "source": [
    "Lake_Bilancino.info()"
   ]
  },
  {
   "cell_type": "code",
   "execution_count": 66,
   "metadata": {},
   "outputs": [
    {
     "data": {
      "text/plain": [
       "(6603, 9)"
      ]
     },
     "execution_count": 66,
     "metadata": {},
     "output_type": "execute_result"
    }
   ],
   "source": [
    "Lake_Bilancino.shape"
   ]
  },
  {
   "cell_type": "markdown",
   "metadata": {},
   "source": [
    "### Filled Entries"
   ]
  },
  {
   "cell_type": "code",
   "execution_count": 67,
   "metadata": {},
   "outputs": [
    {
     "data": {
      "text/plain": [
       "<AxesSubplot:>"
      ]
     },
     "execution_count": 67,
     "metadata": {},
     "output_type": "execute_result"
    },
    {
     "data": {
      "image/png": "[encoded data removed]",
      "text/plain": [
       "<Figure size 1728x720 with 3 Axes>"
      ]
     },
     "metadata": {
      "needs_background": "light"
     },
     "output_type": "display_data"
    }
   ],
   "source": [
    "msno.bar(Lake_Bilancino,color='b')"
   ]
  },
  {
   "cell_type": "markdown",
   "metadata": {},
   "source": [
    "### Dates starting and ending values"
   ]
  },
  {
   "cell_type": "code",
   "execution_count": 68,
   "metadata": {},
   "outputs": [
    {
     "name": "stdout",
     "output_type": "stream",
     "text": [
      "starting date: 03/06/2002\n",
      "ending date: 30/06/2020\n"
     ]
    }
   ],
   "source": [
    "print('starting date:', Lake_Bilancino.Date.values[[0,-1]][0])\n",
    "print('ending date:', Lake_Bilancino.Date.values[[0,-1]][1])\n"
   ]
  },
  {
   "cell_type": "markdown",
   "metadata": {},
   "source": [
    "### Position of Null values"
   ]
  },
  {
   "cell_type": "code",
   "execution_count": 69,
   "metadata": {},
   "outputs": [
    {
     "data": {
      "text/plain": [
       "<AxesSubplot:>"
      ]
     },
     "execution_count": 69,
     "metadata": {},
     "output_type": "execute_result"
    },
    {
     "data": {
      "image/png": "[encoded data removed]",
      "text/plain": [
       "<Figure size 432x288 with 1 Axes>"
      ]
     },
     "metadata": {
      "needs_background": "light"
     },
     "output_type": "display_data"
    }
   ],
   "source": [
    "sns.heatmap(Lake_Bilancino.isnull(),yticklabels=False,cbar=False)"
   ]
  },
  {
   "cell_type": "code",
   "execution_count": 70,
   "metadata": {},
   "outputs": [],
   "source": [
    "data=Lake_Bilancino.copy()\n",
    "data.drop('Date',axis=1,inplace=True)"
   ]
  },
  {
   "cell_type": "markdown",
   "metadata": {},
   "source": [
    "### Feature Selection"
   ]
  },
  {
   "cell_type": "code",
   "execution_count": 71,
   "metadata": {},
   "outputs": [
    {
     "data": {
      "text/plain": [
       "<AxesSubplot:>"
      ]
     },
     "execution_count": 71,
     "metadata": {},
     "output_type": "execute_result"
    },
    {
     "data": {
      "image/png": "[encoded data removed]",
      "text/plain": [
       "<Figure size 432x288 with 2 Axes>"
      ]
     },
     "metadata": {
      "needs_background": "light"
     },
     "output_type": "display_data"
    }
   ],
   "source": [
    "sns.heatmap(data.corr())"
   ]
  },
  {
   "cell_type": "code",
   "execution_count": 72,
   "metadata": {},
   "outputs": [
    {
     "name": "stdout",
     "output_type": "stream",
     "text": [
      "Rainfall_S_Piero 8.7385 % missing \n",
      "Rainfall_Mangona 8.7385 % missing \n",
      "Rainfall_S_Agata 8.7385 % missing \n",
      "Rainfall_Cavallina 8.7385 % missing \n",
      "Rainfall_Le_Croci 8.7385 % missing \n",
      "Temperature_Le_Croci 8.7536 % missing \n",
      "Flow_Rate 0.318 % missing \n"
     ]
    }
   ],
   "source": [
    "file = Lake_Bilancino\n",
    "features_nan=[features for features in file.columns if file[features].isnull().sum()>1 and file[features].dtypes!='O']\n",
    "for feature in features_nan:\n",
    "    print(feature, np.round(file[feature].isnull().mean()*100,4),'% missing ')"
   ]
  },
  {
   "cell_type": "code",
   "execution_count": 73,
   "metadata": {},
   "outputs": [
    {
     "data": {
      "text/plain": [
       "\"\\nColumns that are going to be dropped\\n\\n''\\n\\n\""
      ]
     },
     "execution_count": 73,
     "metadata": {},
     "output_type": "execute_result"
    }
   ],
   "source": [
    "'''\n",
    "Columns that are going to be dropped\n",
    "\n",
    "''\n",
    "\n",
    "'''"
   ]
  },
  {
   "cell_type": "code",
   "execution_count": 74,
   "metadata": {},
   "outputs": [],
   "source": [
    "#Lake_Bilancino_corr = Lake_Bilancino.drop(['Temperature_Le_Croci'],axis=1)"
   ]
  },
  {
   "cell_type": "code",
   "execution_count": 75,
   "metadata": {},
   "outputs": [
    {
     "data": {
      "text/plain": [
       "<AxesSubplot:>"
      ]
     },
     "execution_count": 75,
     "metadata": {},
     "output_type": "execute_result"
    },
    {
     "data": {
      "image/png": "[encoded data removed]",
      "text/plain": [
       "<Figure size 432x288 with 2 Axes>"
      ]
     },
     "metadata": {
      "needs_background": "light"
     },
     "output_type": "display_data"
    }
   ],
   "source": [
    "sns.heatmap(Lake_Bilancino.corr())"
   ]
  },
  {
   "cell_type": "code",
   "execution_count": 76,
   "metadata": {},
   "outputs": [
    {
     "name": "stdout",
     "output_type": "stream",
     "text": [
      "Rainfall_S_Piero 8.7385 % missing \n",
      "Rainfall_Mangona 8.7385 % missing \n",
      "Rainfall_S_Agata 8.7385 % missing \n",
      "Rainfall_Cavallina 8.7385 % missing \n",
      "Rainfall_Le_Croci 8.7385 % missing \n",
      "Temperature_Le_Croci 8.7536 % missing \n",
      "Flow_Rate 0.318 % missing \n"
     ]
    }
   ],
   "source": [
    "a = Lake_Bilancino\n",
    "\n",
    "features_nan=[features for features in a.columns if a[features].isnull().sum()>1 and a[features].dtypes!='O']\n",
    "for feature in features_nan:\n",
    "    print(feature, np.round(a[feature].isnull().mean()*100,4),'% missing ')"
   ]
  },
  {
   "cell_type": "code",
   "execution_count": 77,
   "metadata": {},
   "outputs": [],
   "source": [
    "Lake_Bilancino = Lake_Bilancino.drop(['Date'],axis=1)"
   ]
  },
  {
   "cell_type": "markdown",
   "metadata": {},
   "source": [
    "### Imputation"
   ]
  },
  {
   "cell_type": "code",
   "execution_count": 78,
   "metadata": {},
   "outputs": [],
   "source": [
    "def cal(x):\n",
    "    null_values=x.isnull().sum()\n",
    "    count_values=x.value_counts().unique\n",
    "    mean=x.mean()\n",
    "    median=x.median()\n",
    "    mode=x.mode()\n",
    "    print('null_values: ',null_values,'count_values: ', count_values, 'mean: ',mean,'median: ', median,'mode: ',mode, sep=' \\n  ' )\n",
    "    return"
   ]
  },
  {
   "cell_type": "markdown",
   "metadata": {},
   "source": [
    "Rainfall_S_Piero"
   ]
  },
  {
   "cell_type": "code",
   "execution_count": 79,
   "metadata": {},
   "outputs": [
    {
     "name": "stdout",
     "output_type": "stream",
     "text": [
      "null_values:  \n",
      "  577 \n",
      "  count_values:  \n",
      "  <bound method Series.unique of 0.0     3679\n",
      "0.2      545\n",
      "0.4      148\n",
      "0.6       81\n",
      "0.8       72\n",
      "        ... \n",
      "53.2       1\n",
      "26.2       1\n",
      "52.4       1\n",
      "34.6       1\n",
      "59.2       1\n",
      "Name: Rainfall_S_Piero, Length: 206, dtype: int64> \n",
      "  mean:  \n",
      "  2.4712246929970267 \n",
      "  median:  \n",
      "  0.0 \n",
      "  mode:  \n",
      "  0    0.0\n",
      "dtype: float64\n"
     ]
    }
   ],
   "source": [
    "x=a['Rainfall_S_Piero']\n",
    "cal(x)"
   ]
  },
  {
   "cell_type": "code",
   "execution_count": 80,
   "metadata": {},
   "outputs": [],
   "source": [
    "a['Rainfall_S_Piero']=a['Rainfall_S_Piero'].fillna(a['Rainfall_S_Piero'].median())"
   ]
  },
  {
   "cell_type": "markdown",
   "metadata": {},
   "source": [
    "Rainfall_Mangona"
   ]
  },
  {
   "cell_type": "code",
   "execution_count": 81,
   "metadata": {},
   "outputs": [
    {
     "name": "stdout",
     "output_type": "stream",
     "text": [
      "null_values:  \n",
      "  577 \n",
      "  count_values:  \n",
      "  <bound method Series.unique of 0.0      3822\n",
      "0.2       291\n",
      "0.4       107\n",
      "0.8        86\n",
      "0.6        85\n",
      "         ... \n",
      "27.8        1\n",
      "108.6       1\n",
      "37.0        1\n",
      "34.2        1\n",
      "36.8        1\n",
      "Name: Rainfall_Mangona, Length: 247, dtype: int64> \n",
      "  mean:  \n",
      "  3.3406571523398827 \n",
      "  median:  \n",
      "  0.0 \n",
      "  mode:  \n",
      "  0    0.0\n",
      "dtype: float64\n"
     ]
    }
   ],
   "source": [
    "x=a['Rainfall_Mangona']\n",
    "cal(x)"
   ]
  },
  {
   "cell_type": "code",
   "execution_count": 82,
   "metadata": {},
   "outputs": [],
   "source": [
    "a['Rainfall_Mangona']=a['Rainfall_Mangona'].fillna(a['Rainfall_Mangona'].median())"
   ]
  },
  {
   "cell_type": "markdown",
   "metadata": {},
   "source": [
    "Rainfall_S_Agata"
   ]
  },
  {
   "cell_type": "code",
   "execution_count": 83,
   "metadata": {},
   "outputs": [
    {
     "name": "stdout",
     "output_type": "stream",
     "text": [
      "null_values:  \n",
      "  577 \n",
      "  count_values:  \n",
      "  <bound method Series.unique of 0.0     3755\n",
      "0.2      378\n",
      "0.4      137\n",
      "0.6       86\n",
      "1.0       72\n",
      "        ... \n",
      "37.0       1\n",
      "18.0       1\n",
      "46.0       1\n",
      "43.4       1\n",
      "57.8       1\n",
      "Name: Rainfall_S_Agata, Length: 207, dtype: int64> \n",
      "  mean:  \n",
      "  2.670063060073033 \n",
      "  median:  \n",
      "  0.0 \n",
      "  mode:  \n",
      "  0    0.0\n",
      "dtype: float64\n"
     ]
    }
   ],
   "source": [
    "x=a['Rainfall_S_Agata']\n",
    "cal(x)"
   ]
  },
  {
   "cell_type": "code",
   "execution_count": 84,
   "metadata": {},
   "outputs": [],
   "source": [
    "a['Rainfall_S_Agata']=a['Rainfall_S_Agata'].fillna(a['Rainfall_S_Agata'].median())"
   ]
  },
  {
   "cell_type": "markdown",
   "metadata": {},
   "source": [
    "Rainfall_Cavallina"
   ]
  },
  {
   "cell_type": "code",
   "execution_count": 85,
   "metadata": {},
   "outputs": [
    {
     "name": "stdout",
     "output_type": "stream",
     "text": [
      "null_values:  \n",
      "  577 \n",
      "  count_values:  \n",
      "  <bound method Series.unique of 0.0     4124\n",
      "0.2      270\n",
      "0.4      114\n",
      "0.6       65\n",
      "1.2       58\n",
      "        ... \n",
      "63.2       1\n",
      "70.8       1\n",
      "39.2       1\n",
      "66.2       1\n",
      "30.4       1\n",
      "Name: Rainfall_Cavallina, Length: 219, dtype: int64> \n",
      "  mean:  \n",
      "  2.674742781281121 \n",
      "  median:  \n",
      "  0.0 \n",
      "  mode:  \n",
      "  0    0.0\n",
      "dtype: float64\n"
     ]
    }
   ],
   "source": [
    "x=a['Rainfall_Cavallina']\n",
    "cal(x)"
   ]
  },
  {
   "cell_type": "code",
   "execution_count": 86,
   "metadata": {},
   "outputs": [],
   "source": [
    "a['Rainfall_Cavallina']=a['Rainfall_Cavallina'].fillna(a['Rainfall_Cavallina'].median())"
   ]
  },
  {
   "cell_type": "markdown",
   "metadata": {},
   "source": [
    "Rainfall_Le_Croci"
   ]
  },
  {
   "cell_type": "code",
   "execution_count": 87,
   "metadata": {},
   "outputs": [
    {
     "name": "stdout",
     "output_type": "stream",
     "text": [
      "null_values:  \n",
      "  577 \n",
      "  count_values:  \n",
      "  <bound method Series.unique of 0.0     3779\n",
      "0.2      342\n",
      "0.4      141\n",
      "0.8       89\n",
      "0.6       77\n",
      "        ... \n",
      "33.2       1\n",
      "36.8       1\n",
      "45.8       1\n",
      "36.4       1\n",
      "39.6       1\n",
      "Name: Rainfall_Le_Croci, Length: 230, dtype: int64> \n",
      "  mean:  \n",
      "  3.1298705609027775 \n",
      "  median:  \n",
      "  0.0 \n",
      "  mode:  \n",
      "  0    0.0\n",
      "dtype: float64\n"
     ]
    }
   ],
   "source": [
    "x=a['Rainfall_Le_Croci']\n",
    "cal(x)"
   ]
  },
  {
   "cell_type": "code",
   "execution_count": 88,
   "metadata": {},
   "outputs": [],
   "source": [
    "a['Rainfall_Le_Croci']=a['Rainfall_Le_Croci'].fillna(a['Rainfall_Le_Croci'].median())"
   ]
  },
  {
   "cell_type": "markdown",
   "metadata": {},
   "source": [
    "Temperature_Le_Croci"
   ]
  },
  {
   "cell_type": "code",
   "execution_count": 89,
   "metadata": {},
   "outputs": [
    {
     "name": "stdout",
     "output_type": "stream",
     "text": [
      "null_values:  \n",
      "  578 \n",
      "  count_values:  \n",
      "  <bound method Series.unique of  15.80    27\n",
      " 18.15    25\n",
      " 21.50    24\n",
      " 13.60    23\n",
      " 8.90     23\n",
      "          ..\n",
      " 29.80     1\n",
      " 29.65     1\n",
      " 29.00     1\n",
      " 28.25     1\n",
      "-0.35      1\n",
      "Name: Temperature_Le_Croci, Length: 613, dtype: int64> \n",
      "  mean:  \n",
      "  14.530141078838147 \n",
      "  median:  \n",
      "  14.5 \n",
      "  mode:  \n",
      "  0    15.8\n",
      "dtype: float64\n"
     ]
    }
   ],
   "source": [
    "x=a['Temperature_Le_Croci']\n",
    "cal(x)"
   ]
  },
  {
   "cell_type": "code",
   "execution_count": 90,
   "metadata": {},
   "outputs": [],
   "source": [
    "a['Temperature_Le_Croci']=a['Temperature_Le_Croci'].fillna(a['Temperature_Le_Croci'].median())"
   ]
  },
  {
   "cell_type": "markdown",
   "metadata": {},
   "source": [
    "Flow_Rate"
   ]
  },
  {
   "cell_type": "code",
   "execution_count": 91,
   "metadata": {},
   "outputs": [
    {
     "name": "stdout",
     "output_type": "stream",
     "text": [
      "null_values:  \n",
      "  21 \n",
      "  count_values:  \n",
      "  <bound method Series.unique of 0.60     2026\n",
      "1.00      596\n",
      "2.00      471\n",
      "2.50      428\n",
      "1.50      422\n",
      "         ... \n",
      "17.90       1\n",
      "23.50       1\n",
      "22.30       1\n",
      "17.40       1\n",
      "8.07        1\n",
      "Name: Flow_Rate, Length: 437, dtype: int64> \n",
      "  mean:  \n",
      "  2.7609677909450125 \n",
      "  median:  \n",
      "  1.5 \n",
      "  mode:  \n",
      "  0    0.6\n",
      "dtype: float64\n"
     ]
    }
   ],
   "source": [
    "x=a['Flow_Rate']\n",
    "cal(x)"
   ]
  },
  {
   "cell_type": "code",
   "execution_count": 92,
   "metadata": {},
   "outputs": [],
   "source": [
    "a['Flow_Rate']=a['Flow_Rate'].fillna(a['Flow_Rate'].median())"
   ]
  },
  {
   "cell_type": "code",
   "execution_count": 94,
   "metadata": {},
   "outputs": [
    {
     "data": {
      "text/plain": [
       "Date                    0\n",
       "Rainfall_S_Piero        0\n",
       "Rainfall_Mangona        0\n",
       "Rainfall_S_Agata        0\n",
       "Rainfall_Cavallina      0\n",
       "Rainfall_Le_Croci       0\n",
       "Temperature_Le_Croci    0\n",
       "Lake_Level              0\n",
       "Flow_Rate               0\n",
       "dtype: int64"
      ]
     },
     "execution_count": 94,
     "metadata": {},
     "output_type": "execute_result"
    }
   ],
   "source": [
    "a.isnull().sum()"
   ]
  }
 ],
 "metadata": {
  "interpreter": {
   "hash": "8e98eea00a698c66ff9007bd5a8bf6209cdaa78d416205c57d24ef9296d8223a"
  },
  "kernelspec": {
   "display_name": "Python 3.8.12 64-bit ('strive': conda)",
   "language": "python",
   "name": "python3"
  },
  "language_info": {
   "codemirror_mode": {
    "name": "ipython",
    "version": 3
   },
   "file_extension": ".py",
   "mimetype": "text/x-python",
   "name": "python",
   "nbconvert_exporter": "python",
   "pygments_lexer": "ipython3",
   "version": "3.8.12"
  },
  "orig_nbformat": 4
 },
 "nbformat": 4,
 "nbformat_minor": 2
}
