{
 "cells": [
  {
   "cell_type": "code",
   "execution_count": 33,
   "metadata": {},
   "outputs": [],
   "source": [
    "import pandas as pd\n",
    "import numpy as np\n",
    "import matplotlib.pyplot as plt\n",
    "import seaborn as sns\n",
    "import missingno as msno\n"
   ]
  },
  {
   "cell_type": "code",
   "execution_count": 34,
   "metadata": {},
   "outputs": [],
   "source": [
    "Water_Spring_Amiata = pd.read_csv('./datasets/Water_Spring_Amiata.csv')\n"
   ]
  },
  {
   "cell_type": "code",
   "execution_count": 35,
   "metadata": {},
   "outputs": [
    {
     "data": {
      "text/html": [
       "<div>\n",
       "<style scoped>\n",
       "    .dataframe tbody tr th:only-of-type {\n",
       "        vertical-align: middle;\n",
       "    }\n",
       "\n",
       "    .dataframe tbody tr th {\n",
       "        vertical-align: top;\n",
       "    }\n",
       "\n",
       "    .dataframe thead th {\n",
       "        text-align: right;\n",
       "    }\n",
       "</style>\n",
       "<table border=\"1\" class=\"dataframe\">\n",
       "  <thead>\n",
       "    <tr style=\"text-align: right;\">\n",
       "      <th></th>\n",
       "      <th>Date</th>\n",
       "      <th>Rainfall_Castel_del_Piano</th>\n",
       "      <th>Rainfall_Abbadia_S_Salvatore</th>\n",
       "      <th>Rainfall_S_Fiora</th>\n",
       "      <th>Rainfall_Laghetto_Verde</th>\n",
       "      <th>Rainfall_Vetta_Amiata</th>\n",
       "      <th>Depth_to_Groundwater_S_Fiora_8</th>\n",
       "      <th>Depth_to_Groundwater_S_Fiora_11bis</th>\n",
       "      <th>Depth_to_Groundwater_David_Lazzaretti</th>\n",
       "      <th>Temperature_Abbadia_S_Salvatore</th>\n",
       "      <th>Temperature_S_Fiora</th>\n",
       "      <th>Temperature_Laghetto_Verde</th>\n",
       "      <th>Flow_Rate_Bugnano</th>\n",
       "      <th>Flow_Rate_Arbure</th>\n",
       "      <th>Flow_Rate_Ermicciolo</th>\n",
       "      <th>Flow_Rate_Galleria_Alta</th>\n",
       "    </tr>\n",
       "  </thead>\n",
       "  <tbody>\n",
       "    <tr>\n",
       "      <th>0</th>\n",
       "      <td>01/01/2000</td>\n",
       "      <td>NaN</td>\n",
       "      <td>NaN</td>\n",
       "      <td>NaN</td>\n",
       "      <td>NaN</td>\n",
       "      <td>NaN</td>\n",
       "      <td>NaN</td>\n",
       "      <td>NaN</td>\n",
       "      <td>NaN</td>\n",
       "      <td>NaN</td>\n",
       "      <td>-0.15</td>\n",
       "      <td>NaN</td>\n",
       "      <td>NaN</td>\n",
       "      <td>NaN</td>\n",
       "      <td>NaN</td>\n",
       "      <td>NaN</td>\n",
       "    </tr>\n",
       "    <tr>\n",
       "      <th>1</th>\n",
       "      <td>02/01/2000</td>\n",
       "      <td>NaN</td>\n",
       "      <td>NaN</td>\n",
       "      <td>NaN</td>\n",
       "      <td>NaN</td>\n",
       "      <td>NaN</td>\n",
       "      <td>NaN</td>\n",
       "      <td>NaN</td>\n",
       "      <td>NaN</td>\n",
       "      <td>NaN</td>\n",
       "      <td>1.55</td>\n",
       "      <td>NaN</td>\n",
       "      <td>NaN</td>\n",
       "      <td>NaN</td>\n",
       "      <td>NaN</td>\n",
       "      <td>NaN</td>\n",
       "    </tr>\n",
       "    <tr>\n",
       "      <th>2</th>\n",
       "      <td>03/01/2000</td>\n",
       "      <td>NaN</td>\n",
       "      <td>NaN</td>\n",
       "      <td>NaN</td>\n",
       "      <td>NaN</td>\n",
       "      <td>NaN</td>\n",
       "      <td>NaN</td>\n",
       "      <td>NaN</td>\n",
       "      <td>NaN</td>\n",
       "      <td>NaN</td>\n",
       "      <td>2.70</td>\n",
       "      <td>NaN</td>\n",
       "      <td>NaN</td>\n",
       "      <td>NaN</td>\n",
       "      <td>NaN</td>\n",
       "      <td>NaN</td>\n",
       "    </tr>\n",
       "    <tr>\n",
       "      <th>3</th>\n",
       "      <td>04/01/2000</td>\n",
       "      <td>NaN</td>\n",
       "      <td>NaN</td>\n",
       "      <td>NaN</td>\n",
       "      <td>NaN</td>\n",
       "      <td>NaN</td>\n",
       "      <td>NaN</td>\n",
       "      <td>NaN</td>\n",
       "      <td>NaN</td>\n",
       "      <td>NaN</td>\n",
       "      <td>4.00</td>\n",
       "      <td>NaN</td>\n",
       "      <td>NaN</td>\n",
       "      <td>NaN</td>\n",
       "      <td>NaN</td>\n",
       "      <td>NaN</td>\n",
       "    </tr>\n",
       "    <tr>\n",
       "      <th>4</th>\n",
       "      <td>05/01/2000</td>\n",
       "      <td>NaN</td>\n",
       "      <td>NaN</td>\n",
       "      <td>NaN</td>\n",
       "      <td>NaN</td>\n",
       "      <td>NaN</td>\n",
       "      <td>NaN</td>\n",
       "      <td>NaN</td>\n",
       "      <td>NaN</td>\n",
       "      <td>NaN</td>\n",
       "      <td>4.60</td>\n",
       "      <td>NaN</td>\n",
       "      <td>NaN</td>\n",
       "      <td>NaN</td>\n",
       "      <td>NaN</td>\n",
       "      <td>NaN</td>\n",
       "    </tr>\n",
       "    <tr>\n",
       "      <th>...</th>\n",
       "      <td>...</td>\n",
       "      <td>...</td>\n",
       "      <td>...</td>\n",
       "      <td>...</td>\n",
       "      <td>...</td>\n",
       "      <td>...</td>\n",
       "      <td>...</td>\n",
       "      <td>...</td>\n",
       "      <td>...</td>\n",
       "      <td>...</td>\n",
       "      <td>...</td>\n",
       "      <td>...</td>\n",
       "      <td>...</td>\n",
       "      <td>...</td>\n",
       "      <td>...</td>\n",
       "      <td>...</td>\n",
       "    </tr>\n",
       "    <tr>\n",
       "      <th>7482</th>\n",
       "      <td>26/06/2020</td>\n",
       "      <td>0.0</td>\n",
       "      <td>0.0</td>\n",
       "      <td>0.0</td>\n",
       "      <td>0.0</td>\n",
       "      <td>0.0</td>\n",
       "      <td>-38.38</td>\n",
       "      <td>-51.89</td>\n",
       "      <td>-303.27</td>\n",
       "      <td>20.70</td>\n",
       "      <td>18.30</td>\n",
       "      <td>19.20</td>\n",
       "      <td>-0.359942</td>\n",
       "      <td>-2.925253</td>\n",
       "      <td>-5.75661</td>\n",
       "      <td>-21.358856</td>\n",
       "    </tr>\n",
       "    <tr>\n",
       "      <th>7483</th>\n",
       "      <td>27/06/2020</td>\n",
       "      <td>0.0</td>\n",
       "      <td>0.0</td>\n",
       "      <td>0.0</td>\n",
       "      <td>0.0</td>\n",
       "      <td>0.0</td>\n",
       "      <td>-38.38</td>\n",
       "      <td>-51.89</td>\n",
       "      <td>-303.27</td>\n",
       "      <td>20.50</td>\n",
       "      <td>17.95</td>\n",
       "      <td>18.85</td>\n",
       "      <td>-0.359942</td>\n",
       "      <td>-2.925253</td>\n",
       "      <td>-5.75661</td>\n",
       "      <td>-21.358856</td>\n",
       "    </tr>\n",
       "    <tr>\n",
       "      <th>7484</th>\n",
       "      <td>28/06/2020</td>\n",
       "      <td>0.0</td>\n",
       "      <td>0.0</td>\n",
       "      <td>0.0</td>\n",
       "      <td>0.0</td>\n",
       "      <td>0.0</td>\n",
       "      <td>-38.38</td>\n",
       "      <td>-51.89</td>\n",
       "      <td>-303.27</td>\n",
       "      <td>22.10</td>\n",
       "      <td>19.90</td>\n",
       "      <td>20.45</td>\n",
       "      <td>-0.341945</td>\n",
       "      <td>-2.778991</td>\n",
       "      <td>-5.46878</td>\n",
       "      <td>-20.290913</td>\n",
       "    </tr>\n",
       "    <tr>\n",
       "      <th>7485</th>\n",
       "      <td>29/06/2020</td>\n",
       "      <td>0.0</td>\n",
       "      <td>0.0</td>\n",
       "      <td>0.0</td>\n",
       "      <td>0.0</td>\n",
       "      <td>0.0</td>\n",
       "      <td>-38.37</td>\n",
       "      <td>-51.89</td>\n",
       "      <td>-303.28</td>\n",
       "      <td>22.45</td>\n",
       "      <td>20.15</td>\n",
       "      <td>20.20</td>\n",
       "      <td>-0.359942</td>\n",
       "      <td>-2.925253</td>\n",
       "      <td>-5.75661</td>\n",
       "      <td>-21.358856</td>\n",
       "    </tr>\n",
       "    <tr>\n",
       "      <th>7486</th>\n",
       "      <td>30/06/2020</td>\n",
       "      <td>0.0</td>\n",
       "      <td>0.0</td>\n",
       "      <td>0.0</td>\n",
       "      <td>0.0</td>\n",
       "      <td>0.0</td>\n",
       "      <td>-38.37</td>\n",
       "      <td>-51.89</td>\n",
       "      <td>-303.27</td>\n",
       "      <td>22.00</td>\n",
       "      <td>20.35</td>\n",
       "      <td>21.10</td>\n",
       "      <td>-0.359942</td>\n",
       "      <td>-2.925253</td>\n",
       "      <td>-5.75661</td>\n",
       "      <td>-21.358856</td>\n",
       "    </tr>\n",
       "  </tbody>\n",
       "</table>\n",
       "<p>7487 rows × 16 columns</p>\n",
       "</div>"
      ],
      "text/plain": [
       "            Date  Rainfall_Castel_del_Piano  Rainfall_Abbadia_S_Salvatore  \\\n",
       "0     01/01/2000                        NaN                           NaN   \n",
       "1     02/01/2000                        NaN                           NaN   \n",
       "2     03/01/2000                        NaN                           NaN   \n",
       "3     04/01/2000                        NaN                           NaN   \n",
       "4     05/01/2000                        NaN                           NaN   \n",
       "...          ...                        ...                           ...   \n",
       "7482  26/06/2020                        0.0                           0.0   \n",
       "7483  27/06/2020                        0.0                           0.0   \n",
       "7484  28/06/2020                        0.0                           0.0   \n",
       "7485  29/06/2020                        0.0                           0.0   \n",
       "7486  30/06/2020                        0.0                           0.0   \n",
       "\n",
       "      Rainfall_S_Fiora  Rainfall_Laghetto_Verde  Rainfall_Vetta_Amiata  \\\n",
       "0                  NaN                      NaN                    NaN   \n",
       "1                  NaN                      NaN                    NaN   \n",
       "2                  NaN                      NaN                    NaN   \n",
       "3                  NaN                      NaN                    NaN   \n",
       "4                  NaN                      NaN                    NaN   \n",
       "...                ...                      ...                    ...   \n",
       "7482               0.0                      0.0                    0.0   \n",
       "7483               0.0                      0.0                    0.0   \n",
       "7484               0.0                      0.0                    0.0   \n",
       "7485               0.0                      0.0                    0.0   \n",
       "7486               0.0                      0.0                    0.0   \n",
       "\n",
       "      Depth_to_Groundwater_S_Fiora_8  Depth_to_Groundwater_S_Fiora_11bis  \\\n",
       "0                                NaN                                 NaN   \n",
       "1                                NaN                                 NaN   \n",
       "2                                NaN                                 NaN   \n",
       "3                                NaN                                 NaN   \n",
       "4                                NaN                                 NaN   \n",
       "...                              ...                                 ...   \n",
       "7482                          -38.38                              -51.89   \n",
       "7483                          -38.38                              -51.89   \n",
       "7484                          -38.38                              -51.89   \n",
       "7485                          -38.37                              -51.89   \n",
       "7486                          -38.37                              -51.89   \n",
       "\n",
       "      Depth_to_Groundwater_David_Lazzaretti  Temperature_Abbadia_S_Salvatore  \\\n",
       "0                                       NaN                              NaN   \n",
       "1                                       NaN                              NaN   \n",
       "2                                       NaN                              NaN   \n",
       "3                                       NaN                              NaN   \n",
       "4                                       NaN                              NaN   \n",
       "...                                     ...                              ...   \n",
       "7482                                -303.27                            20.70   \n",
       "7483                                -303.27                            20.50   \n",
       "7484                                -303.27                            22.10   \n",
       "7485                                -303.28                            22.45   \n",
       "7486                                -303.27                            22.00   \n",
       "\n",
       "      Temperature_S_Fiora  Temperature_Laghetto_Verde  Flow_Rate_Bugnano  \\\n",
       "0                   -0.15                         NaN                NaN   \n",
       "1                    1.55                         NaN                NaN   \n",
       "2                    2.70                         NaN                NaN   \n",
       "3                    4.00                         NaN                NaN   \n",
       "4                    4.60                         NaN                NaN   \n",
       "...                   ...                         ...                ...   \n",
       "7482                18.30                       19.20          -0.359942   \n",
       "7483                17.95                       18.85          -0.359942   \n",
       "7484                19.90                       20.45          -0.341945   \n",
       "7485                20.15                       20.20          -0.359942   \n",
       "7486                20.35                       21.10          -0.359942   \n",
       "\n",
       "      Flow_Rate_Arbure  Flow_Rate_Ermicciolo  Flow_Rate_Galleria_Alta  \n",
       "0                  NaN                   NaN                      NaN  \n",
       "1                  NaN                   NaN                      NaN  \n",
       "2                  NaN                   NaN                      NaN  \n",
       "3                  NaN                   NaN                      NaN  \n",
       "4                  NaN                   NaN                      NaN  \n",
       "...                ...                   ...                      ...  \n",
       "7482         -2.925253              -5.75661               -21.358856  \n",
       "7483         -2.925253              -5.75661               -21.358856  \n",
       "7484         -2.778991              -5.46878               -20.290913  \n",
       "7485         -2.925253              -5.75661               -21.358856  \n",
       "7486         -2.925253              -5.75661               -21.358856  \n",
       "\n",
       "[7487 rows x 16 columns]"
      ]
     },
     "execution_count": 35,
     "metadata": {},
     "output_type": "execute_result"
    }
   ],
   "source": [
    "Water_Spring_Amiata"
   ]
  },
  {
   "cell_type": "code",
   "execution_count": 36,
   "metadata": {},
   "outputs": [
    {
     "name": "stdout",
     "output_type": "stream",
     "text": [
      "<class 'pandas.core.frame.DataFrame'>\n",
      "RangeIndex: 7487 entries, 0 to 7486\n",
      "Data columns (total 16 columns):\n",
      " #   Column                                 Non-Null Count  Dtype  \n",
      "---  ------                                 --------------  -----  \n",
      " 0   Date                                   7487 non-null   object \n",
      " 1   Rainfall_Castel_del_Piano              6291 non-null   float64\n",
      " 2   Rainfall_Abbadia_S_Salvatore           3586 non-null   float64\n",
      " 3   Rainfall_S_Fiora                       2633 non-null   float64\n",
      " 4   Rainfall_Laghetto_Verde                2865 non-null   float64\n",
      " 5   Rainfall_Vetta_Amiata                  2212 non-null   float64\n",
      " 6   Depth_to_Groundwater_S_Fiora_8         3569 non-null   float64\n",
      " 7   Depth_to_Groundwater_S_Fiora_11bis     3594 non-null   float64\n",
      " 8   Depth_to_Groundwater_David_Lazzaretti  3242 non-null   float64\n",
      " 9   Temperature_Abbadia_S_Salvatore        3583 non-null   float64\n",
      " 10  Temperature_S_Fiora                    7487 non-null   float64\n",
      " 11  Temperature_Laghetto_Verde             3604 non-null   float64\n",
      " 12  Flow_Rate_Bugnano                      2008 non-null   float64\n",
      " 13  Flow_Rate_Arbure                       2008 non-null   float64\n",
      " 14  Flow_Rate_Ermicciolo                   2008 non-null   float64\n",
      " 15  Flow_Rate_Galleria_Alta                2008 non-null   float64\n",
      "dtypes: float64(15), object(1)\n",
      "memory usage: 936.0+ KB\n"
     ]
    }
   ],
   "source": [
    "Water_Spring_Amiata.info()"
   ]
  },
  {
   "cell_type": "code",
   "execution_count": 37,
   "metadata": {},
   "outputs": [
    {
     "data": {
      "text/plain": [
       "(7487, 16)"
      ]
     },
     "execution_count": 37,
     "metadata": {},
     "output_type": "execute_result"
    }
   ],
   "source": [
    "Water_Spring_Amiata.shape"
   ]
  },
  {
   "cell_type": "markdown",
   "metadata": {},
   "source": [
    "### Filled Entries"
   ]
  },
  {
   "cell_type": "code",
   "execution_count": 38,
   "metadata": {},
   "outputs": [
    {
     "data": {
      "text/plain": [
       "<AxesSubplot:>"
      ]
     },
     "execution_count": 38,
     "metadata": {},
     "output_type": "execute_result"
    },
    {
     "data": {
      "image/png": "[encoded data removed]",
      "text/plain": [
       "<Figure size 1728x720 with 3 Axes>"
      ]
     },
     "metadata": {
      "needs_background": "light"
     },
     "output_type": "display_data"
    }
   ],
   "source": [
    "msno.bar(Water_Spring_Amiata,color='b')"
   ]
  },
  {
   "cell_type": "markdown",
   "metadata": {},
   "source": [
    "### Dates starting and ending values"
   ]
  },
  {
   "cell_type": "code",
   "execution_count": 39,
   "metadata": {},
   "outputs": [
    {
     "name": "stdout",
     "output_type": "stream",
     "text": [
      "starting date: 01/01/2000\n",
      "ending date: 30/06/2020\n"
     ]
    }
   ],
   "source": [
    "print('starting date:', Water_Spring_Amiata.Date.values[[0,-1]][0])\n",
    "print('ending date:', Water_Spring_Amiata.Date.values[[0,-1]][1])\n"
   ]
  },
  {
   "cell_type": "markdown",
   "metadata": {},
   "source": [
    "### Position of Null values"
   ]
  },
  {
   "cell_type": "code",
   "execution_count": 40,
   "metadata": {},
   "outputs": [
    {
     "data": {
      "text/plain": [
       "<AxesSubplot:>"
      ]
     },
     "execution_count": 40,
     "metadata": {},
     "output_type": "execute_result"
    },
    {
     "data": {
      "image/png": "[encoded data removed]",
      "text/plain": [
       "<Figure size 432x288 with 1 Axes>"
      ]
     },
     "metadata": {
      "needs_background": "light"
     },
     "output_type": "display_data"
    }
   ],
   "source": [
    "sns.heatmap(Water_Spring_Amiata.isnull(),yticklabels=False,cbar=False)"
   ]
  },
  {
   "cell_type": "code",
   "execution_count": 41,
   "metadata": {},
   "outputs": [
    {
     "name": "stdout",
     "output_type": "stream",
     "text": [
      "Rainfall_Castel_del_Piano 15.9744 % missing \n",
      "Rainfall_Abbadia_S_Salvatore 52.1036 % missing \n",
      "Rainfall_S_Fiora 64.8324 % missing \n",
      "Rainfall_Laghetto_Verde 61.7337 % missing \n",
      "Rainfall_Vetta_Amiata 70.4555 % missing \n",
      "Depth_to_Groundwater_S_Fiora_8 52.3307 % missing \n",
      "Depth_to_Groundwater_S_Fiora_11bis 51.9968 % missing \n",
      "Depth_to_Groundwater_David_Lazzaretti 56.6983 % missing \n",
      "Temperature_Abbadia_S_Salvatore 52.1437 % missing \n",
      "Temperature_Laghetto_Verde 51.8632 % missing \n",
      "Flow_Rate_Bugnano 73.1802 % missing \n",
      "Flow_Rate_Arbure 73.1802 % missing \n",
      "Flow_Rate_Ermicciolo 73.1802 % missing \n",
      "Flow_Rate_Galleria_Alta 73.1802 % missing \n"
     ]
    }
   ],
   "source": [
    "features_nan=[features for features in Water_Spring_Amiata.columns if Water_Spring_Amiata[features].isnull().sum()>1 and Water_Spring_Amiata[features].dtypes!='O']\n",
    "for feature in features_nan:\n",
    "    print(feature, np.round(Water_Spring_Amiata[feature].isnull().mean()*100,4),'% missing ')"
   ]
  },
  {
   "cell_type": "code",
   "execution_count": 42,
   "metadata": {},
   "outputs": [
    {
     "data": {
      "text/html": [
       "<div>\n",
       "<style scoped>\n",
       "    .dataframe tbody tr th:only-of-type {\n",
       "        vertical-align: middle;\n",
       "    }\n",
       "\n",
       "    .dataframe tbody tr th {\n",
       "        vertical-align: top;\n",
       "    }\n",
       "\n",
       "    .dataframe thead th {\n",
       "        text-align: right;\n",
       "    }\n",
       "</style>\n",
       "<table border=\"1\" class=\"dataframe\">\n",
       "  <thead>\n",
       "    <tr style=\"text-align: right;\">\n",
       "      <th></th>\n",
       "      <th>Date</th>\n",
       "      <th>Rainfall_Castel_del_Piano</th>\n",
       "      <th>Rainfall_Abbadia_S_Salvatore</th>\n",
       "      <th>Rainfall_S_Fiora</th>\n",
       "      <th>Rainfall_Laghetto_Verde</th>\n",
       "      <th>Rainfall_Vetta_Amiata</th>\n",
       "      <th>Depth_to_Groundwater_S_Fiora_8</th>\n",
       "      <th>Depth_to_Groundwater_S_Fiora_11bis</th>\n",
       "      <th>Depth_to_Groundwater_David_Lazzaretti</th>\n",
       "      <th>Temperature_Abbadia_S_Salvatore</th>\n",
       "      <th>Temperature_S_Fiora</th>\n",
       "      <th>Temperature_Laghetto_Verde</th>\n",
       "      <th>Flow_Rate_Bugnano</th>\n",
       "      <th>Flow_Rate_Arbure</th>\n",
       "      <th>Flow_Rate_Ermicciolo</th>\n",
       "      <th>Flow_Rate_Galleria_Alta</th>\n",
       "    </tr>\n",
       "  </thead>\n",
       "  <tbody>\n",
       "    <tr>\n",
       "      <th>5479</th>\n",
       "      <td>01/01/2015</td>\n",
       "      <td>0.0</td>\n",
       "      <td>0.0</td>\n",
       "      <td>NaN</td>\n",
       "      <td>0.0</td>\n",
       "      <td>0.0</td>\n",
       "      <td>-36.57</td>\n",
       "      <td>-50.65</td>\n",
       "      <td>-292.95</td>\n",
       "      <td>-2.30</td>\n",
       "      <td>-2.40</td>\n",
       "      <td>-2.25</td>\n",
       "      <td>0.000000</td>\n",
       "      <td>0.000000</td>\n",
       "      <td>-5.906212</td>\n",
       "      <td>-23.510146</td>\n",
       "    </tr>\n",
       "    <tr>\n",
       "      <th>5480</th>\n",
       "      <td>02/01/2015</td>\n",
       "      <td>0.0</td>\n",
       "      <td>0.0</td>\n",
       "      <td>NaN</td>\n",
       "      <td>0.0</td>\n",
       "      <td>0.0</td>\n",
       "      <td>-36.58</td>\n",
       "      <td>-50.65</td>\n",
       "      <td>-292.93</td>\n",
       "      <td>6.15</td>\n",
       "      <td>3.60</td>\n",
       "      <td>5.40</td>\n",
       "      <td>0.000000</td>\n",
       "      <td>0.000000</td>\n",
       "      <td>-5.906212</td>\n",
       "      <td>-23.510146</td>\n",
       "    </tr>\n",
       "    <tr>\n",
       "      <th>5481</th>\n",
       "      <td>03/01/2015</td>\n",
       "      <td>0.0</td>\n",
       "      <td>0.0</td>\n",
       "      <td>NaN</td>\n",
       "      <td>0.0</td>\n",
       "      <td>0.0</td>\n",
       "      <td>-36.58</td>\n",
       "      <td>-50.64</td>\n",
       "      <td>-292.97</td>\n",
       "      <td>6.30</td>\n",
       "      <td>5.25</td>\n",
       "      <td>4.55</td>\n",
       "      <td>0.000000</td>\n",
       "      <td>0.000000</td>\n",
       "      <td>-5.906212</td>\n",
       "      <td>-23.510146</td>\n",
       "    </tr>\n",
       "    <tr>\n",
       "      <th>5482</th>\n",
       "      <td>04/01/2015</td>\n",
       "      <td>0.0</td>\n",
       "      <td>0.0</td>\n",
       "      <td>NaN</td>\n",
       "      <td>0.0</td>\n",
       "      <td>0.0</td>\n",
       "      <td>-36.58</td>\n",
       "      <td>-50.64</td>\n",
       "      <td>-293.03</td>\n",
       "      <td>7.90</td>\n",
       "      <td>5.45</td>\n",
       "      <td>7.25</td>\n",
       "      <td>0.000000</td>\n",
       "      <td>0.000000</td>\n",
       "      <td>-5.610902</td>\n",
       "      <td>-22.334638</td>\n",
       "    </tr>\n",
       "    <tr>\n",
       "      <th>5483</th>\n",
       "      <td>05/01/2015</td>\n",
       "      <td>0.0</td>\n",
       "      <td>0.0</td>\n",
       "      <td>NaN</td>\n",
       "      <td>0.0</td>\n",
       "      <td>0.0</td>\n",
       "      <td>-36.58</td>\n",
       "      <td>-50.52</td>\n",
       "      <td>-293.00</td>\n",
       "      <td>4.05</td>\n",
       "      <td>3.30</td>\n",
       "      <td>2.90</td>\n",
       "      <td>0.000000</td>\n",
       "      <td>0.000000</td>\n",
       "      <td>-5.906212</td>\n",
       "      <td>-23.510146</td>\n",
       "    </tr>\n",
       "    <tr>\n",
       "      <th>...</th>\n",
       "      <td>...</td>\n",
       "      <td>...</td>\n",
       "      <td>...</td>\n",
       "      <td>...</td>\n",
       "      <td>...</td>\n",
       "      <td>...</td>\n",
       "      <td>...</td>\n",
       "      <td>...</td>\n",
       "      <td>...</td>\n",
       "      <td>...</td>\n",
       "      <td>...</td>\n",
       "      <td>...</td>\n",
       "      <td>...</td>\n",
       "      <td>...</td>\n",
       "      <td>...</td>\n",
       "      <td>...</td>\n",
       "    </tr>\n",
       "    <tr>\n",
       "      <th>7482</th>\n",
       "      <td>26/06/2020</td>\n",
       "      <td>0.0</td>\n",
       "      <td>0.0</td>\n",
       "      <td>0.0</td>\n",
       "      <td>0.0</td>\n",
       "      <td>0.0</td>\n",
       "      <td>-38.38</td>\n",
       "      <td>-51.89</td>\n",
       "      <td>-303.27</td>\n",
       "      <td>20.70</td>\n",
       "      <td>18.30</td>\n",
       "      <td>19.20</td>\n",
       "      <td>-0.359942</td>\n",
       "      <td>-2.925253</td>\n",
       "      <td>-5.756610</td>\n",
       "      <td>-21.358856</td>\n",
       "    </tr>\n",
       "    <tr>\n",
       "      <th>7483</th>\n",
       "      <td>27/06/2020</td>\n",
       "      <td>0.0</td>\n",
       "      <td>0.0</td>\n",
       "      <td>0.0</td>\n",
       "      <td>0.0</td>\n",
       "      <td>0.0</td>\n",
       "      <td>-38.38</td>\n",
       "      <td>-51.89</td>\n",
       "      <td>-303.27</td>\n",
       "      <td>20.50</td>\n",
       "      <td>17.95</td>\n",
       "      <td>18.85</td>\n",
       "      <td>-0.359942</td>\n",
       "      <td>-2.925253</td>\n",
       "      <td>-5.756610</td>\n",
       "      <td>-21.358856</td>\n",
       "    </tr>\n",
       "    <tr>\n",
       "      <th>7484</th>\n",
       "      <td>28/06/2020</td>\n",
       "      <td>0.0</td>\n",
       "      <td>0.0</td>\n",
       "      <td>0.0</td>\n",
       "      <td>0.0</td>\n",
       "      <td>0.0</td>\n",
       "      <td>-38.38</td>\n",
       "      <td>-51.89</td>\n",
       "      <td>-303.27</td>\n",
       "      <td>22.10</td>\n",
       "      <td>19.90</td>\n",
       "      <td>20.45</td>\n",
       "      <td>-0.341945</td>\n",
       "      <td>-2.778991</td>\n",
       "      <td>-5.468780</td>\n",
       "      <td>-20.290913</td>\n",
       "    </tr>\n",
       "    <tr>\n",
       "      <th>7485</th>\n",
       "      <td>29/06/2020</td>\n",
       "      <td>0.0</td>\n",
       "      <td>0.0</td>\n",
       "      <td>0.0</td>\n",
       "      <td>0.0</td>\n",
       "      <td>0.0</td>\n",
       "      <td>-38.37</td>\n",
       "      <td>-51.89</td>\n",
       "      <td>-303.28</td>\n",
       "      <td>22.45</td>\n",
       "      <td>20.15</td>\n",
       "      <td>20.20</td>\n",
       "      <td>-0.359942</td>\n",
       "      <td>-2.925253</td>\n",
       "      <td>-5.756610</td>\n",
       "      <td>-21.358856</td>\n",
       "    </tr>\n",
       "    <tr>\n",
       "      <th>7486</th>\n",
       "      <td>30/06/2020</td>\n",
       "      <td>0.0</td>\n",
       "      <td>0.0</td>\n",
       "      <td>0.0</td>\n",
       "      <td>0.0</td>\n",
       "      <td>0.0</td>\n",
       "      <td>-38.37</td>\n",
       "      <td>-51.89</td>\n",
       "      <td>-303.27</td>\n",
       "      <td>22.00</td>\n",
       "      <td>20.35</td>\n",
       "      <td>21.10</td>\n",
       "      <td>-0.359942</td>\n",
       "      <td>-2.925253</td>\n",
       "      <td>-5.756610</td>\n",
       "      <td>-21.358856</td>\n",
       "    </tr>\n",
       "  </tbody>\n",
       "</table>\n",
       "<p>2008 rows × 16 columns</p>\n",
       "</div>"
      ],
      "text/plain": [
       "            Date  Rainfall_Castel_del_Piano  Rainfall_Abbadia_S_Salvatore  \\\n",
       "5479  01/01/2015                        0.0                           0.0   \n",
       "5480  02/01/2015                        0.0                           0.0   \n",
       "5481  03/01/2015                        0.0                           0.0   \n",
       "5482  04/01/2015                        0.0                           0.0   \n",
       "5483  05/01/2015                        0.0                           0.0   \n",
       "...          ...                        ...                           ...   \n",
       "7482  26/06/2020                        0.0                           0.0   \n",
       "7483  27/06/2020                        0.0                           0.0   \n",
       "7484  28/06/2020                        0.0                           0.0   \n",
       "7485  29/06/2020                        0.0                           0.0   \n",
       "7486  30/06/2020                        0.0                           0.0   \n",
       "\n",
       "      Rainfall_S_Fiora  Rainfall_Laghetto_Verde  Rainfall_Vetta_Amiata  \\\n",
       "5479               NaN                      0.0                    0.0   \n",
       "5480               NaN                      0.0                    0.0   \n",
       "5481               NaN                      0.0                    0.0   \n",
       "5482               NaN                      0.0                    0.0   \n",
       "5483               NaN                      0.0                    0.0   \n",
       "...                ...                      ...                    ...   \n",
       "7482               0.0                      0.0                    0.0   \n",
       "7483               0.0                      0.0                    0.0   \n",
       "7484               0.0                      0.0                    0.0   \n",
       "7485               0.0                      0.0                    0.0   \n",
       "7486               0.0                      0.0                    0.0   \n",
       "\n",
       "      Depth_to_Groundwater_S_Fiora_8  Depth_to_Groundwater_S_Fiora_11bis  \\\n",
       "5479                          -36.57                              -50.65   \n",
       "5480                          -36.58                              -50.65   \n",
       "5481                          -36.58                              -50.64   \n",
       "5482                          -36.58                              -50.64   \n",
       "5483                          -36.58                              -50.52   \n",
       "...                              ...                                 ...   \n",
       "7482                          -38.38                              -51.89   \n",
       "7483                          -38.38                              -51.89   \n",
       "7484                          -38.38                              -51.89   \n",
       "7485                          -38.37                              -51.89   \n",
       "7486                          -38.37                              -51.89   \n",
       "\n",
       "      Depth_to_Groundwater_David_Lazzaretti  Temperature_Abbadia_S_Salvatore  \\\n",
       "5479                                -292.95                            -2.30   \n",
       "5480                                -292.93                             6.15   \n",
       "5481                                -292.97                             6.30   \n",
       "5482                                -293.03                             7.90   \n",
       "5483                                -293.00                             4.05   \n",
       "...                                     ...                              ...   \n",
       "7482                                -303.27                            20.70   \n",
       "7483                                -303.27                            20.50   \n",
       "7484                                -303.27                            22.10   \n",
       "7485                                -303.28                            22.45   \n",
       "7486                                -303.27                            22.00   \n",
       "\n",
       "      Temperature_S_Fiora  Temperature_Laghetto_Verde  Flow_Rate_Bugnano  \\\n",
       "5479                -2.40                       -2.25           0.000000   \n",
       "5480                 3.60                        5.40           0.000000   \n",
       "5481                 5.25                        4.55           0.000000   \n",
       "5482                 5.45                        7.25           0.000000   \n",
       "5483                 3.30                        2.90           0.000000   \n",
       "...                   ...                         ...                ...   \n",
       "7482                18.30                       19.20          -0.359942   \n",
       "7483                17.95                       18.85          -0.359942   \n",
       "7484                19.90                       20.45          -0.341945   \n",
       "7485                20.15                       20.20          -0.359942   \n",
       "7486                20.35                       21.10          -0.359942   \n",
       "\n",
       "      Flow_Rate_Arbure  Flow_Rate_Ermicciolo  Flow_Rate_Galleria_Alta  \n",
       "5479          0.000000             -5.906212               -23.510146  \n",
       "5480          0.000000             -5.906212               -23.510146  \n",
       "5481          0.000000             -5.906212               -23.510146  \n",
       "5482          0.000000             -5.610902               -22.334638  \n",
       "5483          0.000000             -5.906212               -23.510146  \n",
       "...                ...                   ...                      ...  \n",
       "7482         -2.925253             -5.756610               -21.358856  \n",
       "7483         -2.925253             -5.756610               -21.358856  \n",
       "7484         -2.778991             -5.468780               -20.290913  \n",
       "7485         -2.925253             -5.756610               -21.358856  \n",
       "7486         -2.925253             -5.756610               -21.358856  \n",
       "\n",
       "[2008 rows x 16 columns]"
      ]
     },
     "execution_count": 42,
     "metadata": {},
     "output_type": "execute_result"
    }
   ],
   "source": [
    "Water_Spring_Amiata.drop(Water_Spring_Amiata.index[0:5479], inplace=True)\n",
    "Water_Spring_Amiata"
   ]
  },
  {
   "cell_type": "code",
   "execution_count": 43,
   "metadata": {},
   "outputs": [
    {
     "data": {
      "text/plain": [
       "<AxesSubplot:>"
      ]
     },
     "execution_count": 43,
     "metadata": {},
     "output_type": "execute_result"
    },
    {
     "data": {
      "image/png": "[encoded data removed]",
      "text/plain": [
       "<Figure size 432x288 with 1 Axes>"
      ]
     },
     "metadata": {
      "needs_background": "light"
     },
     "output_type": "display_data"
    }
   ],
   "source": [
    "sns.heatmap(Water_Spring_Amiata.isnull(),yticklabels=False,cbar=False)"
   ]
  },
  {
   "cell_type": "code",
   "execution_count": 44,
   "metadata": {},
   "outputs": [],
   "source": [
    "data=Water_Spring_Amiata.copy()\n",
    "data.drop('Date',axis=1,inplace=True)"
   ]
  },
  {
   "cell_type": "markdown",
   "metadata": {},
   "source": [
    "### Feature Selection"
   ]
  },
  {
   "cell_type": "code",
   "execution_count": 45,
   "metadata": {},
   "outputs": [
    {
     "data": {
      "text/plain": [
       "<AxesSubplot:>"
      ]
     },
     "execution_count": 45,
     "metadata": {},
     "output_type": "execute_result"
    },
    {
     "data": {
      "image/png": "[encoded data removed]",
      "text/plain": [
       "<Figure size 432x288 with 2 Axes>"
      ]
     },
     "metadata": {
      "needs_background": "light"
     },
     "output_type": "display_data"
    }
   ],
   "source": [
    "sns.heatmap(data.corr())"
   ]
  },
  {
   "cell_type": "code",
   "execution_count": 46,
   "metadata": {},
   "outputs": [
    {
     "name": "stdout",
     "output_type": "stream",
     "text": [
      "Rainfall_Abbadia_S_Salvatore 12.1016 % missing \n",
      "Rainfall_S_Fiora 18.1275 % missing \n",
      "Rainfall_Laghetto_Verde 0.1494 % missing \n",
      "Rainfall_Vetta_Amiata 0.3486 % missing \n",
      "Depth_to_Groundwater_S_Fiora_8 29.6813 % missing \n",
      "Depth_to_Groundwater_S_Fiora_11bis 25.5478 % missing \n",
      "Depth_to_Groundwater_David_Lazzaretti 0.5976 % missing \n",
      "Temperature_Abbadia_S_Salvatore 12.2012 % missing \n",
      "Temperature_Laghetto_Verde 0.1494 % missing \n"
     ]
    }
   ],
   "source": [
    "file = Water_Spring_Amiata\n",
    "features_nan=[features for features in file.columns if file[features].isnull().sum()>1 and file[features].dtypes!='O']\n",
    "for feature in features_nan:\n",
    "    print(feature, np.round(file[feature].isnull().mean()*100,4),'% missing ')"
   ]
  },
  {
   "cell_type": "markdown",
   "metadata": {},
   "source": [
    "### Imputation"
   ]
  },
  {
   "cell_type": "code",
   "execution_count": 47,
   "metadata": {},
   "outputs": [],
   "source": [
    "def cal(x):\n",
    "    null_values=x.isnull().sum()\n",
    "    count_values=x.value_counts().unique\n",
    "    mean=x.mean()\n",
    "    median=x.median()\n",
    "    mode=x.mode()\n",
    "    print('null_values: ',null_values,'count_values: ', count_values, 'mean: ',mean,'median: ', median,'mode: ',mode, sep=' \\n  ' )\n",
    "    return"
   ]
  },
  {
   "cell_type": "markdown",
   "metadata": {},
   "source": [
    "Rainfall_Abbadia_S_Salvatore"
   ]
  },
  {
   "cell_type": "code",
   "execution_count": 48,
   "metadata": {},
   "outputs": [
    {
     "name": "stdout",
     "output_type": "stream",
     "text": [
      "null_values:  \n",
      "  243 \n",
      "  count_values:  \n",
      "  <bound method Series.unique of 0.0     1155\n",
      "0.2       66\n",
      "0.4       40\n",
      "0.6       23\n",
      "1.0       16\n",
      "        ... \n",
      "56.8       1\n",
      "31.4       1\n",
      "47.6       1\n",
      "55.2       1\n",
      "68.4       1\n",
      "Name: Rainfall_Abbadia_S_Salvatore, Length: 227, dtype: int64> \n",
      "  mean:  \n",
      "  3.840963172804528 \n",
      "  median:  \n",
      "  0.0 \n",
      "  mode:  \n",
      "  0    0.0\n",
      "dtype: float64\n"
     ]
    }
   ],
   "source": [
    "x=file['Rainfall_Abbadia_S_Salvatore']\n",
    "cal(x)"
   ]
  },
  {
   "cell_type": "code",
   "execution_count": 49,
   "metadata": {},
   "outputs": [],
   "source": [
    "file['Rainfall_Abbadia_S_Salvatore']=file['Rainfall_Abbadia_S_Salvatore'].median()"
   ]
  },
  {
   "cell_type": "markdown",
   "metadata": {},
   "source": [
    "Rainfall_S_Fiora"
   ]
  },
  {
   "cell_type": "code",
   "execution_count": 50,
   "metadata": {},
   "outputs": [
    {
     "name": "stdout",
     "output_type": "stream",
     "text": [
      "null_values:  \n",
      "  364 \n",
      "  count_values:  \n",
      "  <bound method Series.unique of 0.0     1001\n",
      "0.2      135\n",
      "0.4       39\n",
      "0.6       29\n",
      "1.0       16\n",
      "        ... \n",
      "98.0       1\n",
      "27.6       1\n",
      "28.2       1\n",
      "41.2       1\n",
      "28.8       1\n",
      "Name: Rainfall_S_Fiora, Length: 166, dtype: int64> \n",
      "  mean:  \n",
      "  3.6633819951338147 \n",
      "  median:  \n",
      "  0.0 \n",
      "  mode:  \n",
      "  0    0.0\n",
      "dtype: float64\n"
     ]
    }
   ],
   "source": [
    "x=file['Rainfall_S_Fiora']\n",
    "cal(x)"
   ]
  },
  {
   "cell_type": "code",
   "execution_count": 51,
   "metadata": {},
   "outputs": [],
   "source": [
    "file['Rainfall_S_Fiora']=file['Rainfall_S_Fiora'].median()"
   ]
  },
  {
   "cell_type": "markdown",
   "metadata": {},
   "source": [
    "Rainfall_Laghetto_Verde"
   ]
  },
  {
   "cell_type": "code",
   "execution_count": 52,
   "metadata": {},
   "outputs": [
    {
     "name": "stdout",
     "output_type": "stream",
     "text": [
      "null_values:  \n",
      "  3 \n",
      "  count_values:  \n",
      "  <bound method Series.unique of 0.0     1116\n",
      "0.2      194\n",
      "0.4       69\n",
      "0.6       25\n",
      "0.8       24\n",
      "        ... \n",
      "25.6       1\n",
      "26.2       1\n",
      "55.8       1\n",
      "12.8       1\n",
      "25.0       1\n",
      "Name: Rainfall_Laghetto_Verde, Length: 204, dtype: int64> \n",
      "  mean:  \n",
      "  4.433516209476299 \n",
      "  median:  \n",
      "  0.0 \n",
      "  mode:  \n",
      "  0    0.0\n",
      "dtype: float64\n"
     ]
    }
   ],
   "source": [
    "x=file['Rainfall_Laghetto_Verde']\n",
    "cal(x)"
   ]
  },
  {
   "cell_type": "code",
   "execution_count": 53,
   "metadata": {},
   "outputs": [],
   "source": [
    "file['Rainfall_Laghetto_Verde']=file['Rainfall_Laghetto_Verde'].median()"
   ]
  },
  {
   "cell_type": "markdown",
   "metadata": {},
   "source": [
    "Rainfall_Vetta_Amiata"
   ]
  },
  {
   "cell_type": "code",
   "execution_count": 54,
   "metadata": {},
   "outputs": [
    {
     "name": "stdout",
     "output_type": "stream",
     "text": [
      "null_values:  \n",
      "  7 \n",
      "  count_values:  \n",
      "  <bound method Series.unique of 0.0     1138\n",
      "0.2      162\n",
      "0.4       76\n",
      "1.0       32\n",
      "0.6       31\n",
      "        ... \n",
      "61.8       1\n",
      "51.6       1\n",
      "27.8       1\n",
      "62.2       1\n",
      "21.2       1\n",
      "Name: Rainfall_Vetta_Amiata, Length: 151, dtype: int64> \n",
      "  mean:  \n",
      "  2.8247876061968884 \n",
      "  median:  \n",
      "  0.0 \n",
      "  mode:  \n",
      "  0    0.0\n",
      "dtype: float64\n"
     ]
    }
   ],
   "source": [
    "x=file['Rainfall_Vetta_Amiata']\n",
    "cal(x)"
   ]
  },
  {
   "cell_type": "code",
   "execution_count": 55,
   "metadata": {},
   "outputs": [],
   "source": [
    "file['Rainfall_Vetta_Amiata']=file['Rainfall_Vetta_Amiata'].median()"
   ]
  },
  {
   "cell_type": "markdown",
   "metadata": {},
   "source": [
    "Depth_to_Groundwater_S_Fiora_8"
   ]
  },
  {
   "cell_type": "code",
   "execution_count": 56,
   "metadata": {},
   "outputs": [
    {
     "name": "stdout",
     "output_type": "stream",
     "text": [
      "null_values:  \n",
      "  596 \n",
      "  count_values:  \n",
      "  <bound method Series.unique of -39.53    38\n",
      "-39.43    34\n",
      "-39.56    33\n",
      "-39.55    33\n",
      "-36.56    30\n",
      "          ..\n",
      "-38.61     1\n",
      "-37.01     1\n",
      "-36.83     1\n",
      "-37.49     1\n",
      "-38.25     1\n",
      "Name: Depth_to_Groundwater_S_Fiora_8, Length: 254, dtype: int64> \n",
      "  mean:  \n",
      "  -38.10117563739384 \n",
      "  median:  \n",
      "  -38.114999999999995 \n",
      "  mode:  \n",
      "  0   -39.53\n",
      "dtype: float64\n"
     ]
    }
   ],
   "source": [
    "x=file['Depth_to_Groundwater_S_Fiora_8']\n",
    "cal(x)"
   ]
  },
  {
   "cell_type": "code",
   "execution_count": 57,
   "metadata": {},
   "outputs": [],
   "source": [
    "file['Depth_to_Groundwater_S_Fiora_8']=file['Depth_to_Groundwater_S_Fiora_8'].median()"
   ]
  },
  {
   "cell_type": "markdown",
   "metadata": {},
   "source": [
    "Depth_to_Groundwater_S_Fiora_11bis"
   ]
  },
  {
   "cell_type": "code",
   "execution_count": 58,
   "metadata": {},
   "outputs": [
    {
     "name": "stdout",
     "output_type": "stream",
     "text": [
      "null_values:  \n",
      "  513 \n",
      "  count_values:  \n",
      "  <bound method Series.unique of -52.77    57\n",
      "-52.78    53\n",
      "-52.72    47\n",
      "-52.79    45\n",
      "-50.39    40\n",
      "          ..\n",
      "-52.43     1\n",
      "-51.67     1\n",
      "-52.40     1\n",
      "-50.86     1\n",
      "-52.68     1\n",
      "Name: Depth_to_Groundwater_S_Fiora_11bis, Length: 218, dtype: int64> \n",
      "  mean:  \n",
      "  -51.601866220735744 \n",
      "  median:  \n",
      "  -51.53 \n",
      "  mode:  \n",
      "  0   -52.77\n",
      "dtype: float64\n"
     ]
    }
   ],
   "source": [
    "x=file['Depth_to_Groundwater_S_Fiora_11bis']\n",
    "cal(x)"
   ]
  },
  {
   "cell_type": "code",
   "execution_count": 59,
   "metadata": {},
   "outputs": [],
   "source": [
    "file['Depth_to_Groundwater_S_Fiora_11bis']=file['Depth_to_Groundwater_S_Fiora_11bis'].median()"
   ]
  },
  {
   "cell_type": "markdown",
   "metadata": {},
   "source": [
    "Depth_to_Groundwater_David_Lazzaretti"
   ]
  },
  {
   "cell_type": "code",
   "execution_count": 60,
   "metadata": {},
   "outputs": [
    {
     "name": "stdout",
     "output_type": "stream",
     "text": [
      "null_values:  \n",
      "  12 \n",
      "  count_values:  \n",
      "  <bound method Series.unique of -312.95    15\n",
      "-312.90    10\n",
      "-313.00    10\n",
      "-312.85     9\n",
      "-312.89     9\n",
      "           ..\n",
      "-300.94     1\n",
      "-300.97     1\n",
      "-300.96     1\n",
      "-301.00     1\n",
      "-303.28     1\n",
      "Name: Depth_to_Groundwater_David_Lazzaretti, Length: 1178, dtype: int64> \n",
      "  mean:  \n",
      "  -304.5268136272548 \n",
      "  median:  \n",
      "  -306.06 \n",
      "  mode:  \n",
      "  0   -312.95\n",
      "dtype: float64\n"
     ]
    }
   ],
   "source": [
    "x=file['Depth_to_Groundwater_David_Lazzaretti']\n",
    "cal(x)"
   ]
  },
  {
   "cell_type": "code",
   "execution_count": 61,
   "metadata": {},
   "outputs": [],
   "source": [
    "file['Depth_to_Groundwater_David_Lazzaretti']=file['Depth_to_Groundwater_David_Lazzaretti'].median()"
   ]
  },
  {
   "cell_type": "markdown",
   "metadata": {},
   "source": [
    "Temperature_Abbadia_S_Salvatore"
   ]
  },
  {
   "cell_type": "code",
   "execution_count": 62,
   "metadata": {},
   "outputs": [
    {
     "name": "stdout",
     "output_type": "stream",
     "text": [
      "null_values:  \n",
      "  245 \n",
      "  count_values:  \n",
      "  <bound method Series.unique of 11.00    10\n",
      "6.95     10\n",
      "5.00     10\n",
      "15.35    10\n",
      "7.25      9\n",
      "         ..\n",
      "29.10     1\n",
      "27.90     1\n",
      "26.35     1\n",
      "19.60     1\n",
      "21.45     1\n",
      "Name: Temperature_Abbadia_S_Salvatore, Length: 546, dtype: int64> \n",
      "  mean:  \n",
      "  12.381622234826994 \n",
      "  median:  \n",
      "  11.85 \n",
      "  mode:  \n",
      "  0     5.00\n",
      "1     6.95\n",
      "2    11.00\n",
      "3    15.35\n",
      "dtype: float64\n"
     ]
    }
   ],
   "source": [
    "x=file['Temperature_Abbadia_S_Salvatore']\n",
    "cal(x)"
   ]
  },
  {
   "cell_type": "code",
   "execution_count": 63,
   "metadata": {},
   "outputs": [],
   "source": [
    "file['Temperature_Abbadia_S_Salvatore']=file['Temperature_Abbadia_S_Salvatore'].median()"
   ]
  },
  {
   "cell_type": "markdown",
   "metadata": {},
   "source": [
    "Temperature_Laghetto_Verde"
   ]
  },
  {
   "cell_type": "code",
   "execution_count": 64,
   "metadata": {},
   "outputs": [
    {
     "name": "stdout",
     "output_type": "stream",
     "text": [
      "null_values:  \n",
      "  3 \n",
      "  count_values:  \n",
      "  <bound method Series.unique of 5.05     14\n",
      "4.35     11\n",
      "6.30     11\n",
      "13.80    11\n",
      "5.60     10\n",
      "         ..\n",
      "17.25     1\n",
      "10.25     1\n",
      "8.10      1\n",
      "1.80      1\n",
      "17.30     1\n",
      "Name: Temperature_Laghetto_Verde, Length: 518, dtype: int64> \n",
      "  mean:  \n",
      "  11.067905236907738 \n",
      "  median:  \n",
      "  10.55 \n",
      "  mode:  \n",
      "  0    5.05\n",
      "dtype: float64\n"
     ]
    }
   ],
   "source": [
    "x=file['Temperature_Laghetto_Verde']\n",
    "cal(x)"
   ]
  },
  {
   "cell_type": "code",
   "execution_count": 65,
   "metadata": {},
   "outputs": [],
   "source": [
    "file['Temperature_Laghetto_Verde']=file['Temperature_Laghetto_Verde'].median()"
   ]
  },
  {
   "cell_type": "code",
   "execution_count": 67,
   "metadata": {},
   "outputs": [
    {
     "data": {
      "text/plain": [
       "Date                                     0\n",
       "Rainfall_Castel_del_Piano                0\n",
       "Rainfall_Abbadia_S_Salvatore             0\n",
       "Rainfall_S_Fiora                         0\n",
       "Rainfall_Laghetto_Verde                  0\n",
       "Rainfall_Vetta_Amiata                    0\n",
       "Depth_to_Groundwater_S_Fiora_8           0\n",
       "Depth_to_Groundwater_S_Fiora_11bis       0\n",
       "Depth_to_Groundwater_David_Lazzaretti    0\n",
       "Temperature_Abbadia_S_Salvatore          0\n",
       "Temperature_S_Fiora                      0\n",
       "Temperature_Laghetto_Verde               0\n",
       "Flow_Rate_Bugnano                        0\n",
       "Flow_Rate_Arbure                         0\n",
       "Flow_Rate_Ermicciolo                     0\n",
       "Flow_Rate_Galleria_Alta                  0\n",
       "dtype: int64"
      ]
     },
     "execution_count": 67,
     "metadata": {},
     "output_type": "execute_result"
    }
   ],
   "source": [
    "file.isnull().sum()"
   ]
  }
 ],
 "metadata": {
  "interpreter": {
   "hash": "8e98eea00a698c66ff9007bd5a8bf6209cdaa78d416205c57d24ef9296d8223a"
  },
  "kernelspec": {
   "display_name": "Python 3.8.12 64-bit ('strive': conda)",
   "language": "python",
   "name": "python3"
  },
  "language_info": {
   "codemirror_mode": {
    "name": "ipython",
    "version": 3
   },
   "file_extension": ".py",
   "mimetype": "text/x-python",
   "name": "python",
   "nbconvert_exporter": "python",
   "pygments_lexer": "ipython3",
   "version": "3.8.12"
  },
  "orig_nbformat": 4
 },
 "nbformat": 4,
 "nbformat_minor": 2
}
